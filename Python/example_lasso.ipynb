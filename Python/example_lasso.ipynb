{
 "cells": [
  {
   "cell_type": "markdown",
   "metadata": {},
   "source": [
    "# Analysis of patterened ground data"
   ]
  },
  {
   "cell_type": "code",
   "execution_count": 8,
   "metadata": {},
   "outputs": [],
   "source": [
    "import pandas as pd\n",
    "import numpy as np\n",
    "import seaborn as sns\n",
    "from scipy.stats import f_oneway\n",
    "from scipy import stats\n",
    "import statsmodels.api as sm\n",
    "from statsmodels.formula.api import ols\n",
    "from sklearn import preprocessing\n",
    "from sklearn.preprocessing import StandardScaler\n",
    "from sklearn.decomposition import PCA\n",
    "import matplotlib.pyplot as plt\n",
    "from skbio.stats.distance import permanova\n",
    "from collections import Counter\n",
    "from sklearn.linear_model import LassoCV\n",
    "from sklearn.linear_model import Lasso"
   ]
  },
  {
   "cell_type": "code",
   "execution_count": 9,
   "metadata": {},
   "outputs": [
    {
     "data": {
      "text/html": [
       "<div>\n",
       "<style scoped>\n",
       "    .dataframe tbody tr th:only-of-type {\n",
       "        vertical-align: middle;\n",
       "    }\n",
       "\n",
       "    .dataframe tbody tr th {\n",
       "        vertical-align: top;\n",
       "    }\n",
       "\n",
       "    .dataframe thead th {\n",
       "        text-align: right;\n",
       "    }\n",
       "</style>\n",
       "<table border=\"1\" class=\"dataframe\">\n",
       "  <thead>\n",
       "    <tr style=\"text-align: right;\">\n",
       "      <th></th>\n",
       "      <th>LinkerPrimerSequence</th>\n",
       "      <th>BarcodeSequence</th>\n",
       "      <th>Landform</th>\n",
       "      <th>Pit</th>\n",
       "      <th>Landform.1</th>\n",
       "      <th>ID</th>\n",
       "      <th>Depth(cm)</th>\n",
       "      <th>Depth_category</th>\n",
       "      <th>Depth_PG_M</th>\n",
       "      <th>x</th>\n",
       "      <th>...</th>\n",
       "      <th>CBH_umol/cm^2 SF C</th>\n",
       "      <th>PHOS_umol/cm^2 SF C</th>\n",
       "      <th>NAG_umol/cm^2 SF C</th>\n",
       "      <th>BX_umol/cm^2 SF C</th>\n",
       "      <th>AG_umol/cm^2 SF C</th>\n",
       "      <th>LAP_umol/cm^2 SF C</th>\n",
       "      <th>C (kg/m^2)</th>\n",
       "      <th>org C (kg/m^2)</th>\n",
       "      <th>C_kg_m_2</th>\n",
       "      <th>N_kg_m_2</th>\n",
       "    </tr>\n",
       "    <tr>\n",
       "      <th>#SampleID</th>\n",
       "      <th></th>\n",
       "      <th></th>\n",
       "      <th></th>\n",
       "      <th></th>\n",
       "      <th></th>\n",
       "      <th></th>\n",
       "      <th></th>\n",
       "      <th></th>\n",
       "      <th></th>\n",
       "      <th></th>\n",
       "      <th></th>\n",
       "      <th></th>\n",
       "      <th></th>\n",
       "      <th></th>\n",
       "      <th></th>\n",
       "      <th></th>\n",
       "      <th></th>\n",
       "      <th></th>\n",
       "      <th></th>\n",
       "      <th></th>\n",
       "      <th></th>\n",
       "    </tr>\n",
       "  </thead>\n",
       "  <tbody>\n",
       "    <tr>\n",
       "      <th>M-SS2-11</th>\n",
       "      <td>GTGCCAGCMGCCGCGGTAA</td>\n",
       "      <td>ACTACGTGTGGT</td>\n",
       "      <td>M</td>\n",
       "      <td>M1</td>\n",
       "      <td>M</td>\n",
       "      <td>5</td>\n",
       "      <td>11</td>\n",
       "      <td>A</td>\n",
       "      <td>MA</td>\n",
       "      <td>-106.3302</td>\n",
       "      <td>...</td>\n",
       "      <td>NaN</td>\n",
       "      <td>NaN</td>\n",
       "      <td>NaN</td>\n",
       "      <td>NaN</td>\n",
       "      <td>NaN</td>\n",
       "      <td>NaN</td>\n",
       "      <td>2.294039</td>\n",
       "      <td>12.754855</td>\n",
       "      <td>2.294039</td>\n",
       "      <td>0.206733</td>\n",
       "    </tr>\n",
       "    <tr>\n",
       "      <th>M-SS2-130</th>\n",
       "      <td>GTGCCAGCMGCCGCGGTAZA</td>\n",
       "      <td>CCTCTCGTGATC</td>\n",
       "      <td>M</td>\n",
       "      <td>M1</td>\n",
       "      <td>M</td>\n",
       "      <td>8</td>\n",
       "      <td>130</td>\n",
       "      <td>B</td>\n",
       "      <td>MB</td>\n",
       "      <td>-106.3302</td>\n",
       "      <td>...</td>\n",
       "      <td>0.000000</td>\n",
       "      <td>0.0</td>\n",
       "      <td>0.0</td>\n",
       "      <td>0.0</td>\n",
       "      <td>0.0</td>\n",
       "      <td>0.0</td>\n",
       "      <td>0.084524</td>\n",
       "      <td>0.145382</td>\n",
       "      <td>0.084524</td>\n",
       "      <td>0.000000</td>\n",
       "    </tr>\n",
       "    <tr>\n",
       "      <th>M-SS2-160</th>\n",
       "      <td>GTGCCAGCMGCCGCGGTAA</td>\n",
       "      <td>CATATCGCAGTT</td>\n",
       "      <td>M</td>\n",
       "      <td>M1</td>\n",
       "      <td>M</td>\n",
       "      <td>9</td>\n",
       "      <td>160</td>\n",
       "      <td>B</td>\n",
       "      <td>MB</td>\n",
       "      <td>-106.3302</td>\n",
       "      <td>...</td>\n",
       "      <td>NaN</td>\n",
       "      <td>NaN</td>\n",
       "      <td>NaN</td>\n",
       "      <td>NaN</td>\n",
       "      <td>NaN</td>\n",
       "      <td>NaN</td>\n",
       "      <td>0.197268</td>\n",
       "      <td>0.274203</td>\n",
       "      <td>0.197268</td>\n",
       "      <td>0.016439</td>\n",
       "    </tr>\n",
       "    <tr>\n",
       "      <th>M-SS2-30</th>\n",
       "      <td>GTGCCAGCMGCCGCGGTAA</td>\n",
       "      <td>AGCTGACTAGTC</td>\n",
       "      <td>M</td>\n",
       "      <td>M1</td>\n",
       "      <td>M</td>\n",
       "      <td>6</td>\n",
       "      <td>30</td>\n",
       "      <td>A</td>\n",
       "      <td>MA</td>\n",
       "      <td>-106.3302</td>\n",
       "      <td>...</td>\n",
       "      <td>0.000000</td>\n",
       "      <td>0.0</td>\n",
       "      <td>0.0</td>\n",
       "      <td>0.0</td>\n",
       "      <td>0.0</td>\n",
       "      <td>0.0</td>\n",
       "      <td>1.025437</td>\n",
       "      <td>1.261287</td>\n",
       "      <td>1.025437</td>\n",
       "      <td>0.083284</td>\n",
       "    </tr>\n",
       "    <tr>\n",
       "      <th>M-SS2-80</th>\n",
       "      <td>GTGCCAGCMGCCGCGGTAA</td>\n",
       "      <td>CCGACTGAGATG</td>\n",
       "      <td>M</td>\n",
       "      <td>M1</td>\n",
       "      <td>M</td>\n",
       "      <td>7</td>\n",
       "      <td>80</td>\n",
       "      <td>B</td>\n",
       "      <td>MB</td>\n",
       "      <td>-106.3302</td>\n",
       "      <td>...</td>\n",
       "      <td>189.976736</td>\n",
       "      <td>0.0</td>\n",
       "      <td>0.0</td>\n",
       "      <td>0.0</td>\n",
       "      <td>0.0</td>\n",
       "      <td>0.0</td>\n",
       "      <td>1.201094</td>\n",
       "      <td>1.405281</td>\n",
       "      <td>1.201094</td>\n",
       "      <td>0.090894</td>\n",
       "    </tr>\n",
       "  </tbody>\n",
       "</table>\n",
       "<p>5 rows × 66 columns</p>\n",
       "</div>"
      ],
      "text/plain": [
       "           LinkerPrimerSequence BarcodeSequence Landform Pit Landform.1  ID  \\\n",
       "#SampleID                                                                     \n",
       "M-SS2-11    GTGCCAGCMGCCGCGGTAA    ACTACGTGTGGT        M  M1          M   5   \n",
       "M-SS2-130  GTGCCAGCMGCCGCGGTAZA    CCTCTCGTGATC        M  M1          M   8   \n",
       "M-SS2-160   GTGCCAGCMGCCGCGGTAA    CATATCGCAGTT        M  M1          M   9   \n",
       "M-SS2-30    GTGCCAGCMGCCGCGGTAA    AGCTGACTAGTC        M  M1          M   6   \n",
       "M-SS2-80    GTGCCAGCMGCCGCGGTAA    CCGACTGAGATG        M  M1          M   7   \n",
       "\n",
       "           Depth(cm) Depth_category Depth_PG_M         x  ...  \\\n",
       "#SampleID                                                 ...   \n",
       "M-SS2-11          11              A         MA -106.3302  ...   \n",
       "M-SS2-130        130              B         MB -106.3302  ...   \n",
       "M-SS2-160        160              B         MB -106.3302  ...   \n",
       "M-SS2-30          30              A         MA -106.3302  ...   \n",
       "M-SS2-80          80              B         MB -106.3302  ...   \n",
       "\n",
       "           CBH_umol/cm^2 SF C PHOS_umol/cm^2 SF C  NAG_umol/cm^2 SF C  \\\n",
       "#SampleID                                                               \n",
       "M-SS2-11                  NaN                 NaN                 NaN   \n",
       "M-SS2-130            0.000000                 0.0                 0.0   \n",
       "M-SS2-160                 NaN                 NaN                 NaN   \n",
       "M-SS2-30             0.000000                 0.0                 0.0   \n",
       "M-SS2-80           189.976736                 0.0                 0.0   \n",
       "\n",
       "          BX_umol/cm^2 SF C  AG_umol/cm^2 SF C  LAP_umol/cm^2 SF C  \\\n",
       "#SampleID                                                            \n",
       "M-SS2-11                NaN                NaN                 NaN   \n",
       "M-SS2-130               0.0                0.0                 0.0   \n",
       "M-SS2-160               NaN                NaN                 NaN   \n",
       "M-SS2-30                0.0                0.0                 0.0   \n",
       "M-SS2-80                0.0                0.0                 0.0   \n",
       "\n",
       "           C (kg/m^2)  org C (kg/m^2)  C_kg_m_2  N_kg_m_2  \n",
       "#SampleID                                                  \n",
       "M-SS2-11     2.294039       12.754855  2.294039  0.206733  \n",
       "M-SS2-130    0.084524        0.145382  0.084524  0.000000  \n",
       "M-SS2-160    0.197268        0.274203  0.197268  0.016439  \n",
       "M-SS2-30     1.025437        1.261287  1.025437  0.083284  \n",
       "M-SS2-80     1.201094        1.405281  1.201094  0.090894  \n",
       "\n",
       "[5 rows x 66 columns]"
      ]
     },
     "execution_count": 9,
     "metadata": {},
     "output_type": "execute_result"
    }
   ],
   "source": [
    "map_df = pd.read_csv('../Bioinformatics/mapping_file/Final_mapping_file.csv', index_col = 0, skiprows=[1])\n",
    "map_df.sort_index(inplace = True)\n",
    "# map_df.at['PG-PG3-8', 'BG_umol/cm^2 SF C'] = 0\n",
    "# already preformed the below code\n",
    "map_df['C_kg_m_2'] = map_df['C (g/m^2)']/1000\n",
    "map_df['N_kg_m_2'] = map_df['N (g/m^2)']/1000\n",
    "# data['org C (kg/m^2)'] = data['C (kg/m^2)']*data['% Org C']\n",
    "# data.to_csv('../Bioinformatics/mapping_file/Data_Compiled.csv', index = False)\n",
    "map_df.head()"
   ]
  },
  {
   "cell_type": "code",
   "execution_count": 10,
   "metadata": {},
   "outputs": [],
   "source": [
    "features = ['BG_umol/cm^2 SF C',\n",
    "       'CBH_umol/cm^2 SF C', 'PHOS_umol/cm^2 SF C', 'NAG_umol/cm^2 SF C',\n",
    "       'BX_umol/cm^2 SF C', 'AG_umol/cm^2 SF C']\n",
    "map_df_na = map_df[features].dropna()\n",
    "# Separating out the features\n",
    "x = map_df_na.loc[:, features].values\n",
    "# Separating out the target\n",
    "# y = map_df.loc[:,['target']].values\n",
    "# Standardizing the features\n",
    "x = StandardScaler().fit_transform(x)\n",
    "pca = PCA(n_components=2)\n",
    "principalComponents = pca.fit_transform(x)\n",
    "principalDf = pd.DataFrame(data = principalComponents, index = map_df_na.index\n",
    "             , columns = ['PCA 1', 'PCA 2'])\n",
    "map_df = pd.concat([map_df, principalDf], axis = 1)"
   ]
  },
  {
   "cell_type": "code",
   "execution_count": 11,
   "metadata": {},
   "outputs": [],
   "source": [
    "stats_df = pd.DataFrame()\n",
    "columns_test = []\n",
    "test = []\n",
    "mean_right = []\n",
    "mean_left = []\n",
    "std_right = []\n",
    "std_left = []\n",
    "comparisons = {'M v PG':['M', 'PG'], 'MA v MB': ['MA','MB'], 'PGA v PGB':['PGA','PGB'], \n",
    "               'MA v PGA':['MA','PGA'], 'MB v PGB':['MB','PGB']}\n",
    "means ={0:[],1: []}\n",
    "lowers = {0:[],1: []}\n",
    "uppers = {0:[],1: []}\n",
    "columns = ['pH', 'Co2-C (ug/m^2) stone-free', 'PMC (ug/g soil)', 'Total C (mg/g soil)',\n",
    "    'Total N (mg/g soil)','BD (g/cm3)', '% total C', '% Minerals', '% OM',\n",
    "       '% Org C', 'org c (g/kg)', '% C', '% N', 'C:N',\n",
    "       'Post DOC (mg/ g soil)', 'Post DON (mg/ g soil)', 'C (g/m^2)',\n",
    "       'N (g/m^2)', 'D21 NH4 + NO3 avg/sample', 'NO3- (ug/g soil)',\n",
    "       '% Sand', '% Silt', '% Clay', 'BG_umol/cm^2 SF C', 'CBH_umol/cm^2 SF C', 'PHOS_umol/cm^2 SF C',\n",
    "       'NAG_umol/cm^2 SF C', 'BX_umol/cm^2 SF C', 'AG_umol/cm^2 SF C']\n",
    "for comparison in comparisons:\n",
    "    for column in map_df[columns]:\n",
    "        if comparison == 'M v PG':\n",
    "            category = 'Landform'\n",
    "        else:\n",
    "            category = 'Depth_PG_M'\n",
    "        left = map_df[map_df.index.isin(map_df[map_df[category] == comparisons[comparison][0]].index)][column]\n",
    "        right = map_df[map_df.index.isin(map_df[map_df[category] == comparisons[comparison][1]].index)][column]\n",
    "        mean_right.append(right.mean())\n",
    "        mean_left.append(left.mean())\n",
    "        std_right.append(right.std())\n",
    "        std_left.append(left.std())\n",
    "        columns_test.append(column)\n",
    "        test.append(comparison)\n",
    "\n",
    "stats_df['Columns'] = columns_test\n",
    "stats_df['Comparison'] = test\n",
    "stats_df['Left mean'] = mean_left\n",
    "stats_df['Left std'] = std_left\n",
    "stats_df['Right mean'] = mean_right\n",
    "stats_df['Right std'] = std_right\n",
    "# anova_df.sort_values('Statistic', ascending=False, inplace=True)\n",
    "stats_df.to_csv('../Statistics/mean_std.csv')"
   ]
  },
  {
   "cell_type": "code",
   "execution_count": 70,
   "metadata": {},
   "outputs": [
    {
     "data": {
      "text/plain": [
       "Index(['LinkerPrimerSequence', 'BarcodeSequence', 'Landform', 'Pit',\n",
       "       'Landform.1', 'ID', 'Depth(cm)', 'Depth_category', 'Depth_PG_M', 'x',\n",
       "       'y', 'date', 'year', 'year_landform', 'precip_1month', 'precip_2month',\n",
       "       'pH', 'Co2-C (ug/m^2) stone-free', 'PMC (ug/g soil)',\n",
       "       'Total C (mg/g soil)', 'Total N (mg/g soil)', 'Missing16S',\n",
       "       'MissingITS', 'BD (g/cm3)', '% total C', '% Minerals', '% OM',\n",
       "       '% Org C', 'org c (g/kg)', '% C', '% N', 'C:N', 'Post DOC (mg/ g soil)',\n",
       "       'Post DON (mg/ g soil)', 'C (g/m^2)', 'N (g/m^2)',\n",
       "       'D21 NH4 + NO3 avg/sample', 'NO3- (ug/g soil)', '% Sand', '% Silt',\n",
       "       '% Clay', 'BG_nmol/g/hr', 'CBH_nmol/g/hr', 'PHOS_nmol/g/hr',\n",
       "       'NAG_nmol/g/hr', 'BX_nmol/g/hr', 'AG_nmol/g/hr', 'LAP_nmol/g/hr',\n",
       "       'BG_umol/cm^2 stone-free', 'CBH_umol/cm^2 stone-free',\n",
       "       'PHOS_umol/cm^2 stone-free', 'NAG_umol/cm^2 stone-free',\n",
       "       'BX_umol/cm^2 stone-free', 'AG_umol/cm^2 stone-free',\n",
       "       'LAP_umol/cm^2 stone-free', 'BG_umol/cm^2 SF C', 'CBH_umol/cm^2 SF C',\n",
       "       'PHOS_umol/cm^2 SF C', 'NAG_umol/cm^2 SF C', 'BX_umol/cm^2 SF C',\n",
       "       'AG_umol/cm^2 SF C', 'LAP_umol/cm^2 SF C', 'C (kg/m^2)',\n",
       "       'org C (kg/m^2)', 'C_kg_m_2', 'N_kg_m_2', 'PCA 1', 'PCA 2', 'Enz C:P',\n",
       "       'Enz C:N', 'Enz N:P', 'PCA 1', 'PCA 2'],\n",
       "      dtype='object')"
      ]
     },
     "execution_count": 70,
     "metadata": {},
     "output_type": "execute_result"
    }
   ],
   "source": [
    "map_df.columns"
   ]
  },
  {
   "cell_type": "code",
   "execution_count": 71,
   "metadata": {},
   "outputs": [
    {
     "name": "stderr",
     "output_type": "stream",
     "text": [
      "/home/bostevens/anaconda3/envs/py36/lib/python3.6/site-packages/seaborn/_decorators.py:43: FutureWarning: Pass the following variables as keyword args: x, y. From version 0.12, the only valid positional argument will be `data`, and passing other arguments without an explicit keyword will result in an error or misinterpretation.\n",
      "  FutureWarning\n"
     ]
    },
    {
     "data": {
      "text/plain": [
       "<seaborn.axisgrid.FacetGrid at 0x7f499132ab00>"
      ]
     },
     "execution_count": 71,
     "metadata": {},
     "output_type": "execute_result"
    },
    {
     "data": {
      "image/png": "[encoded data removed]",
      "text/plain": [
       "<Figure size 415.625x360 with 1 Axes>"
      ]
     },
     "metadata": {
      "needs_background": "light"
     },
     "output_type": "display_data"
    }
   ],
   "source": [
    "sns.lmplot('% Org C','CBH_nmol/g/hr', hue = 'Landform', data = map_df)"
   ]
  },
  {
   "cell_type": "code",
   "execution_count": 13,
   "metadata": {},
   "outputs": [
    {
     "data": {
      "text/plain": [
       "Index(['LinkerPrimerSequence', 'BarcodeSequence', 'Landform', 'Pit',\n",
       "       'Landform.1', 'ID', 'Depth(cm)', 'Depth_category', 'Depth_PG_M', 'x',\n",
       "       'y', 'date', 'year', 'year_landform', 'precip_1month', 'precip_2month',\n",
       "       'pH', 'Co2-C (ug/m^2) stone-free', 'PMC (ug/g soil)',\n",
       "       'Total C (mg/g soil)', 'Total N (mg/g soil)', 'Missing16S',\n",
       "       'MissingITS', 'BD (g/cm3)', '% total C', '% Minerals', '% OM',\n",
       "       '% Org C', 'org c (g/kg)', '% C', '% N', 'C:N', 'Post DOC (mg/ g soil)',\n",
       "       'Post DON (mg/ g soil)', 'C (g/m^2)', 'N (g/m^2)',\n",
       "       'D21 NH4 + NO3 avg/sample', 'NO3- (ug/g soil)', '% Sand', '% Silt',\n",
       "       '% Clay', 'BG_nmol/g/hr', 'CBH_nmol/g/hr', 'PHOS_nmol/g/hr',\n",
       "       'NAG_nmol/g/hr', 'BX_nmol/g/hr', 'AG_nmol/g/hr', 'LAP_nmol/g/hr',\n",
       "       'BG_umol/cm^2 stone-free', 'CBH_umol/cm^2 stone-free',\n",
       "       'PHOS_umol/cm^2 stone-free', 'NAG_umol/cm^2 stone-free',\n",
       "       'BX_umol/cm^2 stone-free', 'AG_umol/cm^2 stone-free',\n",
       "       'LAP_umol/cm^2 stone-free', 'BG_umol/cm^2 SF C', 'CBH_umol/cm^2 SF C',\n",
       "       'PHOS_umol/cm^2 SF C', 'NAG_umol/cm^2 SF C', 'BX_umol/cm^2 SF C',\n",
       "       'AG_umol/cm^2 SF C', 'LAP_umol/cm^2 SF C', 'C (kg/m^2)',\n",
       "       'org C (kg/m^2)', 'C_kg_m_2', 'N_kg_m_2', 'PCA 1', 'PCA 2'],\n",
       "      dtype='object')"
      ]
     },
     "execution_count": 13,
     "metadata": {},
     "output_type": "execute_result"
    }
   ],
   "source": [
    "map_df.columns"
   ]
  },
  {
   "cell_type": "code",
   "execution_count": 14,
   "metadata": {},
   "outputs": [],
   "source": [
    "map_df['Enz C:P'] = map_df['BG_umol/cm^2 SF C']/(map_df['PHOS_umol/cm^2 SF C'])\n",
    "map_df['Enz C:N'] = map_df['BG_umol/cm^2 SF C']/(map_df['NAG_umol/cm^2 SF C'])\n",
    "map_df['Enz N:P'] = map_df['NAG_umol/cm^2 SF C']/(map_df['PHOS_umol/cm^2 SF C'])"
   ]
  },
  {
   "cell_type": "code",
   "execution_count": 15,
   "metadata": {},
   "outputs": [
    {
     "name": "stderr",
     "output_type": "stream",
     "text": [
      "/home/bostevens/anaconda3/envs/py36/lib/python3.6/site-packages/seaborn/_decorators.py:43: FutureWarning: Pass the following variables as keyword args: x, y. From version 0.12, the only valid positional argument will be `data`, and passing other arguments without an explicit keyword will result in an error or misinterpretation.\n",
      "  FutureWarning\n",
      "/home/bostevens/anaconda3/envs/py36/lib/python3.6/site-packages/numpy/core/function_base.py:144: RuntimeWarning: invalid value encountered in multiply\n",
      "  y *= step\n"
     ]
    },
    {
     "data": {
      "image/png": "[encoded data removed]",
      "text/plain": [
       "<Figure size 360x360 with 1 Axes>"
      ]
     },
     "metadata": {
      "needs_background": "light"
     },
     "output_type": "display_data"
    }
   ],
   "source": [
    "x = 'Enz C:P'\n",
    "y = 'Enz C:N'\n",
    "sns.lmplot(x, y, data = np.log(map_df[[x, y]]))\n",
    "# sns.lmplot(x, y, data = map_df[[x, y, 'Landform']], hue = 'Landform')\n",
    "plt.plot([-2, 1], [-2, 1], \"r--\")\n",
    "plt.ylabel('ln(BG:AP)')\n",
    "plt.xlabel('ln(BG:NAG)')\n",
    "plt.savefig('../Figures/enzyme_ratios.jpg', format = 'jpg', dpi = 300, bbox_inches = 'tight')"
   ]
  },
  {
   "cell_type": "code",
   "execution_count": 16,
   "metadata": {},
   "outputs": [
    {
     "data": {
      "text/html": [
       "<div>\n",
       "<style scoped>\n",
       "    .dataframe tbody tr th:only-of-type {\n",
       "        vertical-align: middle;\n",
       "    }\n",
       "\n",
       "    .dataframe tbody tr th {\n",
       "        vertical-align: top;\n",
       "    }\n",
       "\n",
       "    .dataframe thead th {\n",
       "        text-align: right;\n",
       "    }\n",
       "</style>\n",
       "<table border=\"1\" class=\"dataframe\">\n",
       "  <thead>\n",
       "    <tr style=\"text-align: right;\">\n",
       "      <th></th>\n",
       "      <th>Enz C:P</th>\n",
       "      <th>Enz C:N</th>\n",
       "    </tr>\n",
       "  </thead>\n",
       "  <tbody>\n",
       "    <tr>\n",
       "      <th>M-SS2-11</th>\n",
       "      <td>NaN</td>\n",
       "      <td>NaN</td>\n",
       "    </tr>\n",
       "    <tr>\n",
       "      <th>M-SS2-130</th>\n",
       "      <td>NaN</td>\n",
       "      <td>NaN</td>\n",
       "    </tr>\n",
       "    <tr>\n",
       "      <th>M-SS2-160</th>\n",
       "      <td>NaN</td>\n",
       "      <td>NaN</td>\n",
       "    </tr>\n",
       "    <tr>\n",
       "      <th>M-SS2-30</th>\n",
       "      <td>inf</td>\n",
       "      <td>inf</td>\n",
       "    </tr>\n",
       "    <tr>\n",
       "      <th>M-SS2-80</th>\n",
       "      <td>NaN</td>\n",
       "      <td>NaN</td>\n",
       "    </tr>\n",
       "    <tr>\n",
       "      <th>M-SS3-120</th>\n",
       "      <td>0.109915</td>\n",
       "      <td>0.499876</td>\n",
       "    </tr>\n",
       "    <tr>\n",
       "      <th>M-SS3-150</th>\n",
       "      <td>NaN</td>\n",
       "      <td>NaN</td>\n",
       "    </tr>\n",
       "    <tr>\n",
       "      <th>M-SS3-20</th>\n",
       "      <td>0.336556</td>\n",
       "      <td>1.783938</td>\n",
       "    </tr>\n",
       "    <tr>\n",
       "      <th>M-SS3-200</th>\n",
       "      <td>NaN</td>\n",
       "      <td>NaN</td>\n",
       "    </tr>\n",
       "    <tr>\n",
       "      <th>M-SS3-46</th>\n",
       "      <td>0.436839</td>\n",
       "      <td>inf</td>\n",
       "    </tr>\n",
       "    <tr>\n",
       "      <th>M-SS3-7</th>\n",
       "      <td>1.288708</td>\n",
       "      <td>3.158990</td>\n",
       "    </tr>\n",
       "    <tr>\n",
       "      <th>M-SS4-125</th>\n",
       "      <td>NaN</td>\n",
       "      <td>NaN</td>\n",
       "    </tr>\n",
       "    <tr>\n",
       "      <th>M-SS4-23</th>\n",
       "      <td>inf</td>\n",
       "      <td>inf</td>\n",
       "    </tr>\n",
       "    <tr>\n",
       "      <th>M-SS4-65</th>\n",
       "      <td>NaN</td>\n",
       "      <td>NaN</td>\n",
       "    </tr>\n",
       "    <tr>\n",
       "      <th>M-SS4-8</th>\n",
       "      <td>0.560852</td>\n",
       "      <td>2.613739</td>\n",
       "    </tr>\n",
       "    <tr>\n",
       "      <th>M-SS4-90</th>\n",
       "      <td>NaN</td>\n",
       "      <td>NaN</td>\n",
       "    </tr>\n",
       "    <tr>\n",
       "      <th>M-SS5-100</th>\n",
       "      <td>NaN</td>\n",
       "      <td>NaN</td>\n",
       "    </tr>\n",
       "    <tr>\n",
       "      <th>M-SS5-22</th>\n",
       "      <td>0.427866</td>\n",
       "      <td>2.308946</td>\n",
       "    </tr>\n",
       "    <tr>\n",
       "      <th>M-SS5-63</th>\n",
       "      <td>NaN</td>\n",
       "      <td>NaN</td>\n",
       "    </tr>\n",
       "    <tr>\n",
       "      <th>M-SS5-9</th>\n",
       "      <td>0.404671</td>\n",
       "      <td>2.390659</td>\n",
       "    </tr>\n",
       "    <tr>\n",
       "      <th>PG-PG1-19</th>\n",
       "      <td>3.689705</td>\n",
       "      <td>0.556994</td>\n",
       "    </tr>\n",
       "    <tr>\n",
       "      <th>PG-PG1-36</th>\n",
       "      <td>0.377249</td>\n",
       "      <td>2.863944</td>\n",
       "    </tr>\n",
       "    <tr>\n",
       "      <th>PG-PG1-6</th>\n",
       "      <td>0.944763</td>\n",
       "      <td>1.787309</td>\n",
       "    </tr>\n",
       "    <tr>\n",
       "      <th>PG-PG1-60</th>\n",
       "      <td>0.322194</td>\n",
       "      <td>5.831714</td>\n",
       "    </tr>\n",
       "    <tr>\n",
       "      <th>PG-PG1-80</th>\n",
       "      <td>0.288315</td>\n",
       "      <td>1.706507</td>\n",
       "    </tr>\n",
       "    <tr>\n",
       "      <th>PG-PG2-100</th>\n",
       "      <td>0.300985</td>\n",
       "      <td>4.357658</td>\n",
       "    </tr>\n",
       "    <tr>\n",
       "      <th>PG-PG2-11</th>\n",
       "      <td>0.510387</td>\n",
       "      <td>4.004189</td>\n",
       "    </tr>\n",
       "    <tr>\n",
       "      <th>PG-PG2-25</th>\n",
       "      <td>0.675643</td>\n",
       "      <td>2.847767</td>\n",
       "    </tr>\n",
       "    <tr>\n",
       "      <th>PG-PG2-35</th>\n",
       "      <td>0.915215</td>\n",
       "      <td>3.216972</td>\n",
       "    </tr>\n",
       "    <tr>\n",
       "      <th>PG-PG2-65</th>\n",
       "      <td>0.501388</td>\n",
       "      <td>2.677321</td>\n",
       "    </tr>\n",
       "    <tr>\n",
       "      <th>PG-PG3-15</th>\n",
       "      <td>0.416083</td>\n",
       "      <td>2.788435</td>\n",
       "    </tr>\n",
       "    <tr>\n",
       "      <th>PG-PG3-48</th>\n",
       "      <td>0.483476</td>\n",
       "      <td>1.678600</td>\n",
       "    </tr>\n",
       "    <tr>\n",
       "      <th>PG-PG3-65</th>\n",
       "      <td>0.365858</td>\n",
       "      <td>6.017187</td>\n",
       "    </tr>\n",
       "    <tr>\n",
       "      <th>PG-PG3-8</th>\n",
       "      <td>0.978604</td>\n",
       "      <td>3.117229</td>\n",
       "    </tr>\n",
       "    <tr>\n",
       "      <th>PG-SS1-17</th>\n",
       "      <td>0.509814</td>\n",
       "      <td>1.818172</td>\n",
       "    </tr>\n",
       "    <tr>\n",
       "      <th>PG-SS1-39</th>\n",
       "      <td>0.701829</td>\n",
       "      <td>1.849574</td>\n",
       "    </tr>\n",
       "    <tr>\n",
       "      <th>PG-SS1-5</th>\n",
       "      <td>0.655531</td>\n",
       "      <td>3.704908</td>\n",
       "    </tr>\n",
       "    <tr>\n",
       "      <th>PG-SS1-90</th>\n",
       "      <td>0.620069</td>\n",
       "      <td>3.889843</td>\n",
       "    </tr>\n",
       "  </tbody>\n",
       "</table>\n",
       "</div>"
      ],
      "text/plain": [
       "             Enz C:P   Enz C:N\n",
       "M-SS2-11         NaN       NaN\n",
       "M-SS2-130        NaN       NaN\n",
       "M-SS2-160        NaN       NaN\n",
       "M-SS2-30         inf       inf\n",
       "M-SS2-80         NaN       NaN\n",
       "M-SS3-120   0.109915  0.499876\n",
       "M-SS3-150        NaN       NaN\n",
       "M-SS3-20    0.336556  1.783938\n",
       "M-SS3-200        NaN       NaN\n",
       "M-SS3-46    0.436839       inf\n",
       "M-SS3-7     1.288708  3.158990\n",
       "M-SS4-125        NaN       NaN\n",
       "M-SS4-23         inf       inf\n",
       "M-SS4-65         NaN       NaN\n",
       "M-SS4-8     0.560852  2.613739\n",
       "M-SS4-90         NaN       NaN\n",
       "M-SS5-100        NaN       NaN\n",
       "M-SS5-22    0.427866  2.308946\n",
       "M-SS5-63         NaN       NaN\n",
       "M-SS5-9     0.404671  2.390659\n",
       "PG-PG1-19   3.689705  0.556994\n",
       "PG-PG1-36   0.377249  2.863944\n",
       "PG-PG1-6    0.944763  1.787309\n",
       "PG-PG1-60   0.322194  5.831714\n",
       "PG-PG1-80   0.288315  1.706507\n",
       "PG-PG2-100  0.300985  4.357658\n",
       "PG-PG2-11   0.510387  4.004189\n",
       "PG-PG2-25   0.675643  2.847767\n",
       "PG-PG2-35   0.915215  3.216972\n",
       "PG-PG2-65   0.501388  2.677321\n",
       "PG-PG3-15   0.416083  2.788435\n",
       "PG-PG3-48   0.483476  1.678600\n",
       "PG-PG3-65   0.365858  6.017187\n",
       "PG-PG3-8    0.978604  3.117229\n",
       "PG-SS1-17   0.509814  1.818172\n",
       "PG-SS1-39   0.701829  1.849574\n",
       "PG-SS1-5    0.655531  3.704908\n",
       "PG-SS1-90   0.620069  3.889843"
      ]
     },
     "execution_count": 16,
     "metadata": {},
     "output_type": "execute_result"
    }
   ],
   "source": [
    "map_df[[x, y]]"
   ]
  },
  {
   "cell_type": "code",
   "execution_count": 17,
   "metadata": {},
   "outputs": [
    {
     "name": "stderr",
     "output_type": "stream",
     "text": [
      "/home/bostevens/anaconda3/envs/py36/lib/python3.6/site-packages/seaborn/_decorators.py:43: FutureWarning: Pass the following variables as keyword args: x, y. From version 0.12, the only valid positional argument will be `data`, and passing other arguments without an explicit keyword will result in an error or misinterpretation.\n",
      "  FutureWarning\n"
     ]
    },
    {
     "data": {
      "text/plain": [
       "<seaborn.axisgrid.FacetGrid at 0x7f4991b13b38>"
      ]
     },
     "execution_count": 17,
     "metadata": {},
     "output_type": "execute_result"
    },
    {
     "data": {
      "image/png": "[encoded data removed]",
      "text/plain": [
       "<Figure size 360x360 with 1 Axes>"
      ]
     },
     "metadata": {
      "needs_background": "light"
     },
     "output_type": "display_data"
    }
   ],
   "source": [
    "sns.lmplot('PHOS_umol/cm^2 stone-free', 'NAG_umol/cm^2 stone-free', data = map_df)"
   ]
  },
  {
   "cell_type": "code",
   "execution_count": 18,
   "metadata": {},
   "outputs": [
    {
     "data": {
      "text/plain": [
       "<seaborn.axisgrid.FacetGrid at 0x7f4991b09588>"
      ]
     },
     "execution_count": 18,
     "metadata": {},
     "output_type": "execute_result"
    },
    {
     "data": {
      "image/png": "[encoded data removed]",
      "text/plain": [
       "<Figure size 415.625x360 with 1 Axes>"
      ]
     },
     "metadata": {
      "needs_background": "light"
     },
     "output_type": "display_data"
    }
   ],
   "source": [
    "sns.lmplot(x = 'PHOS_umol/cm^2 stone-free', y = 'BG_umol/cm^2 stone-free', hue = 'Landform', data = map_df[['PHOS_umol/cm^2 stone-free', 'BG_umol/cm^2 stone-free', 'Landform']])"
   ]
  },
  {
   "cell_type": "code",
   "execution_count": 19,
   "metadata": {},
   "outputs": [
    {
     "data": {
      "text/plain": [
       "<seaborn.axisgrid.FacetGrid at 0x7f4991a6da90>"
      ]
     },
     "execution_count": 19,
     "metadata": {},
     "output_type": "execute_result"
    },
    {
     "data": {
      "image/png": "[encoded data removed]",
      "text/plain": [
       "<Figure size 415.625x360 with 1 Axes>"
      ]
     },
     "metadata": {
      "needs_background": "light"
     },
     "output_type": "display_data"
    }
   ],
   "source": [
    "sns.lmplot(x = 'PHOS_umol/cm^2 SF C', y = 'BG_umol/cm^2 SF C', hue = 'Landform', data = map_df[['PHOS_umol/cm^2 SF C', 'BG_umol/cm^2 SF C', 'Landform']])"
   ]
  },
  {
   "cell_type": "code",
   "execution_count": 20,
   "metadata": {},
   "outputs": [
    {
     "data": {
      "text/plain": [
       "<AxesSubplot:xlabel='N (g/m^2)', ylabel='Total N (mg/g soil)'>"
      ]
     },
     "execution_count": 20,
     "metadata": {},
     "output_type": "execute_result"
    },
    {
     "data": {
      "image/png": "[encoded data removed]",
      "text/plain": [
       "<Figure size 432x288 with 1 Axes>"
      ]
     },
     "metadata": {
      "needs_background": "light"
     },
     "output_type": "display_data"
    }
   ],
   "source": [
    "sns.regplot(x = 'N (g/m^2)', y = 'Total N (mg/g soil)', data = map_df)"
   ]
  },
  {
   "cell_type": "code",
   "execution_count": 21,
   "metadata": {},
   "outputs": [
    {
     "data": {
      "text/html": [
       "<div>\n",
       "<style scoped>\n",
       "    .dataframe tbody tr th:only-of-type {\n",
       "        vertical-align: middle;\n",
       "    }\n",
       "\n",
       "    .dataframe tbody tr th {\n",
       "        vertical-align: top;\n",
       "    }\n",
       "\n",
       "    .dataframe thead th {\n",
       "        text-align: right;\n",
       "    }\n",
       "</style>\n",
       "<table border=\"1\" class=\"dataframe\">\n",
       "  <thead>\n",
       "    <tr style=\"text-align: right;\">\n",
       "      <th></th>\n",
       "      <th>sum_sq</th>\n",
       "      <th>df</th>\n",
       "      <th>F</th>\n",
       "      <th>PR(&gt;F)</th>\n",
       "    </tr>\n",
       "  </thead>\n",
       "  <tbody>\n",
       "    <tr>\n",
       "      <th>Landform</th>\n",
       "      <td>67.986029</td>\n",
       "      <td>1.0</td>\n",
       "      <td>10.392551</td>\n",
       "      <td>0.002689</td>\n",
       "    </tr>\n",
       "    <tr>\n",
       "      <th>Residual</th>\n",
       "      <td>235.504928</td>\n",
       "      <td>36.0</td>\n",
       "      <td>NaN</td>\n",
       "      <td>NaN</td>\n",
       "    </tr>\n",
       "  </tbody>\n",
       "</table>\n",
       "</div>"
      ],
      "text/plain": [
       "              sum_sq    df          F    PR(>F)\n",
       "Landform   67.986029   1.0  10.392551  0.002689\n",
       "Residual  235.504928  36.0        NaN       NaN"
      ]
     },
     "execution_count": 21,
     "metadata": {},
     "output_type": "execute_result"
    }
   ],
   "source": [
    "# data['pH'] = np.log(data['pH'])\n",
    "moore_lm = ols('C_kg_m_2 ~ Landform',data=map_df).fit()\n",
    "sm.stats.anova_lm(moore_lm, typ=2)"
   ]
  },
  {
   "cell_type": "code",
   "execution_count": 22,
   "metadata": {},
   "outputs": [
    {
     "data": {
      "text/plain": [
       "array(['LinkerPrimerSequence', 'BarcodeSequence', 'Landform', 'Pit',\n",
       "       'Landform.1', 'ID', 'Depth(cm)', 'Depth_category', 'Depth_PG_M',\n",
       "       'x', 'y', 'date', 'year', 'year_landform', 'precip_1month',\n",
       "       'precip_2month', 'pH', 'Co2-C (ug/m^2) stone-free',\n",
       "       'PMC (ug/g soil)', 'Total C (mg/g soil)', 'Total N (mg/g soil)',\n",
       "       'Missing16S', 'MissingITS', 'BD (g/cm3)', '% total C',\n",
       "       '% Minerals', '% OM', '% Org C', 'org c (g/kg)', '% C', '% N',\n",
       "       'C:N', 'Post DOC (mg/ g soil)', 'Post DON (mg/ g soil)',\n",
       "       'C (g/m^2)', 'N (g/m^2)', 'D21 NH4 + NO3 avg/sample',\n",
       "       'NO3- (ug/g soil)', '% Sand', '% Silt', '% Clay', 'BG_nmol/g/hr',\n",
       "       'CBH_nmol/g/hr', 'PHOS_nmol/g/hr', 'NAG_nmol/g/hr', 'BX_nmol/g/hr',\n",
       "       'AG_nmol/g/hr', 'LAP_nmol/g/hr', 'BG_umol/cm^2 stone-free',\n",
       "       'CBH_umol/cm^2 stone-free', 'PHOS_umol/cm^2 stone-free',\n",
       "       'NAG_umol/cm^2 stone-free', 'BX_umol/cm^2 stone-free',\n",
       "       'AG_umol/cm^2 stone-free', 'LAP_umol/cm^2 stone-free',\n",
       "       'BG_umol/cm^2 SF C', 'CBH_umol/cm^2 SF C', 'PHOS_umol/cm^2 SF C',\n",
       "       'NAG_umol/cm^2 SF C', 'BX_umol/cm^2 SF C', 'AG_umol/cm^2 SF C',\n",
       "       'LAP_umol/cm^2 SF C', 'C (kg/m^2)', 'org C (kg/m^2)', 'C_kg_m_2',\n",
       "       'N_kg_m_2', 'PCA 1', 'PCA 2', 'Enz C:P', 'Enz C:N', 'Enz N:P'],\n",
       "      dtype=object)"
      ]
     },
     "execution_count": 22,
     "metadata": {},
     "output_type": "execute_result"
    }
   ],
   "source": [
    "map_df.columns.values"
   ]
  },
  {
   "cell_type": "code",
   "execution_count": 23,
   "metadata": {},
   "outputs": [
    {
     "name": "stderr",
     "output_type": "stream",
     "text": [
      "/home/bostevens/anaconda3/envs/py36/lib/python3.6/site-packages/seaborn/_decorators.py:43: FutureWarning: Pass the following variables as keyword args: x, y. From version 0.12, the only valid positional argument will be `data`, and passing other arguments without an explicit keyword will result in an error or misinterpretation.\n",
      "  FutureWarning\n"
     ]
    },
    {
     "data": {
      "text/plain": [
       "<seaborn.axisgrid.FacetGrid at 0x7f499197b7f0>"
      ]
     },
     "execution_count": 23,
     "metadata": {},
     "output_type": "execute_result"
    },
    {
     "data": {
      "image/png": "[encoded data removed]",
      "text/plain": [
       "<Figure size 415.625x360 with 1 Axes>"
      ]
     },
     "metadata": {
      "needs_background": "light"
     },
     "output_type": "display_data"
    }
   ],
   "source": [
    "sns.lmplot('pH', 'Depth(cm)', hue = 'Landform', data = map_df)"
   ]
  },
  {
   "cell_type": "code",
   "execution_count": 24,
   "metadata": {},
   "outputs": [
    {
     "name": "stderr",
     "output_type": "stream",
     "text": [
      "/home/bostevens/anaconda3/envs/py36/lib/python3.6/site-packages/seaborn/_decorators.py:43: FutureWarning: Pass the following variables as keyword args: x, y. From version 0.12, the only valid positional argument will be `data`, and passing other arguments without an explicit keyword will result in an error or misinterpretation.\n",
      "  FutureWarning\n"
     ]
    },
    {
     "data": {
      "text/plain": [
       "<seaborn.axisgrid.FacetGrid at 0x7f499189c978>"
      ]
     },
     "execution_count": 24,
     "metadata": {},
     "output_type": "execute_result"
    },
    {
     "data": {
      "image/png": "[encoded data removed]",
      "text/plain": [
       "<Figure size 415.625x360 with 1 Axes>"
      ]
     },
     "metadata": {
      "needs_background": "light"
     },
     "output_type": "display_data"
    }
   ],
   "source": [
    "sns.lmplot('pH', 'PCA 1', hue = 'Landform', data = map_df[map_df['Landform'] == 'PG'])"
   ]
  },
  {
   "cell_type": "code",
   "execution_count": 25,
   "metadata": {},
   "outputs": [
    {
     "name": "stderr",
     "output_type": "stream",
     "text": [
      "/home/bostevens/anaconda3/envs/py36/lib/python3.6/site-packages/seaborn/_decorators.py:43: FutureWarning: Pass the following variables as keyword args: x, y. From version 0.12, the only valid positional argument will be `data`, and passing other arguments without an explicit keyword will result in an error or misinterpretation.\n",
      "  FutureWarning\n"
     ]
    },
    {
     "data": {
      "text/plain": [
       "<seaborn.axisgrid.FacetGrid at 0x7f4991a81d68>"
      ]
     },
     "execution_count": 25,
     "metadata": {},
     "output_type": "execute_result"
    },
    {
     "data": {
      "image/png": "[encoded data removed]",
      "text/plain": [
       "<Figure size 415.625x360 with 1 Axes>"
      ]
     },
     "metadata": {
      "needs_background": "light"
     },
     "output_type": "display_data"
    }
   ],
   "source": [
    "sns.lmplot('pH', 'PCA 1', hue = 'Landform', data = map_df)"
   ]
  },
  {
   "cell_type": "code",
   "execution_count": 26,
   "metadata": {},
   "outputs": [
    {
     "name": "stderr",
     "output_type": "stream",
     "text": [
      "/home/bostevens/anaconda3/envs/py36/lib/python3.6/site-packages/seaborn/_decorators.py:43: FutureWarning: Pass the following variables as keyword args: x, y. From version 0.12, the only valid positional argument will be `data`, and passing other arguments without an explicit keyword will result in an error or misinterpretation.\n",
      "  FutureWarning\n"
     ]
    },
    {
     "data": {
      "text/plain": [
       "<seaborn.axisgrid.FacetGrid at 0x7f49918e4be0>"
      ]
     },
     "execution_count": 26,
     "metadata": {},
     "output_type": "execute_result"
    },
    {
     "data": {
      "image/png": "[encoded data removed]",
      "text/plain": [
       "<Figure size 360x360 with 1 Axes>"
      ]
     },
     "metadata": {
      "needs_background": "light"
     },
     "output_type": "display_data"
    }
   ],
   "source": [
    "sns.lmplot('Co2-C (ug/m^2) stone-free', 'BG_umol/cm^2 SF C', data = map_df[map_df['Landform'] == 'PG'], order = 1)"
   ]
  },
  {
   "cell_type": "code",
   "execution_count": 27,
   "metadata": {},
   "outputs": [
    {
     "data": {
      "text/plain": [
       "<AxesSubplot:xlabel='Depth_PG_M', ylabel='pH'>"
      ]
     },
     "execution_count": 27,
     "metadata": {},
     "output_type": "execute_result"
    },
    {
     "data": {
      "image/png": "[encoded data removed]",
      "text/plain": [
       "<Figure size 432x288 with 1 Axes>"
      ]
     },
     "metadata": {
      "needs_background": "light"
     },
     "output_type": "display_data"
    }
   ],
   "source": [
    "sns.boxplot(x = 'Depth_PG_M', y = 'pH', hue = 'Landform', data = map_df)"
   ]
  },
  {
   "cell_type": "code",
   "execution_count": 28,
   "metadata": {},
   "outputs": [
    {
     "data": {
      "text/plain": [
       "<AxesSubplot:xlabel='Depth_PG_M', ylabel='BG_umol/cm^2 SF C'>"
      ]
     },
     "execution_count": 28,
     "metadata": {},
     "output_type": "execute_result"
    },
    {
     "data": {
      "image/png": "[encoded data removed]",
      "text/plain": [
       "<Figure size 432x288 with 1 Axes>"
      ]
     },
     "metadata": {
      "needs_background": "light"
     },
     "output_type": "display_data"
    }
   ],
   "source": [
    "sns.boxplot(x = 'Depth_PG_M', y = 'BG_umol/cm^2 SF C', hue = 'Landform', data = map_df)"
   ]
  },
  {
   "cell_type": "code",
   "execution_count": 29,
   "metadata": {},
   "outputs": [
    {
     "data": {
      "text/plain": [
       "<AxesSubplot:xlabel='Depth_PG_M', ylabel='D21 NH4 + NO3 avg/sample'>"
      ]
     },
     "execution_count": 29,
     "metadata": {},
     "output_type": "execute_result"
    },
    {
     "data": {
      "image/png": "[encoded data removed]",
      "text/plain": [
       "<Figure size 432x288 with 1 Axes>"
      ]
     },
     "metadata": {
      "needs_background": "light"
     },
     "output_type": "display_data"
    }
   ],
   "source": [
    "sns.boxplot(x = 'Depth_PG_M', y = 'D21 NH4 + NO3 avg/sample', hue = 'Landform', data = map_df)"
   ]
  },
  {
   "cell_type": "code",
   "execution_count": 30,
   "metadata": {},
   "outputs": [
    {
     "data": {
      "text/html": [
       "<div>\n",
       "<style scoped>\n",
       "    .dataframe tbody tr th:only-of-type {\n",
       "        vertical-align: middle;\n",
       "    }\n",
       "\n",
       "    .dataframe tbody tr th {\n",
       "        vertical-align: top;\n",
       "    }\n",
       "\n",
       "    .dataframe thead th {\n",
       "        text-align: right;\n",
       "    }\n",
       "</style>\n",
       "<table border=\"1\" class=\"dataframe\">\n",
       "  <thead>\n",
       "    <tr style=\"text-align: right;\">\n",
       "      <th></th>\n",
       "      <th>pH</th>\n",
       "      <th>PHOS_umol/cm^2 SF C</th>\n",
       "      <th>Depth_PG_M</th>\n",
       "    </tr>\n",
       "  </thead>\n",
       "  <tbody>\n",
       "    <tr>\n",
       "      <th>M-SS2-11</th>\n",
       "      <td>4.10</td>\n",
       "      <td>NaN</td>\n",
       "      <td>MA</td>\n",
       "    </tr>\n",
       "    <tr>\n",
       "      <th>M-SS2-130</th>\n",
       "      <td>5.81</td>\n",
       "      <td>0.000000</td>\n",
       "      <td>MB</td>\n",
       "    </tr>\n",
       "    <tr>\n",
       "      <th>M-SS2-160</th>\n",
       "      <td>5.92</td>\n",
       "      <td>NaN</td>\n",
       "      <td>MB</td>\n",
       "    </tr>\n",
       "    <tr>\n",
       "      <th>M-SS2-30</th>\n",
       "      <td>4.65</td>\n",
       "      <td>0.000000</td>\n",
       "      <td>MA</td>\n",
       "    </tr>\n",
       "    <tr>\n",
       "      <th>M-SS2-80</th>\n",
       "      <td>4.90</td>\n",
       "      <td>0.000000</td>\n",
       "      <td>MB</td>\n",
       "    </tr>\n",
       "    <tr>\n",
       "      <th>M-SS3-120</th>\n",
       "      <td>4.56</td>\n",
       "      <td>139.796894</td>\n",
       "      <td>MB</td>\n",
       "    </tr>\n",
       "    <tr>\n",
       "      <th>M-SS3-150</th>\n",
       "      <td>4.87</td>\n",
       "      <td>NaN</td>\n",
       "      <td>MB</td>\n",
       "    </tr>\n",
       "    <tr>\n",
       "      <th>M-SS3-20</th>\n",
       "      <td>4.25</td>\n",
       "      <td>1509.750775</td>\n",
       "      <td>MA</td>\n",
       "    </tr>\n",
       "    <tr>\n",
       "      <th>M-SS3-200</th>\n",
       "      <td>4.88</td>\n",
       "      <td>NaN</td>\n",
       "      <td>MB</td>\n",
       "    </tr>\n",
       "    <tr>\n",
       "      <th>M-SS3-46</th>\n",
       "      <td>4.47</td>\n",
       "      <td>13.259953</td>\n",
       "      <td>MB</td>\n",
       "    </tr>\n",
       "    <tr>\n",
       "      <th>M-SS3-7</th>\n",
       "      <td>4.43</td>\n",
       "      <td>122.932750</td>\n",
       "      <td>MA</td>\n",
       "    </tr>\n",
       "    <tr>\n",
       "      <th>M-SS4-125</th>\n",
       "      <td>5.83</td>\n",
       "      <td>0.000000</td>\n",
       "      <td>MB</td>\n",
       "    </tr>\n",
       "    <tr>\n",
       "      <th>M-SS4-23</th>\n",
       "      <td>4.89</td>\n",
       "      <td>0.000000</td>\n",
       "      <td>MA</td>\n",
       "    </tr>\n",
       "    <tr>\n",
       "      <th>M-SS4-65</th>\n",
       "      <td>5.36</td>\n",
       "      <td>0.000000</td>\n",
       "      <td>MB</td>\n",
       "    </tr>\n",
       "    <tr>\n",
       "      <th>M-SS4-8</th>\n",
       "      <td>4.39</td>\n",
       "      <td>645.319214</td>\n",
       "      <td>MA</td>\n",
       "    </tr>\n",
       "    <tr>\n",
       "      <th>M-SS4-90</th>\n",
       "      <td>5.76</td>\n",
       "      <td>0.000000</td>\n",
       "      <td>MB</td>\n",
       "    </tr>\n",
       "    <tr>\n",
       "      <th>M-SS5-100</th>\n",
       "      <td>5.23</td>\n",
       "      <td>0.000000</td>\n",
       "      <td>MB</td>\n",
       "    </tr>\n",
       "    <tr>\n",
       "      <th>M-SS5-22</th>\n",
       "      <td>4.51</td>\n",
       "      <td>1383.228899</td>\n",
       "      <td>MA</td>\n",
       "    </tr>\n",
       "    <tr>\n",
       "      <th>M-SS5-63</th>\n",
       "      <td>4.68</td>\n",
       "      <td>0.000000</td>\n",
       "      <td>MB</td>\n",
       "    </tr>\n",
       "    <tr>\n",
       "      <th>M-SS5-9</th>\n",
       "      <td>4.36</td>\n",
       "      <td>615.788485</td>\n",
       "      <td>MA</td>\n",
       "    </tr>\n",
       "    <tr>\n",
       "      <th>PG-PG1-19</th>\n",
       "      <td>4.78</td>\n",
       "      <td>11.496840</td>\n",
       "      <td>PGA</td>\n",
       "    </tr>\n",
       "    <tr>\n",
       "      <th>PG-PG1-36</th>\n",
       "      <td>4.38</td>\n",
       "      <td>146.268080</td>\n",
       "      <td>PGB</td>\n",
       "    </tr>\n",
       "    <tr>\n",
       "      <th>PG-PG1-6</th>\n",
       "      <td>6.03</td>\n",
       "      <td>15.468014</td>\n",
       "      <td>PGA</td>\n",
       "    </tr>\n",
       "    <tr>\n",
       "      <th>PG-PG1-60</th>\n",
       "      <td>4.63</td>\n",
       "      <td>117.559117</td>\n",
       "      <td>PGB</td>\n",
       "    </tr>\n",
       "    <tr>\n",
       "      <th>PG-PG1-80</th>\n",
       "      <td>4.74</td>\n",
       "      <td>259.643130</td>\n",
       "      <td>PGB</td>\n",
       "    </tr>\n",
       "    <tr>\n",
       "      <th>PG-PG2-100</th>\n",
       "      <td>4.36</td>\n",
       "      <td>200.909306</td>\n",
       "      <td>PGB</td>\n",
       "    </tr>\n",
       "    <tr>\n",
       "      <th>PG-PG2-11</th>\n",
       "      <td>6.08</td>\n",
       "      <td>50.659213</td>\n",
       "      <td>PGA</td>\n",
       "    </tr>\n",
       "    <tr>\n",
       "      <th>PG-PG2-25</th>\n",
       "      <td>5.77</td>\n",
       "      <td>54.948681</td>\n",
       "      <td>PGA</td>\n",
       "    </tr>\n",
       "    <tr>\n",
       "      <th>PG-PG2-35</th>\n",
       "      <td>5.45</td>\n",
       "      <td>110.368081</td>\n",
       "      <td>PGB</td>\n",
       "    </tr>\n",
       "    <tr>\n",
       "      <th>PG-PG2-65</th>\n",
       "      <td>4.42</td>\n",
       "      <td>143.467799</td>\n",
       "      <td>PGB</td>\n",
       "    </tr>\n",
       "    <tr>\n",
       "      <th>PG-PG3-15</th>\n",
       "      <td>5.46</td>\n",
       "      <td>40.424624</td>\n",
       "      <td>PGA</td>\n",
       "    </tr>\n",
       "    <tr>\n",
       "      <th>PG-PG3-48</th>\n",
       "      <td>4.49</td>\n",
       "      <td>97.282837</td>\n",
       "      <td>PGB</td>\n",
       "    </tr>\n",
       "    <tr>\n",
       "      <th>PG-PG3-65</th>\n",
       "      <td>4.61</td>\n",
       "      <td>196.282265</td>\n",
       "      <td>PGB</td>\n",
       "    </tr>\n",
       "    <tr>\n",
       "      <th>PG-PG3-8</th>\n",
       "      <td>5.35</td>\n",
       "      <td>117.242393</td>\n",
       "      <td>PGA</td>\n",
       "    </tr>\n",
       "    <tr>\n",
       "      <th>PG-SS1-17</th>\n",
       "      <td>5.97</td>\n",
       "      <td>25.046072</td>\n",
       "      <td>PGA</td>\n",
       "    </tr>\n",
       "    <tr>\n",
       "      <th>PG-SS1-39</th>\n",
       "      <td>5.23</td>\n",
       "      <td>47.598235</td>\n",
       "      <td>PGB</td>\n",
       "    </tr>\n",
       "    <tr>\n",
       "      <th>PG-SS1-5</th>\n",
       "      <td>6.13</td>\n",
       "      <td>53.440474</td>\n",
       "      <td>PGA</td>\n",
       "    </tr>\n",
       "    <tr>\n",
       "      <th>PG-SS1-90</th>\n",
       "      <td>5.36</td>\n",
       "      <td>80.892319</td>\n",
       "      <td>PGB</td>\n",
       "    </tr>\n",
       "  </tbody>\n",
       "</table>\n",
       "</div>"
      ],
      "text/plain": [
       "              pH  PHOS_umol/cm^2 SF C Depth_PG_M\n",
       "M-SS2-11    4.10                  NaN         MA\n",
       "M-SS2-130   5.81             0.000000         MB\n",
       "M-SS2-160   5.92                  NaN         MB\n",
       "M-SS2-30    4.65             0.000000         MA\n",
       "M-SS2-80    4.90             0.000000         MB\n",
       "M-SS3-120   4.56           139.796894         MB\n",
       "M-SS3-150   4.87                  NaN         MB\n",
       "M-SS3-20    4.25          1509.750775         MA\n",
       "M-SS3-200   4.88                  NaN         MB\n",
       "M-SS3-46    4.47            13.259953         MB\n",
       "M-SS3-7     4.43           122.932750         MA\n",
       "M-SS4-125   5.83             0.000000         MB\n",
       "M-SS4-23    4.89             0.000000         MA\n",
       "M-SS4-65    5.36             0.000000         MB\n",
       "M-SS4-8     4.39           645.319214         MA\n",
       "M-SS4-90    5.76             0.000000         MB\n",
       "M-SS5-100   5.23             0.000000         MB\n",
       "M-SS5-22    4.51          1383.228899         MA\n",
       "M-SS5-63    4.68             0.000000         MB\n",
       "M-SS5-9     4.36           615.788485         MA\n",
       "PG-PG1-19   4.78            11.496840        PGA\n",
       "PG-PG1-36   4.38           146.268080        PGB\n",
       "PG-PG1-6    6.03            15.468014        PGA\n",
       "PG-PG1-60   4.63           117.559117        PGB\n",
       "PG-PG1-80   4.74           259.643130        PGB\n",
       "PG-PG2-100  4.36           200.909306        PGB\n",
       "PG-PG2-11   6.08            50.659213        PGA\n",
       "PG-PG2-25   5.77            54.948681        PGA\n",
       "PG-PG2-35   5.45           110.368081        PGB\n",
       "PG-PG2-65   4.42           143.467799        PGB\n",
       "PG-PG3-15   5.46            40.424624        PGA\n",
       "PG-PG3-48   4.49            97.282837        PGB\n",
       "PG-PG3-65   4.61           196.282265        PGB\n",
       "PG-PG3-8    5.35           117.242393        PGA\n",
       "PG-SS1-17   5.97            25.046072        PGA\n",
       "PG-SS1-39   5.23            47.598235        PGB\n",
       "PG-SS1-5    6.13            53.440474        PGA\n",
       "PG-SS1-90   5.36            80.892319        PGB"
      ]
     },
     "execution_count": 30,
     "metadata": {},
     "output_type": "execute_result"
    }
   ],
   "source": [
    "map_df[['pH','PHOS_umol/cm^2 SF C','Depth_PG_M']]"
   ]
  },
  {
   "cell_type": "code",
   "execution_count": 31,
   "metadata": {},
   "outputs": [],
   "source": [
    "def mean_confidence_interval(data, confidence=0.95):\n",
    "    a = 1.0 * np.array(data)\n",
    "    n = len(a)\n",
    "    m, se = np.mean(a), stats.sem(a)\n",
    "    h = se * stats.t.ppf((1 + confidence) / 2., n-1)\n",
    "    k = m-h\n",
    "    if k < 0:\n",
    "        k = 0\n",
    "    return m, k, m+h"
   ]
  },
  {
   "cell_type": "code",
   "execution_count": 32,
   "metadata": {},
   "outputs": [
    {
     "data": {
      "text/html": [
       "<div>\n",
       "<style scoped>\n",
       "    .dataframe tbody tr th:only-of-type {\n",
       "        vertical-align: middle;\n",
       "    }\n",
       "\n",
       "    .dataframe tbody tr th {\n",
       "        vertical-align: top;\n",
       "    }\n",
       "\n",
       "    .dataframe thead th {\n",
       "        text-align: right;\n",
       "    }\n",
       "</style>\n",
       "<table border=\"1\" class=\"dataframe\">\n",
       "  <thead>\n",
       "    <tr style=\"text-align: right;\">\n",
       "      <th></th>\n",
       "      <th>Columns</th>\n",
       "      <th>Comparison</th>\n",
       "      <th>Statistic</th>\n",
       "      <th>P_value</th>\n",
       "      <th>Left_mean</th>\n",
       "      <th>Left_lower</th>\n",
       "      <th>Left_upper</th>\n",
       "      <th>Right_mean</th>\n",
       "      <th>Right_lower</th>\n",
       "      <th>Right_upper</th>\n",
       "    </tr>\n",
       "  </thead>\n",
       "  <tbody>\n",
       "    <tr>\n",
       "      <th>0</th>\n",
       "      <td>pH</td>\n",
       "      <td>M v PG</td>\n",
       "      <td>1.770025</td>\n",
       "      <td>0.183379</td>\n",
       "      <td>4.892500</td>\n",
       "      <td>4.625316</td>\n",
       "      <td>5.159684</td>\n",
       "      <td>5.180000</td>\n",
       "      <td>4.861594</td>\n",
       "      <td>5.498406</td>\n",
       "    </tr>\n",
       "    <tr>\n",
       "      <th>1</th>\n",
       "      <td>Co2-C (ug/m^2) stone-free</td>\n",
       "      <td>M v PG</td>\n",
       "      <td>0.480392</td>\n",
       "      <td>0.488245</td>\n",
       "      <td>0.799426</td>\n",
       "      <td>0.020185</td>\n",
       "      <td>1.578667</td>\n",
       "      <td>0.257836</td>\n",
       "      <td>0.127176</td>\n",
       "      <td>0.388496</td>\n",
       "    </tr>\n",
       "    <tr>\n",
       "      <th>2</th>\n",
       "      <td>PMC (ug/g soil)</td>\n",
       "      <td>M v PG</td>\n",
       "      <td>0.308547</td>\n",
       "      <td>0.578573</td>\n",
       "      <td>461.367273</td>\n",
       "      <td>0.000000</td>\n",
       "      <td>980.315229</td>\n",
       "      <td>643.145059</td>\n",
       "      <td>45.966995</td>\n",
       "      <td>1240.323122</td>\n",
       "    </tr>\n",
       "    <tr>\n",
       "      <th>3</th>\n",
       "      <td>Total C (mg/g soil)</td>\n",
       "      <td>M v PG</td>\n",
       "      <td>6.030769</td>\n",
       "      <td>0.014059</td>\n",
       "      <td>24.684000</td>\n",
       "      <td>7.202371</td>\n",
       "      <td>42.165629</td>\n",
       "      <td>73.948333</td>\n",
       "      <td>30.732351</td>\n",
       "      <td>117.164316</td>\n",
       "    </tr>\n",
       "    <tr>\n",
       "      <th>4</th>\n",
       "      <td>Total N (mg/g soil)</td>\n",
       "      <td>M v PG</td>\n",
       "      <td>5.889323</td>\n",
       "      <td>0.015233</td>\n",
       "      <td>2.098000</td>\n",
       "      <td>0.642009</td>\n",
       "      <td>3.553991</td>\n",
       "      <td>5.851111</td>\n",
       "      <td>2.546903</td>\n",
       "      <td>9.155319</td>\n",
       "    </tr>\n",
       "    <tr>\n",
       "      <th>...</th>\n",
       "      <td>...</td>\n",
       "      <td>...</td>\n",
       "      <td>...</td>\n",
       "      <td>...</td>\n",
       "      <td>...</td>\n",
       "      <td>...</td>\n",
       "      <td>...</td>\n",
       "      <td>...</td>\n",
       "      <td>...</td>\n",
       "      <td>...</td>\n",
       "    </tr>\n",
       "    <tr>\n",
       "      <th>140</th>\n",
       "      <td>CBH_umol/cm^2 SF C</td>\n",
       "      <td>MB v PGB</td>\n",
       "      <td>3.091882</td>\n",
       "      <td>0.078684</td>\n",
       "      <td>26.304244</td>\n",
       "      <td>0.000000</td>\n",
       "      <td>74.925587</td>\n",
       "      <td>8.407431</td>\n",
       "      <td>4.234602</td>\n",
       "      <td>12.580260</td>\n",
       "    </tr>\n",
       "    <tr>\n",
       "      <th>141</th>\n",
       "      <td>PHOS_umol/cm^2 SF C</td>\n",
       "      <td>MB v PGB</td>\n",
       "      <td>11.217712</td>\n",
       "      <td>0.000810</td>\n",
       "      <td>17.006316</td>\n",
       "      <td>0.000000</td>\n",
       "      <td>52.560916</td>\n",
       "      <td>140.027117</td>\n",
       "      <td>94.482336</td>\n",
       "      <td>185.571898</td>\n",
       "    </tr>\n",
       "    <tr>\n",
       "      <th>142</th>\n",
       "      <td>NAG_umol/cm^2 SF C</td>\n",
       "      <td>MB v PGB</td>\n",
       "      <td>9.852652</td>\n",
       "      <td>0.001696</td>\n",
       "      <td>3.415461</td>\n",
       "      <td>0.000000</td>\n",
       "      <td>11.291528</td>\n",
       "      <td>21.268278</td>\n",
       "      <td>13.236021</td>\n",
       "      <td>29.300535</td>\n",
       "    </tr>\n",
       "    <tr>\n",
       "      <th>143</th>\n",
       "      <td>BX_umol/cm^2 SF C</td>\n",
       "      <td>MB v PGB</td>\n",
       "      <td>11.921569</td>\n",
       "      <td>0.000555</td>\n",
       "      <td>0.038794</td>\n",
       "      <td>0.000000</td>\n",
       "      <td>0.128255</td>\n",
       "      <td>102.071645</td>\n",
       "      <td>32.957915</td>\n",
       "      <td>171.185375</td>\n",
       "    </tr>\n",
       "    <tr>\n",
       "      <th>144</th>\n",
       "      <td>AG_umol/cm^2 SF C</td>\n",
       "      <td>MB v PGB</td>\n",
       "      <td>10.706087</td>\n",
       "      <td>0.001068</td>\n",
       "      <td>0.000000</td>\n",
       "      <td>0.000000</td>\n",
       "      <td>0.000000</td>\n",
       "      <td>1.660856</td>\n",
       "      <td>0.073773</td>\n",
       "      <td>3.247938</td>\n",
       "    </tr>\n",
       "  </tbody>\n",
       "</table>\n",
       "<p>145 rows × 10 columns</p>\n",
       "</div>"
      ],
      "text/plain": [
       "                       Columns Comparison  Statistic   P_value   Left_mean  \\\n",
       "0                           pH     M v PG   1.770025  0.183379    4.892500   \n",
       "1    Co2-C (ug/m^2) stone-free     M v PG   0.480392  0.488245    0.799426   \n",
       "2              PMC (ug/g soil)     M v PG   0.308547  0.578573  461.367273   \n",
       "3          Total C (mg/g soil)     M v PG   6.030769  0.014059   24.684000   \n",
       "4          Total N (mg/g soil)     M v PG   5.889323  0.015233    2.098000   \n",
       "..                         ...        ...        ...       ...         ...   \n",
       "140         CBH_umol/cm^2 SF C   MB v PGB   3.091882  0.078684   26.304244   \n",
       "141        PHOS_umol/cm^2 SF C   MB v PGB  11.217712  0.000810   17.006316   \n",
       "142         NAG_umol/cm^2 SF C   MB v PGB   9.852652  0.001696    3.415461   \n",
       "143          BX_umol/cm^2 SF C   MB v PGB  11.921569  0.000555    0.038794   \n",
       "144          AG_umol/cm^2 SF C   MB v PGB  10.706087  0.001068    0.000000   \n",
       "\n",
       "     Left_lower  Left_upper  Right_mean  Right_lower  Right_upper  \n",
       "0      4.625316    5.159684    5.180000     4.861594     5.498406  \n",
       "1      0.020185    1.578667    0.257836     0.127176     0.388496  \n",
       "2      0.000000  980.315229  643.145059    45.966995  1240.323122  \n",
       "3      7.202371   42.165629   73.948333    30.732351   117.164316  \n",
       "4      0.642009    3.553991    5.851111     2.546903     9.155319  \n",
       "..          ...         ...         ...          ...          ...  \n",
       "140    0.000000   74.925587    8.407431     4.234602    12.580260  \n",
       "141    0.000000   52.560916  140.027117    94.482336   185.571898  \n",
       "142    0.000000   11.291528   21.268278    13.236021    29.300535  \n",
       "143    0.000000    0.128255  102.071645    32.957915   171.185375  \n",
       "144    0.000000    0.000000    1.660856     0.073773     3.247938  \n",
       "\n",
       "[145 rows x 10 columns]"
      ]
     },
     "execution_count": 32,
     "metadata": {},
     "output_type": "execute_result"
    }
   ],
   "source": [
    "anova_df = pd.DataFrame()\n",
    "mean_ci_df = pd.DataFrame()\n",
    "columns_test = []\n",
    "test = []\n",
    "statistics = []\n",
    "p_values = []\n",
    "comparisons = {'M v PG':['M', 'PG'], 'MA v MB': ['MA','MB'], 'PGA v PGB':['PGA','PGB'], \n",
    "               'MA v PGA':['MA','PGA'], 'MB v PGB':['MB','PGB']}\n",
    "means ={0:[],1: []}\n",
    "lowers = {0:[],1: []}\n",
    "uppers = {0:[],1: []}\n",
    "columns = ['pH', 'Co2-C (ug/m^2) stone-free', 'PMC (ug/g soil)', 'Total C (mg/g soil)',\n",
    "    'Total N (mg/g soil)','BD (g/cm3)', '% total C', '% Minerals', '% OM',\n",
    "       '% Org C', 'org c (g/kg)', '% C', '% N', 'C:N',\n",
    "       'Post DOC (mg/ g soil)', 'Post DON (mg/ g soil)', 'C (g/m^2)',\n",
    "       'N (g/m^2)', 'D21 NH4 + NO3 avg/sample', 'NO3- (ug/g soil)',\n",
    "       '% Sand', '% Silt', '% Clay', 'BG_umol/cm^2 SF C', 'CBH_umol/cm^2 SF C', 'PHOS_umol/cm^2 SF C',\n",
    "       'NAG_umol/cm^2 SF C', 'BX_umol/cm^2 SF C', 'AG_umol/cm^2 SF C']\n",
    "for comparison in comparisons:\n",
    "    for column in map_df[columns]:\n",
    "        if comparison == 'M v PG':\n",
    "            category = 'Landform'\n",
    "        else:\n",
    "            category = 'Depth_PG_M'\n",
    "        left = map_df[map_df.index.isin(map_df[map_df[category] == comparisons[comparison][0]].index)][column]\n",
    "        right = map_df[map_df.index.isin(map_df[map_df[category] == comparisons[comparison][1]].index)][column]\n",
    "        columns_test.append(column)\n",
    "        test.append(comparison)\n",
    "        statistic, p_value = stats.kruskal(left.dropna(),right.dropna())\n",
    "        statistics.append(statistic)\n",
    "        p_values.append(p_value)\n",
    "        for i in range(2):\n",
    "            mean_confidence = mean_confidence_interval(map_df[map_df[category] == comparisons[comparison][i]][column].dropna())\n",
    "            means[i].append(mean_confidence[0])\n",
    "            lowers[i].append(mean_confidence[1])\n",
    "            uppers[i].append(mean_confidence[2])\n",
    "\n",
    "anova_df['Columns'] = columns_test\n",
    "anova_df['Comparison'] = test\n",
    "anova_df['Statistic'] = statistics\n",
    "anova_df['P_value'] = p_values\n",
    "anova_df['Left_mean'] = means[0]\n",
    "anova_df['Left_lower'] = lowers[0]\n",
    "anova_df['Left_upper'] = uppers[0]\n",
    "anova_df['Right_mean'] = means[1]\n",
    "anova_df['Right_lower'] = lowers[1]\n",
    "anova_df['Right_upper'] = uppers[1]\n",
    "# anova_df.sort_values('Statistic', ascending=False, inplace=True)\n",
    "anova_df.to_csv('../Statistics/map_df_kw_results.csv')\n",
    "anova_df"
   ]
  },
  {
   "cell_type": "code",
   "execution_count": 33,
   "metadata": {},
   "outputs": [
    {
     "name": "stderr",
     "output_type": "stream",
     "text": [
      "/home/bostevens/anaconda3/envs/py36/lib/python3.6/site-packages/seaborn/_decorators.py:43: FutureWarning: Pass the following variables as keyword args: x, y. From version 0.12, the only valid positional argument will be `data`, and passing other arguments without an explicit keyword will result in an error or misinterpretation.\n",
      "  FutureWarning\n"
     ]
    },
    {
     "data": {
      "text/plain": [
       "<AxesSubplot:xlabel='Landform', ylabel='C_kg_m_2'>"
      ]
     },
     "execution_count": 33,
     "metadata": {},
     "output_type": "execute_result"
    },
    {
     "data": {
      "image/png": "[encoded data removed]",
      "text/plain": [
       "<Figure size 432x288 with 1 Axes>"
      ]
     },
     "metadata": {
      "needs_background": "light"
     },
     "output_type": "display_data"
    }
   ],
   "source": [
    "# sns.barplot('Landform','NAG_umol/cm^2 SF C', data = data)\n",
    "sns.barplot('Landform','C_kg_m_2', hue = 'Depth_category', data = map_df)"
   ]
  },
  {
   "cell_type": "code",
   "execution_count": 34,
   "metadata": {},
   "outputs": [
    {
     "name": "stderr",
     "output_type": "stream",
     "text": [
      "/home/bostevens/anaconda3/envs/py36/lib/python3.6/site-packages/seaborn/_decorators.py:43: FutureWarning: Pass the following variables as keyword args: x, y. From version 0.12, the only valid positional argument will be `data`, and passing other arguments without an explicit keyword will result in an error or misinterpretation.\n",
      "  FutureWarning\n",
      "/home/bostevens/anaconda3/envs/py36/lib/python3.6/site-packages/seaborn/_decorators.py:43: FutureWarning: Pass the following variables as keyword args: x, y. From version 0.12, the only valid positional argument will be `data`, and passing other arguments without an explicit keyword will result in an error or misinterpretation.\n",
      "  FutureWarning\n"
     ]
    },
    {
     "data": {
      "image/png": "[encoded data removed]",
      "text/plain": [
       "<Figure size 432x288 with 1 Axes>"
      ]
     },
     "metadata": {
      "needs_background": "light"
     },
     "output_type": "display_data"
    }
   ],
   "source": [
    "for i in ['PG','M']:\n",
    "    x = map_df[map_df['Landform'] == i]['Depth(cm)']\n",
    "    y = map_df[map_df['Landform'] == i]['org c (g/kg)']\n",
    "    sns.scatterplot('Depth(cm)','org c (g/kg)', data = map_df[map_df['Landform'] == i])"
   ]
  },
  {
   "cell_type": "code",
   "execution_count": 35,
   "metadata": {},
   "outputs": [
    {
     "data": {
      "text/html": [
       "<div>\n",
       "<style scoped>\n",
       "    .dataframe tbody tr th:only-of-type {\n",
       "        vertical-align: middle;\n",
       "    }\n",
       "\n",
       "    .dataframe tbody tr th {\n",
       "        vertical-align: top;\n",
       "    }\n",
       "\n",
       "    .dataframe thead th {\n",
       "        text-align: right;\n",
       "    }\n",
       "</style>\n",
       "<table border=\"1\" class=\"dataframe\">\n",
       "  <thead>\n",
       "    <tr style=\"text-align: right;\">\n",
       "      <th></th>\n",
       "      <th>PC1</th>\n",
       "      <th>PC2</th>\n",
       "    </tr>\n",
       "  </thead>\n",
       "  <tbody>\n",
       "    <tr>\n",
       "      <th>BG_umol/cm^2 SF C</th>\n",
       "      <td>0.438018</td>\n",
       "      <td>-0.028715</td>\n",
       "    </tr>\n",
       "    <tr>\n",
       "      <th>CBH_umol/cm^2 SF C</th>\n",
       "      <td>0.328106</td>\n",
       "      <td>0.784655</td>\n",
       "    </tr>\n",
       "    <tr>\n",
       "      <th>PHOS_umol/cm^2 SF C</th>\n",
       "      <td>0.445421</td>\n",
       "      <td>-0.101305</td>\n",
       "    </tr>\n",
       "    <tr>\n",
       "      <th>NAG_umol/cm^2 SF C</th>\n",
       "      <td>0.441582</td>\n",
       "      <td>0.022067</td>\n",
       "    </tr>\n",
       "    <tr>\n",
       "      <th>BX_umol/cm^2 SF C</th>\n",
       "      <td>0.351586</td>\n",
       "      <td>-0.610409</td>\n",
       "    </tr>\n",
       "    <tr>\n",
       "      <th>AG_umol/cm^2 SF C</th>\n",
       "      <td>0.428345</td>\n",
       "      <td>0.011949</td>\n",
       "    </tr>\n",
       "  </tbody>\n",
       "</table>\n",
       "</div>"
      ],
      "text/plain": [
       "                          PC1       PC2\n",
       "BG_umol/cm^2 SF C    0.438018 -0.028715\n",
       "CBH_umol/cm^2 SF C   0.328106  0.784655\n",
       "PHOS_umol/cm^2 SF C  0.445421 -0.101305\n",
       "NAG_umol/cm^2 SF C   0.441582  0.022067\n",
       "BX_umol/cm^2 SF C    0.351586 -0.610409\n",
       "AG_umol/cm^2 SF C    0.428345  0.011949"
      ]
     },
     "execution_count": 35,
     "metadata": {},
     "output_type": "execute_result"
    }
   ],
   "source": [
    "# Get Lindas help with justification for removing sample\n",
    "# removed ,'LAP_umol/cm^2 SF C'\n",
    "features = ['BG_umol/cm^2 SF C',\n",
    "       'CBH_umol/cm^2 SF C', 'PHOS_umol/cm^2 SF C', 'NAG_umol/cm^2 SF C',\n",
    "       'BX_umol/cm^2 SF C', 'AG_umol/cm^2 SF C']\n",
    "map_df_na = map_df[features].dropna()\n",
    "# Separating out the features\n",
    "x = map_df_na.loc[:, features].values\n",
    "# Separating out the target\n",
    "# y = map_df.loc[:,['target']].values\n",
    "# Standardizing the features\n",
    "x = StandardScaler().fit_transform(x)\n",
    "pca = PCA(n_components=2)\n",
    "principalComponents = pca.fit_transform(x)\n",
    "principalDf = pd.DataFrame(data = principalComponents, index = map_df_na.index\n",
    "             , columns = ['PCA 1', 'PCA 2'])\n",
    "map_df = pd.concat([map_df, principalDf], axis = 1)\n",
    "loadings = pd.DataFrame(pca.components_.T, columns=['PC1', 'PC2'], index=features)\n",
    "loadings"
   ]
  },
  {
   "cell_type": "code",
   "execution_count": 36,
   "metadata": {},
   "outputs": [
    {
     "name": "stdout",
     "output_type": "stream",
     "text": [
      "0.7777145575043782\n",
      "0.6163776209306986\n",
      "F_onewayResult(statistic=0.7265997000396643, pvalue=0.40013190777689067)\n"
     ]
    },
    {
     "name": "stderr",
     "output_type": "stream",
     "text": [
      "/home/bostevens/anaconda3/envs/py36/lib/python3.6/site-packages/scipy/stats/stats.py:1604: UserWarning: kurtosistest only valid for n>=20 ... continuing anyway, n=17\n",
      "  \"anyway, n=%i\" % int(n))\n",
      "/home/bostevens/anaconda3/envs/py36/lib/python3.6/site-packages/scipy/stats/stats.py:1604: UserWarning: kurtosistest only valid for n>=20 ... continuing anyway, n=18\n",
      "  \"anyway, n=%i\" % int(n))\n"
     ]
    },
    {
     "data": {
      "text/plain": [
       "<AxesSubplot:xlabel='Landform', ylabel='Co2-C (ug/m^2) stone-free'>"
      ]
     },
     "execution_count": 36,
     "metadata": {},
     "output_type": "execute_result"
    },
    {
     "data": {
      "image/png": "[encoded data removed]",
      "text/plain": [
       "<Figure size 432x288 with 1 Axes>"
      ]
     },
     "metadata": {
      "needs_background": "light"
     },
     "output_type": "display_data"
    }
   ],
   "source": [
    "k2, p = stats.normaltest(np.log(map_df[map_df['Landform'] == 'M']['Co2-C (ug/m^2) stone-free'].dropna()))\n",
    "print(p)\n",
    "k2, p = stats.normaltest(np.log(map_df[map_df['Landform'] == 'PG']['Co2-C (ug/m^2) stone-free'].dropna()))\n",
    "print(p)\n",
    "print(f_oneway(np.log(map_df[map_df['Landform'] == 'PG']['Co2-C (ug/m^2) stone-free'].dropna()), \n",
    "               np.log(map_df[map_df['Landform'] == 'M']['Co2-C (ug/m^2) stone-free'].dropna())))\n",
    "sns.barplot(x = 'Landform', y = 'Co2-C (ug/m^2) stone-free', hue = 'Depth_category', data = map_df)"
   ]
  },
  {
   "cell_type": "code",
   "execution_count": 37,
   "metadata": {},
   "outputs": [
    {
     "name": "stderr",
     "output_type": "stream",
     "text": [
      "/home/bostevens/anaconda3/envs/py36/lib/python3.6/site-packages/seaborn/_decorators.py:43: FutureWarning: Pass the following variables as keyword args: x, y. From version 0.12, the only valid positional argument will be `data`, and passing other arguments without an explicit keyword will result in an error or misinterpretation.\n",
      "  FutureWarning\n"
     ]
    },
    {
     "data": {
      "text/plain": [
       "<AxesSubplot:xlabel='C_kg_m_2', ylabel='N_kg_m_2'>"
      ]
     },
     "execution_count": 37,
     "metadata": {},
     "output_type": "execute_result"
    },
    {
     "data": {
      "image/png": "[encoded data removed]",
      "text/plain": [
       "<Figure size 432x288 with 1 Axes>"
      ]
     },
     "metadata": {
      "needs_background": "light"
     },
     "output_type": "display_data"
    }
   ],
   "source": [
    "sns.regplot('C_kg_m_2', 'N_kg_m_2', data = map_df)"
   ]
  },
  {
   "cell_type": "code",
   "execution_count": 38,
   "metadata": {},
   "outputs": [
    {
     "data": {
      "image/png": "[encoded data removed]",
      "text/plain": [
       "<Figure size 864x864 with 4 Axes>"
      ]
     },
     "metadata": {
      "needs_background": "light"
     },
     "output_type": "display_data"
    }
   ],
   "source": [
    "# total carbon, total nitrogen, BG, NAG for landform and depth\n",
    "figsize = (12,12)\n",
    "fig, axs = plt.subplots(2, 2, figsize=figsize, sharex=True, sharey=False)\n",
    "\n",
    "kwargs = {'edgecolor': 'black'}\n",
    "\n",
    "sns.barplot(x = 'Landform', y = 'C_kg_m_2', hue = 'Depth_category', data = map_df, palette = ['#ca0020', '#0571b0'],\n",
    "            ax = axs[0,0], **kwargs)\n",
    "axs[0,0].annotate('a)', size = 12, fontweight = 'bold',\n",
    "                  xy=(0.01,0.99), xycoords='axes fraction',horizontalalignment='left', verticalalignment='top')\n",
    "axs[0,0].set_ylabel('C (kg/m$^2$)', size=18)\n",
    "axs[0,0].set_xticklabels(['Meadow', 'Patterned Ground'])\n",
    "axs[0,0].legend(loc = 'upper center')\n",
    "L=axs[0,0].legend(loc = 'upper center')\n",
    "L.get_texts()[0].set_text('Above 30cm')\n",
    "L.get_texts()[1].set_text('Below 30cm')\n",
    "x_axis = axs[0,0].axes.get_xaxis()\n",
    "x_axis.set_visible(False)\n",
    "\n",
    "sns.barplot(x = 'Landform', y = 'N_kg_m_2', hue = 'Depth_category', data = map_df, palette = ['#ca0020', '#0571b0'], \n",
    "            ax = axs[0,1], **kwargs)\n",
    "axs[0,1].annotate('b)', size = 12, fontweight = 'bold',\n",
    "                  xy=(0.01,0.99), xycoords='axes fraction',horizontalalignment='left', verticalalignment='top')\n",
    "axs[0,1].set_ylabel('N (kg/m$^2$)', size=18)\n",
    "axs[0,1].set_xticklabels(['Meadow', 'Patterned Ground'])\n",
    "axs[0,1].get_legend().remove()\n",
    "x_axis = axs[0,1].axes.get_xaxis()\n",
    "x_axis.set_visible(False)\n",
    "\n",
    "sns.barplot(x = 'Landform', y = 'Post DOC (mg/ g soil)', hue = 'Depth_category', data = map_df, palette = ['#ca0020', '#0571b0'],\n",
    "            ax = axs[1,0], **kwargs)\n",
    "axs[1,0].annotate('c)', size = 12, fontweight = 'bold',\n",
    "                  xy=(0.01,0.99), xycoords='axes fraction',horizontalalignment='left', verticalalignment='top')\n",
    "axs[1,0].set_xticklabels(['Meadow', 'Patterned Ground'])\n",
    "axs[1,0].set_ylabel('DOC (mg/g soil)', size=18)\n",
    "axs[1,0].set_xlabel('Landform', size=18)\n",
    "axs[1,0].get_legend().remove()\n",
    "\n",
    "sns.barplot(x = 'Landform', y = 'Post DON (mg/ g soil)', hue = 'Depth_category', data = map_df, palette = ['#ca0020', '#0571b0'],\n",
    "            ax = axs[1,1], **kwargs)\n",
    "axs[1,1].annotate('d)', size = 12, fontweight = 'bold',\n",
    "                  xy=(0.01,0.99), xycoords='axes fraction',horizontalalignment='left', verticalalignment='top')\n",
    "axs[1,1].set_xticklabels(['Meadow', 'Patterned Ground'])\n",
    "axs[1,1].set_ylabel('DON (mg/g soil)', size=18)\n",
    "axs[1,1].set_xlabel('Landform', size=18)\n",
    "axs[1,1].get_legend().remove()\n",
    "\n",
    "plt.tight_layout()\n",
    "\n",
    "filename = 'depth_landform_C_N_c_n.jpg'\n",
    "plt.savefig('../Figures/' + filename, dpi = 300, format = 'jpg')"
   ]
  },
  {
   "cell_type": "code",
   "execution_count": 39,
   "metadata": {},
   "outputs": [
    {
     "data": {
      "text/plain": [
       "Counter({'MA': 8, 'MB': 12, 'PGA': 8, 'PGB': 10})"
      ]
     },
     "execution_count": 39,
     "metadata": {},
     "output_type": "execute_result"
    }
   ],
   "source": [
    "Counter(map_df['Depth_PG_M'])"
   ]
  },
  {
   "cell_type": "code",
   "execution_count": 40,
   "metadata": {},
   "outputs": [
    {
     "data": {
      "text/html": [
       "<div>\n",
       "<style scoped>\n",
       "    .dataframe tbody tr th:only-of-type {\n",
       "        vertical-align: middle;\n",
       "    }\n",
       "\n",
       "    .dataframe tbody tr th {\n",
       "        vertical-align: top;\n",
       "    }\n",
       "\n",
       "    .dataframe thead th {\n",
       "        text-align: right;\n",
       "    }\n",
       "</style>\n",
       "<table border=\"1\" class=\"dataframe\">\n",
       "  <thead>\n",
       "    <tr style=\"text-align: right;\">\n",
       "      <th></th>\n",
       "      <th>PCA 1</th>\n",
       "      <th>PCA 1</th>\n",
       "    </tr>\n",
       "  </thead>\n",
       "  <tbody>\n",
       "    <tr>\n",
       "      <th>PG-PG1-19</th>\n",
       "      <td>-0.146448</td>\n",
       "      <td>-0.146448</td>\n",
       "    </tr>\n",
       "    <tr>\n",
       "      <th>PG-PG1-6</th>\n",
       "      <td>-1.102721</td>\n",
       "      <td>-1.102721</td>\n",
       "    </tr>\n",
       "    <tr>\n",
       "      <th>PG-PG2-11</th>\n",
       "      <td>-1.029505</td>\n",
       "      <td>-1.029505</td>\n",
       "    </tr>\n",
       "    <tr>\n",
       "      <th>PG-PG2-25</th>\n",
       "      <td>-0.925345</td>\n",
       "      <td>-0.925345</td>\n",
       "    </tr>\n",
       "    <tr>\n",
       "      <th>PG-PG3-15</th>\n",
       "      <td>-1.113720</td>\n",
       "      <td>-1.113720</td>\n",
       "    </tr>\n",
       "    <tr>\n",
       "      <th>PG-PG3-8</th>\n",
       "      <td>-0.139007</td>\n",
       "      <td>-0.139007</td>\n",
       "    </tr>\n",
       "    <tr>\n",
       "      <th>PG-SS1-17</th>\n",
       "      <td>-1.157252</td>\n",
       "      <td>-1.157252</td>\n",
       "    </tr>\n",
       "    <tr>\n",
       "      <th>PG-SS1-5</th>\n",
       "      <td>-0.939046</td>\n",
       "      <td>-0.939046</td>\n",
       "    </tr>\n",
       "  </tbody>\n",
       "</table>\n",
       "</div>"
      ],
      "text/plain": [
       "              PCA 1     PCA 1\n",
       "PG-PG1-19 -0.146448 -0.146448\n",
       "PG-PG1-6  -1.102721 -1.102721\n",
       "PG-PG2-11 -1.029505 -1.029505\n",
       "PG-PG2-25 -0.925345 -0.925345\n",
       "PG-PG3-15 -1.113720 -1.113720\n",
       "PG-PG3-8  -0.139007 -0.139007\n",
       "PG-SS1-17 -1.157252 -1.157252\n",
       "PG-SS1-5  -0.939046 -0.939046"
      ]
     },
     "execution_count": 40,
     "metadata": {},
     "output_type": "execute_result"
    }
   ],
   "source": [
    "map_df[map_df['Depth_PG_M'] == 'PGA']['PCA 1'].dropna()"
   ]
  },
  {
   "cell_type": "code",
   "execution_count": 41,
   "metadata": {},
   "outputs": [
    {
     "name": "stdout",
     "output_type": "stream",
     "text": [
      "[0.2312294 0.2312294]\n",
      "[0.52704202 0.52704202]\n",
      "[0.25017883 0.25017883]\n",
      "[0.34215975 0.34215975]\n",
      "[0.00425734 0.00425734]\n",
      "[1.6304284e-05 1.6304284e-05]\n"
     ]
    },
    {
     "name": "stderr",
     "output_type": "stream",
     "text": [
      "/home/bostevens/anaconda3/envs/py36/lib/python3.6/site-packages/scipy/stats/stats.py:1604: UserWarning: kurtosistest only valid for n>=20 ... continuing anyway, n=8\n",
      "  \"anyway, n=%i\" % int(n))\n",
      "/home/bostevens/anaconda3/envs/py36/lib/python3.6/site-packages/scipy/stats/stats.py:1604: UserWarning: kurtosistest only valid for n>=20 ... continuing anyway, n=10\n",
      "  \"anyway, n=%i\" % int(n))\n",
      "/home/bostevens/anaconda3/envs/py36/lib/python3.6/site-packages/scipy/stats/stats.py:1604: UserWarning: kurtosistest only valid for n>=20 ... continuing anyway, n=8\n",
      "  \"anyway, n=%i\" % int(n))\n",
      "/home/bostevens/anaconda3/envs/py36/lib/python3.6/site-packages/scipy/stats/stats.py:1604: UserWarning: kurtosistest only valid for n>=20 ... continuing anyway, n=10\n",
      "  \"anyway, n=%i\" % int(n))\n",
      "/home/bostevens/anaconda3/envs/py36/lib/python3.6/site-packages/scipy/stats/stats.py:1604: UserWarning: kurtosistest only valid for n>=20 ... continuing anyway, n=9\n",
      "  \"anyway, n=%i\" % int(n))\n",
      "/home/bostevens/anaconda3/envs/py36/lib/python3.6/site-packages/scipy/stats/stats.py:1604: UserWarning: kurtosistest only valid for n>=20 ... continuing anyway, n=9\n",
      "  \"anyway, n=%i\" % int(n))\n"
     ]
    }
   ],
   "source": [
    "k2, p = stats.normaltest(map_df[map_df['Depth_PG_M'] == 'PGA']['PCA 1'].dropna())\n",
    "print(p)\n",
    "k2, p = stats.normaltest(map_df[map_df['Depth_PG_M'] == 'PGB']['PCA 1'].dropna())\n",
    "print(p)\n",
    "k2, p = stats.normaltest(map_df[map_df['Depth_PG_M'] == 'PGA']['PCA 2'].dropna())\n",
    "print(p)\n",
    "k2, p = stats.normaltest(map_df[map_df['Depth_PG_M'] == 'PGB']['PCA 2'].dropna())\n",
    "print(p)\n",
    "# k2, p = stats.normaltest(map_df[map_df['Depth_PG_M'] == 'MA']['PCA 1'].dropna())\n",
    "# print(p)\n",
    "k2, p = stats.normaltest(map_df[map_df['Depth_PG_M'] == 'MB']['PCA 1'].dropna())\n",
    "print(p)\n",
    "# k2, p = stats.normaltest(map_df[map_df['Depth_PG_M'] == 'MA']['PCA 2'].dropna())\n",
    "# print(p)\n",
    "k2, p = stats.normaltest(map_df[map_df['Depth_PG_M'] == 'MB']['PCA 2'].dropna())\n",
    "print(p)"
   ]
  },
  {
   "cell_type": "code",
   "execution_count": 42,
   "metadata": {},
   "outputs": [
    {
     "name": "stdout",
     "output_type": "stream",
     "text": [
      "F_onewayResult(statistic=array([4.72901264, 4.72901264]), pvalue=array([0.04500307, 0.04500307]))\n",
      "F_onewayResult(statistic=array([10.30180593, 10.30180593]), pvalue=array([0.0054658, 0.0054658]))\n",
      "KruskalResult(statistic=277.7756302521009, pvalue=2.2926176590903356e-62)\n",
      "KruskalResult(statistic=106.60121381886091, pvalue=5.443984852967382e-25)\n"
     ]
    }
   ],
   "source": [
    "print(f_oneway(map_df[map_df['Depth_PG_M'] == 'PGA']['PCA 1'], map_df[map_df['Depth_PG_M'] == 'PGB']['PCA 1']))\n",
    "print(f_oneway(map_df[map_df['Depth_PG_M'] == 'PGA']['PCA 2'], map_df[map_df['Depth_PG_M'] == 'PGB']['PCA 2']))\n",
    "print(stats.kruskal(map_df[map_df['Depth_PG_M'] == 'MA']['PCA 1'].dropna(), map_df[map_df['Depth_PG_M'] == 'MB']['PCA 1'].dropna()))\n",
    "print(stats.kruskal(map_df[map_df['Depth_PG_M'] == 'MA']['PCA 2'].dropna(), map_df[map_df['Depth_PG_M'] == 'MB']['PCA 2'].dropna()))"
   ]
  },
  {
   "cell_type": "code",
   "execution_count": 43,
   "metadata": {},
   "outputs": [
    {
     "data": {
      "text/plain": [
       "<matplotlib.collections.PathCollection at 0x7f49911219b0>"
      ]
     },
     "execution_count": 43,
     "metadata": {},
     "output_type": "execute_result"
    },
    {
     "data": {
      "image/png": "[encoded data removed]",
      "text/plain": [
       "<Figure size 432x288 with 1 Axes>"
      ]
     },
     "metadata": {
      "needs_background": "light"
     },
     "output_type": "display_data"
    }
   ],
   "source": [
    "plt.scatter(x = 'PCA 1', y = 'PCA 2', data = map_df[map_df['Depth_PG_M'] == 'PGA'], marker = 'o', color = 'red')\n",
    "plt.scatter(x = 'PCA 1', y = 'PCA 2', data = map_df[map_df['Depth_PG_M'] == 'PGB'], marker = 's', color = 'red')\n",
    "plt.scatter(x = 'PCA 1', y = 'PCA 2', data = map_df[map_df['Depth_PG_M'] == 'MA'], marker = 'o', color = 'blue')\n",
    "plt.scatter(x = 'PCA 1', y = 'PCA 2', data = map_df[map_df['Depth_PG_M'] == 'MB'], marker = 's', color = 'blue')"
   ]
  },
  {
   "cell_type": "code",
   "execution_count": null,
   "metadata": {},
   "outputs": [],
   "source": []
  },
  {
   "cell_type": "code",
   "execution_count": 44,
   "metadata": {},
   "outputs": [
    {
     "name": "stdout",
     "output_type": "stream",
     "text": [
      "F_onewayResult(statistic=3.597534335969226, pvalue=0.06591146899357639)\n"
     ]
    },
    {
     "data": {
      "image/png": "[encoded data removed]",
      "text/plain": [
       "<Figure size 432x288 with 1 Axes>"
      ]
     },
     "metadata": {
      "needs_background": "light"
     },
     "output_type": "display_data"
    }
   ],
   "source": [
    "# Does not match Fig. 4 from Zoe's paper\n",
    "# df = data[data['Depth(cm)'] <= 30].copy()\n",
    "# 'Post DOC (mg/ g soil)', 'Post DON (mg/ g soil)', 'C (g/m^2)',\n",
    "#        'N (g/m^2)', 'D21 NH4 + NO3 avg/sample', 'NO3- (ug/g soil)',\n",
    "#        '% Sand', '% Silt', '% Clay'\n",
    "df = map_df\n",
    "# column = 'BG_nmol/g/hr'\n",
    "# column = '% Org C'\n",
    "column = 'NO3- (ug/g soil)'\n",
    "# column = 'C (kg/m^2)'\n",
    "# column = 'N (kg/m^2)'\n",
    "\n",
    "sns.barplot(x = 'Landform', y = column, hue = 'Depth_category', data = df)\n",
    "print(f_oneway(df[df['Landform'] == 'PG'][column], df[df['Landform'] == 'M'][column]))"
   ]
  },
  {
   "cell_type": "code",
   "execution_count": 45,
   "metadata": {},
   "outputs": [],
   "source": [
    "# Figure of standardized average enzyme activity\n",
    "# x = df[['BG_umol/cm^2 SF C','CBH_umol/cm^2 SF C', 'PHOS_umol/cm^2 SF C', 'NAG_umol/cm^2 SF C',\n",
    "#         'BX_umol/cm^2 SF C', 'AG_umol/cm^2 SF C', 'LAP_umol/cm^2 SF C']].values #returns a numpy array\n",
    "# min_max_scaler = preprocessing.MinMaxScaler()\n",
    "# x_scaled = min_max_scaler.fit_transform(x)\n",
    "# df = pd.DataFrame(x_scaled)"
   ]
  },
  {
   "cell_type": "code",
   "execution_count": 46,
   "metadata": {},
   "outputs": [],
   "source": [
    "# Figure of all enzymes in one image, separated by depth category"
   ]
  },
  {
   "cell_type": "code",
   "execution_count": 47,
   "metadata": {},
   "outputs": [
    {
     "name": "stderr",
     "output_type": "stream",
     "text": [
      "/home/bostevens/anaconda3/envs/py36/lib/python3.6/site-packages/seaborn/_decorators.py:43: FutureWarning: Pass the following variables as keyword args: x, y. From version 0.12, the only valid positional argument will be `data`, and passing other arguments without an explicit keyword will result in an error or misinterpretation.\n",
      "  FutureWarning\n"
     ]
    },
    {
     "data": {
      "text/plain": [
       "<AxesSubplot:xlabel='Landform', ylabel='N (g/m^2)'>"
      ]
     },
     "execution_count": 47,
     "metadata": {},
     "output_type": "execute_result"
    },
    {
     "data": {
      "image/png": "[encoded data removed]",
      "text/plain": [
       "<Figure size 432x288 with 1 Axes>"
      ]
     },
     "metadata": {
      "needs_background": "light"
     },
     "output_type": "display_data"
    }
   ],
   "source": [
    "sns.barplot('Landform','N (g/m^2)', hue = 'Depth_category', data = df)"
   ]
  },
  {
   "cell_type": "code",
   "execution_count": 48,
   "metadata": {},
   "outputs": [
    {
     "name": "stdout",
     "output_type": "stream",
     "text": [
      "F_onewayResult(statistic=2.829471191836415, pvalue=0.10736071108284975)\n"
     ]
    },
    {
     "data": {
      "image/png": "[encoded data removed]",
      "text/plain": [
       "<Figure size 432x288 with 1 Axes>"
      ]
     },
     "metadata": {
      "needs_background": "light"
     },
     "output_type": "display_data"
    }
   ],
   "source": [
    "below_30 = map_df[map_df['Depth(cm)'] >= 30]\n",
    "sns.barplot(x = 'Landform', y = 'org c (g/kg)', data = below_30)\n",
    "print(f_oneway(below_30[below_30['Landform'] == 'PG']['org c (g/kg)'], below_30[below_30['Landform'] == 'M']['org c (g/kg)']))"
   ]
  },
  {
   "cell_type": "code",
   "execution_count": 49,
   "metadata": {},
   "outputs": [
    {
     "name": "stdout",
     "output_type": "stream",
     "text": [
      "F_onewayResult(statistic=10.056819727477137, pvalue=0.006798310478565055)\n"
     ]
    },
    {
     "data": {
      "image/png": "[encoded data removed]",
      "text/plain": [
       "<Figure size 432x288 with 1 Axes>"
      ]
     },
     "metadata": {
      "needs_background": "light"
     },
     "output_type": "display_data"
    }
   ],
   "source": [
    "top_30 = map_df[map_df['Depth(cm)'] <= 30].copy()\n",
    "sns.barplot(x = 'Landform', y = 'C (kg/m^2)', data = top_30)\n",
    "print(f_oneway(top_30[top_30['Landform'] == 'PG']['C (kg/m^2)'], top_30[top_30['Landform'] == 'M']['C (kg/m^2)']))"
   ]
  },
  {
   "cell_type": "code",
   "execution_count": 50,
   "metadata": {},
   "outputs": [
    {
     "name": "stdout",
     "output_type": "stream",
     "text": [
      "F_onewayResult(statistic=17.616888379726245, pvalue=0.0008953210000032353)\n"
     ]
    },
    {
     "data": {
      "image/png": "[encoded data removed]",
      "text/plain": [
       "<Figure size 432x288 with 1 Axes>"
      ]
     },
     "metadata": {
      "needs_background": "light"
     },
     "output_type": "display_data"
    }
   ],
   "source": [
    "top_30 = map_df[map_df['Depth(cm)'] <= 30].copy()\n",
    "sns.barplot(x = 'Landform', y = 'org C (kg/m^2)', data = top_30)\n",
    "print(f_oneway(top_30[top_30['Landform'] == 'PG']['org C (kg/m^2)'], top_30[top_30['Landform'] == 'M']['org C (kg/m^2)']))\n",
    "# PG is about 2-3 times higher than other studies in the rockies"
   ]
  },
  {
   "cell_type": "code",
   "execution_count": 51,
   "metadata": {},
   "outputs": [
    {
     "name": "stdout",
     "output_type": "stream",
     "text": [
      "F_onewayResult(statistic=2.2313988500461703, pvalue=0.14473233526703141)\n"
     ]
    },
    {
     "name": "stderr",
     "output_type": "stream",
     "text": [
      "/home/bostevens/anaconda3/envs/py36/lib/python3.6/site-packages/seaborn/_decorators.py:43: FutureWarning: Pass the following variables as keyword args: x, y. From version 0.12, the only valid positional argument will be `data`, and passing other arguments without an explicit keyword will result in an error or misinterpretation.\n",
      "  FutureWarning\n"
     ]
    },
    {
     "data": {
      "image/png": "[encoded data removed]",
      "text/plain": [
       "<Figure size 432x288 with 1 Axes>"
      ]
     },
     "metadata": {
      "needs_background": "light"
     },
     "output_type": "display_data"
    }
   ],
   "source": [
    "df = map_df\n",
    "column = 'Co2-C (ug/m^2) stone-free'\n",
    "sns.barplot('Landform', column, data=map_df)\n",
    "print(f_oneway(df[df['Landform'] == 'PG'][column].dropna(), df[df['Landform'] == 'M'][column].dropna()))"
   ]
  },
  {
   "cell_type": "code",
   "execution_count": 52,
   "metadata": {},
   "outputs": [
    {
     "name": "stderr",
     "output_type": "stream",
     "text": [
      "/home/bostevens/anaconda3/envs/py36/lib/python3.6/site-packages/seaborn/_decorators.py:43: FutureWarning: Pass the following variables as keyword args: x, y. From version 0.12, the only valid positional argument will be `data`, and passing other arguments without an explicit keyword will result in an error or misinterpretation.\n",
      "  FutureWarning\n"
     ]
    },
    {
     "data": {
      "text/plain": [
       "<seaborn.axisgrid.FacetGrid at 0x7f4990ec71d0>"
      ]
     },
     "execution_count": 52,
     "metadata": {},
     "output_type": "execute_result"
    },
    {
     "data": {
      "image/png": "[encoded data removed]",
      "text/plain": [
       "<Figure size 415.625x360 with 1 Axes>"
      ]
     },
     "metadata": {
      "needs_background": "light"
     },
     "output_type": "display_data"
    }
   ],
   "source": [
    "sns.lmplot('% Org C','PHOS_nmol/g/hr', hue = 'Landform', data = map_df, ci = False)"
   ]
  },
  {
   "cell_type": "code",
   "execution_count": 53,
   "metadata": {},
   "outputs": [
    {
     "data": {
      "text/plain": [
       "<seaborn.axisgrid.FacetGrid at 0x7f4990dcb860>"
      ]
     },
     "execution_count": 53,
     "metadata": {},
     "output_type": "execute_result"
    },
    {
     "data": {
      "image/png": "[encoded data removed]",
      "text/plain": [
       "<Figure size 415.625x360 with 1 Axes>"
      ]
     },
     "metadata": {
      "needs_background": "light"
     },
     "output_type": "display_data"
    }
   ],
   "source": [
    "sns.lmplot(x = 'BD (g/cm3)', y ='% total C', hue = 'Landform', data = top_30)"
   ]
  },
  {
   "cell_type": "code",
   "execution_count": 54,
   "metadata": {},
   "outputs": [
    {
     "name": "stderr",
     "output_type": "stream",
     "text": [
      "/home/bostevens/anaconda3/envs/py36/lib/python3.6/site-packages/seaborn/_decorators.py:43: FutureWarning: Pass the following variables as keyword args: x, y. From version 0.12, the only valid positional argument will be `data`, and passing other arguments without an explicit keyword will result in an error or misinterpretation.\n",
      "  FutureWarning\n"
     ]
    },
    {
     "data": {
      "text/plain": [
       "<AxesSubplot:xlabel='Landform', ylabel='Co2-C (ug/m^2) stone-free'>"
      ]
     },
     "execution_count": 54,
     "metadata": {},
     "output_type": "execute_result"
    },
    {
     "data": {
      "image/png": "[encoded data removed]",
      "text/plain": [
       "<Figure size 432x288 with 1 Axes>"
      ]
     },
     "metadata": {
      "needs_background": "light"
     },
     "output_type": "display_data"
    }
   ],
   "source": [
    "sns.barplot('Landform', 'Co2-C (ug/m^2) stone-free', data = map_df)"
   ]
  },
  {
   "cell_type": "code",
   "execution_count": 55,
   "metadata": {},
   "outputs": [
    {
     "data": {
      "text/html": [
       "<div>\n",
       "<style scoped>\n",
       "    .dataframe tbody tr th:only-of-type {\n",
       "        vertical-align: middle;\n",
       "    }\n",
       "\n",
       "    .dataframe tbody tr th {\n",
       "        vertical-align: top;\n",
       "    }\n",
       "\n",
       "    .dataframe thead th {\n",
       "        text-align: right;\n",
       "    }\n",
       "</style>\n",
       "<table border=\"1\" class=\"dataframe\">\n",
       "  <thead>\n",
       "    <tr style=\"text-align: right;\">\n",
       "      <th></th>\n",
       "      <th>Shannon_16S</th>\n",
       "      <th>OTUs_16S</th>\n",
       "      <th>Evenness_16S</th>\n",
       "      <th>Faith_16S</th>\n",
       "      <th>Depth(cm)</th>\n",
       "      <th>pH</th>\n",
       "      <th>Co2-C (ug/m^2) stone-free</th>\n",
       "      <th>PMC (ug/g soil)</th>\n",
       "      <th>Total C (mg/g soil)</th>\n",
       "      <th>Total N (mg/g soil)</th>\n",
       "      <th>...</th>\n",
       "      <th>PCA 2</th>\n",
       "      <th>C (kg/m^2)</th>\n",
       "      <th>org C (kg/m^2)</th>\n",
       "      <th>BG_umol/cm^2 SF C</th>\n",
       "      <th>CBH_umol/cm^2 SF C</th>\n",
       "      <th>PHOS_umol/cm^2 SF C</th>\n",
       "      <th>NAG_umol/cm^2 SF C</th>\n",
       "      <th>BX_umol/cm^2 SF C</th>\n",
       "      <th>AG_umol/cm^2 SF C</th>\n",
       "      <th>Landform</th>\n",
       "    </tr>\n",
       "  </thead>\n",
       "  <tbody>\n",
       "    <tr>\n",
       "      <th>M-SS2-11</th>\n",
       "      <td>7.356170</td>\n",
       "      <td>214</td>\n",
       "      <td>0.950229</td>\n",
       "      <td>19.753039</td>\n",
       "      <td>11</td>\n",
       "      <td>4.10</td>\n",
       "      <td>0.624896</td>\n",
       "      <td>757.271683</td>\n",
       "      <td>26.41</td>\n",
       "      <td>2.38</td>\n",
       "      <td>...</td>\n",
       "      <td>NaN</td>\n",
       "      <td>2.294039</td>\n",
       "      <td>12.754855</td>\n",
       "      <td>NaN</td>\n",
       "      <td>NaN</td>\n",
       "      <td>NaN</td>\n",
       "      <td>NaN</td>\n",
       "      <td>NaN</td>\n",
       "      <td>NaN</td>\n",
       "      <td>M</td>\n",
       "    </tr>\n",
       "    <tr>\n",
       "      <th>M-SS2-30</th>\n",
       "      <td>7.566694</td>\n",
       "      <td>289</td>\n",
       "      <td>0.925598</td>\n",
       "      <td>24.900712</td>\n",
       "      <td>30</td>\n",
       "      <td>4.65</td>\n",
       "      <td>0.129643</td>\n",
       "      <td>55.346917</td>\n",
       "      <td>3.94</td>\n",
       "      <td>0.32</td>\n",
       "      <td>...</td>\n",
       "      <td>-0.052638</td>\n",
       "      <td>1.025437</td>\n",
       "      <td>1.261287</td>\n",
       "      <td>67.614702</td>\n",
       "      <td>0.000000</td>\n",
       "      <td>0.000000</td>\n",
       "      <td>0.000000</td>\n",
       "      <td>0.00000</td>\n",
       "      <td>0.0</td>\n",
       "      <td>M</td>\n",
       "    </tr>\n",
       "    <tr>\n",
       "      <th>M-SS2-80</th>\n",
       "      <td>7.834565</td>\n",
       "      <td>363</td>\n",
       "      <td>0.921299</td>\n",
       "      <td>27.768865</td>\n",
       "      <td>80</td>\n",
       "      <td>4.90</td>\n",
       "      <td>0.203994</td>\n",
       "      <td>31.420367</td>\n",
       "      <td>1.85</td>\n",
       "      <td>0.14</td>\n",
       "      <td>...</td>\n",
       "      <td>3.268604</td>\n",
       "      <td>1.201094</td>\n",
       "      <td>1.405281</td>\n",
       "      <td>0.000000</td>\n",
       "      <td>189.976736</td>\n",
       "      <td>0.000000</td>\n",
       "      <td>0.000000</td>\n",
       "      <td>0.00000</td>\n",
       "      <td>0.0</td>\n",
       "      <td>M</td>\n",
       "    </tr>\n",
       "    <tr>\n",
       "      <th>M-SS3-120</th>\n",
       "      <td>6.615748</td>\n",
       "      <td>140</td>\n",
       "      <td>0.927968</td>\n",
       "      <td>14.234310</td>\n",
       "      <td>120</td>\n",
       "      <td>4.56</td>\n",
       "      <td>0.566158</td>\n",
       "      <td>152.581913</td>\n",
       "      <td>20.65</td>\n",
       "      <td>1.76</td>\n",
       "      <td>...</td>\n",
       "      <td>0.731795</td>\n",
       "      <td>8.320059</td>\n",
       "      <td>25.209777</td>\n",
       "      <td>15.365772</td>\n",
       "      <td>46.307890</td>\n",
       "      <td>139.796894</td>\n",
       "      <td>30.739149</td>\n",
       "      <td>0.34915</td>\n",
       "      <td>0.0</td>\n",
       "      <td>M</td>\n",
       "    </tr>\n",
       "    <tr>\n",
       "      <th>M-SS3-150</th>\n",
       "      <td>6.182769</td>\n",
       "      <td>143</td>\n",
       "      <td>0.863531</td>\n",
       "      <td>14.921211</td>\n",
       "      <td>150</td>\n",
       "      <td>4.87</td>\n",
       "      <td>NaN</td>\n",
       "      <td>71.793379</td>\n",
       "      <td>11.67</td>\n",
       "      <td>0.93</td>\n",
       "      <td>...</td>\n",
       "      <td>NaN</td>\n",
       "      <td>5.147910</td>\n",
       "      <td>9.626592</td>\n",
       "      <td>NaN</td>\n",
       "      <td>NaN</td>\n",
       "      <td>NaN</td>\n",
       "      <td>NaN</td>\n",
       "      <td>NaN</td>\n",
       "      <td>NaN</td>\n",
       "      <td>M</td>\n",
       "    </tr>\n",
       "  </tbody>\n",
       "</table>\n",
       "<p>5 rows × 41 columns</p>\n",
       "</div>"
      ],
      "text/plain": [
       "           Shannon_16S  OTUs_16S  Evenness_16S  Faith_16S  Depth(cm)    pH  \\\n",
       "M-SS2-11      7.356170       214      0.950229  19.753039         11  4.10   \n",
       "M-SS2-30      7.566694       289      0.925598  24.900712         30  4.65   \n",
       "M-SS2-80      7.834565       363      0.921299  27.768865         80  4.90   \n",
       "M-SS3-120     6.615748       140      0.927968  14.234310        120  4.56   \n",
       "M-SS3-150     6.182769       143      0.863531  14.921211        150  4.87   \n",
       "\n",
       "           Co2-C (ug/m^2) stone-free  PMC (ug/g soil)  Total C (mg/g soil)  \\\n",
       "M-SS2-11                    0.624896       757.271683                26.41   \n",
       "M-SS2-30                    0.129643        55.346917                 3.94   \n",
       "M-SS2-80                    0.203994        31.420367                 1.85   \n",
       "M-SS3-120                   0.566158       152.581913                20.65   \n",
       "M-SS3-150                        NaN        71.793379                11.67   \n",
       "\n",
       "           Total N (mg/g soil)  ...     PCA 2  C (kg/m^2)  org C (kg/m^2)  \\\n",
       "M-SS2-11                  2.38  ...       NaN    2.294039       12.754855   \n",
       "M-SS2-30                  0.32  ... -0.052638    1.025437        1.261287   \n",
       "M-SS2-80                  0.14  ...  3.268604    1.201094        1.405281   \n",
       "M-SS3-120                 1.76  ...  0.731795    8.320059       25.209777   \n",
       "M-SS3-150                 0.93  ...       NaN    5.147910        9.626592   \n",
       "\n",
       "           BG_umol/cm^2 SF C  CBH_umol/cm^2 SF C  PHOS_umol/cm^2 SF C  \\\n",
       "M-SS2-11                 NaN                 NaN                  NaN   \n",
       "M-SS2-30           67.614702            0.000000             0.000000   \n",
       "M-SS2-80            0.000000          189.976736             0.000000   \n",
       "M-SS3-120          15.365772           46.307890           139.796894   \n",
       "M-SS3-150                NaN                 NaN                  NaN   \n",
       "\n",
       "           NAG_umol/cm^2 SF C  BX_umol/cm^2 SF C  AG_umol/cm^2 SF C  Landform  \n",
       "M-SS2-11                  NaN                NaN                NaN         M  \n",
       "M-SS2-30             0.000000            0.00000                0.0         M  \n",
       "M-SS2-80             0.000000            0.00000                0.0         M  \n",
       "M-SS3-120           30.739149            0.34915                0.0         M  \n",
       "M-SS3-150                 NaN                NaN                NaN         M  \n",
       "\n",
       "[5 rows x 41 columns]"
      ]
     },
     "execution_count": 55,
     "metadata": {},
     "output_type": "execute_result"
    }
   ],
   "source": [
    "alpha_div_16S = pd.DataFrame()\n",
    "alpha_div_ITS = pd.DataFrame()\n",
    "shannon_16S_df_paired = pd.read_csv('../Bioinformatics/16S/core-metrics-results-paired/shannon/alpha-diversity.tsv', sep = '\\t', index_col = 0)\n",
    "otu_16S_df_paired = pd.read_csv('../Bioinformatics/16S/core-metrics-results-paired/otus/alpha-diversity.tsv', sep = '\\t', index_col = 0)\n",
    "evenness_16S_df_paired = pd.read_csv('../Bioinformatics/16S/core-metrics-results-paired/evenness/alpha-diversity.tsv', sep = '\\t', index_col = 0)\n",
    "faith_16S_df_paired = pd.read_csv('../Bioinformatics/16S/core-metrics-results-paired/faith-pd/alpha-diversity.tsv', sep = '\\t', index_col = 0)\n",
    "shannon_ITS_df_paired = pd.read_csv('../Bioinformatics/ITS/core-metrics-results-paired/shannon/alpha-diversity.tsv', sep = '\\t', index_col = 0)\n",
    "otu_ITS_df_paired = pd.read_csv('../Bioinformatics/ITS/core-metrics-results-paired/otus/alpha-diversity.tsv', sep = '\\t', index_col = 0)\n",
    "evenness_ITS_df_paired = pd.read_csv('../Bioinformatics/ITS/core-metrics-results-paired/evenness/alpha-diversity.tsv', sep = '\\t', index_col = 0)\n",
    "faith_ITS_df_paired = pd.read_csv('../Bioinformatics/ITS/core-metrics-results-paired/faith-pd/alpha-diversity.tsv', sep = '\\t', index_col = 0)\n",
    "\n",
    "alpha_div_16S['Shannon_16S'] = shannon_16S_df_paired['shannon_entropy']\n",
    "alpha_div_16S['OTUs_16S'] = otu_16S_df_paired['observed_features']\n",
    "alpha_div_16S['Evenness_16S'] = evenness_16S_df_paired['pielou_evenness']\n",
    "alpha_div_16S['Faith_16S'] = faith_16S_df_paired['faith_pd']\n",
    "alpha_div_ITS['Shannon_ITS'] = shannon_ITS_df_paired['shannon_entropy']\n",
    "alpha_div_ITS['OTUs_ITS'] = otu_ITS_df_paired['observed_features']\n",
    "alpha_div_ITS['Evenness_ITS'] = evenness_ITS_df_paired['pielou_evenness']\n",
    "alpha_div_ITS['Faith_ITS'] = faith_ITS_df_paired['faith_pd']\n",
    "\n",
    "columns = ['Depth(cm)', 'pH','Co2-C (ug/m^2) stone-free', 'PMC (ug/g soil)', \n",
    "           'Total C (mg/g soil)', 'Total N (mg/g soil)',\n",
    "           'BD (g/cm3)', '% total C', '% Minerals', '% OM', '% Org C',\n",
    "           'org c (g/kg)', '% C', '% N', 'C:N', 'Post DOC (mg/ g soil)',\n",
    "           'Post DON (mg/ g soil)', 'C (g/m^2)', 'N (g/m^2)',\n",
    "           'D21 NH4 + NO3 avg/sample', 'NO3- (ug/g soil)', '% Sand', '% Silt',\n",
    "           '% Clay','PCA 1','PCA 2','C (kg/m^2)', 'org C (kg/m^2)',\n",
    "           'BG_umol/cm^2 SF C', 'CBH_umol/cm^2 SF C', 'PHOS_umol/cm^2 SF C',\n",
    "       'NAG_umol/cm^2 SF C', 'BX_umol/cm^2 SF C', 'AG_umol/cm^2 SF C']\n",
    "columns.append('Landform')\n",
    "alpha_div_16S = alpha_div_16S.merge(map_df[columns], left_index=True, right_index=True)\n",
    "alpha_div_ITS = alpha_div_ITS.merge(map_df[columns], left_index=True, right_index=True)\n",
    "# alpha_div['Landform'] = data['Landform']\n",
    "# alpha_div['Depth(cm)'] = data['Depth(cm)']\n",
    "alpha_div_16S.head()"
   ]
  },
  {
   "cell_type": "code",
   "execution_count": 69,
   "metadata": {},
   "outputs": [
    {
     "data": {
      "image/png": "[encoded data removed]",
      "text/plain": [
       "<Figure size 864x576 with 2 Axes>"
      ]
     },
     "metadata": {
      "needs_background": "light"
     },
     "output_type": "display_data"
    },
    {
     "data": {
      "image/png": "[encoded data removed]",
      "text/plain": [
       "<Figure size 415.625x360 with 1 Axes>"
      ]
     },
     "metadata": {
      "needs_background": "light"
     },
     "output_type": "display_data"
    },
    {
     "data": {
      "image/png": "[encoded data removed]",
      "text/plain": [
       "<Figure size 415.625x360 with 1 Axes>"
      ]
     },
     "metadata": {
      "needs_background": "light"
     },
     "output_type": "display_data"
    }
   ],
   "source": [
    "fig, axes = plt.subplots(1, 2, figsize=(12,8), sharey=True, sharex=False)\n",
    "\n",
    "axes[0] = sns.lmplot(x = 'Depth(cm)', y = 'OTUs_16S', hue = 'Landform', data = alpha_div_16S)\n",
    "axes[1] = sns.lmplot(x = 'Depth(cm)', y = 'OTUs_ITS', hue = 'Landform', data = alpha_div_ITS)"
   ]
  },
  {
   "cell_type": "code",
   "execution_count": 88,
   "metadata": {},
   "outputs": [],
   "source": [
    "ys = ['Depth(cm)', 'pH', 'Co2-C (ug/m^2) stone-free',\n",
    "       'PMC (ug/g soil)', 'Total C (mg/g soil)', 'Total N (mg/g soil)',\n",
    "       'BD (g/cm3)', '% total C',\n",
    "       '% Minerals', '% OM', '% Org C', 'org c (g/kg)', '% C', '% N',\n",
    "       'C:N', 'Post DOC (mg/ g soil)', 'Post DON (mg/ g soil)',\n",
    "       'C (g/m^2)', 'N (g/m^2)', 'D21 NH4 + NO3 avg/sample',\n",
    "       'NO3- (ug/g soil)', '% Sand', '% Silt', '% Clay']\n",
    "xs = ['Shannon', 'OTUs', 'Evenness', 'Faith']\n",
    "\n",
    "corr_list = []\n",
    "lasso_list = []\n",
    "for df in ['16S', 'ITS']:\n",
    "    for landform in ['PG','M']:\n",
    "        for x in xs:\n",
    "            xi = x + '_' + df\n",
    "            for y in ys:\n",
    "                if df == '16S':\n",
    "                    df_corr = alpha_div_16S\n",
    "                elif df == 'ITS':\n",
    "                    df_corr = alpha_div_ITS\n",
    "                df_corr = df_corr[df_corr['Landform'] == landform]\n",
    "                df_corr_r = df_corr[[xi, y]].dropna()\n",
    "                slope, intercept, r_value, p_value, std_err = stats.linregress(df_corr_r[xi],df_corr_r[y])\n",
    "                corr_list.append([df, xi, y, landform, r_value])\n",
    "        ## Lasso\n",
    "#             lasso_df = df_corr[columns_target].dropna()\n",
    "            df_corr = df_corr.dropna()\n",
    "            target = df_corr[xi]\n",
    "            features = df_corr[ys]\n",
    "            lass_cv = LassoCV(alphas=[-100, -10, 0.1, 0.001, 0.0001, 1, 10, 100, 1000], tol = 1, max_iter = 100000)\n",
    "            model_cv = lass_cv.fit(features, target)\n",
    "            lasso_list.extend(model_cv.coef_)\n",
    "        \n",
    "output_df = pd.DataFrame(corr_list, columns = ['DF', 'X', 'Y', 'Landform', 'r'])\n",
    "output_df['Lasso'] = lasso_list\n",
    "output_df.to_csv('../Statistics/landform_richness_correlations.csv')"
   ]
  },
  {
   "cell_type": "code",
   "execution_count": 84,
   "metadata": {},
   "outputs": [
    {
     "data": {
      "text/plain": [
       "[array([ 0., -0., -0., -0., -0., -0.,  0., -0.,  0., -0., -0., -0., -0.,\n",
       "        -0., -0.,  0.,  0.,  0.,  0., -0., -0., -0.,  0.,  0.]),\n",
       " array([ 0.        , -0.        , -0.        , -0.00559731,  0.        ,\n",
       "         0.        ,  0.        ,  0.        , -0.        ,  0.        ,\n",
       "         0.        ,  0.        ,  0.        ,  0.        , -0.        ,\n",
       "         0.        ,  0.        ,  0.0015229 ,  0.        ,  0.        ,\n",
       "        -0.        , -0.        ,  0.        ,  0.        ]),\n",
       " array([ 0., -0., -0., -0., -0., -0.,  0., -0.,  0., -0., -0., -0., -0.,\n",
       "        -0.,  0.,  0., -0., -0., -0., -0., -0.,  0., -0., -0.]),\n",
       " array([ 0.        , -0.        , -0.        , -0.00025741,  0.        ,\n",
       "         0.        , -0.        ,  0.        , -0.        ,  0.        ,\n",
       "         0.        ,  0.        ,  0.        ,  0.        , -0.        ,\n",
       "         0.        ,  0.        ,  0.00027975,  0.        ,  0.        ,\n",
       "        -0.        , -0.        ,  0.        ,  0.        ]),\n",
       " array([-0., -0.,  0., -0., -0., -0.,  0., -0., -0.,  0.,  0.,  0., -0.,\n",
       "        -0., -0., -0., -0., -0., -0., -0.,  0.,  0., -0., -0.]),\n",
       " array([-0.        ,  0.        , -0.        , -0.04905432, -0.        ,\n",
       "        -0.        ,  0.        , -0.        , -0.        ,  0.        ,\n",
       "         0.        ,  0.        , -0.        , -0.        , -0.        ,\n",
       "        -0.        , -0.        , -0.01123746,  0.        ,  0.16186019,\n",
       "         0.        ,  0.        , -0.        , -0.        ]),\n",
       " array([-2.32042554e-04, -2.79672842e-03,  0.00000000e+00,  3.70010858e-06,\n",
       "         4.28484850e-05,  0.00000000e+00, -0.00000000e+00,  0.00000000e+00,\n",
       "        -1.81328767e-04,  3.01539616e-19,  0.00000000e+00,  5.93992272e-06,\n",
       "        -1.54939399e-04, -0.00000000e+00,  1.05800231e-04, -0.00000000e+00,\n",
       "        -0.00000000e+00,  1.33920828e-06, -5.27647859e-07, -3.08586695e-05,\n",
       "         1.19902296e-04, -8.79427276e-05,  1.70574808e-05, -6.94792890e-05]),\n",
       " array([ 0.        ,  0.        , -0.        , -0.00370636, -0.        ,\n",
       "        -0.        ,  0.        , -0.        ,  0.        , -0.        ,\n",
       "        -0.        , -0.        , -0.        , -0.        ,  0.        ,\n",
       "        -0.        , -0.        , -0.00088189, -0.        ,  0.        ,\n",
       "         0.        , -0.        ,  0.        , -0.        ]),\n",
       " array([-0.,  0.,  0.,  0.,  0.,  0., -0.,  0., -0.,  0.,  0.,  0.,  0.,\n",
       "         0.,  0.,  0.,  0.,  0.,  0.,  0.,  0., -0.,  0., -0.]),\n",
       " array([-0.        ,  0.        ,  0.        ,  0.04539277,  0.        ,\n",
       "         0.        , -0.        ,  0.        , -0.        ,  0.        ,\n",
       "         0.        ,  0.        ,  0.        ,  0.        , -0.        ,\n",
       "        -0.        ,  0.        ,  0.00080991, -0.        ,  0.        ,\n",
       "         0.        , -0.        ,  0.        ,  0.        ]),\n",
       " array([-0., -0.,  0.,  0.,  0.,  0.,  0.,  0., -0.,  0.,  0.,  0.,  0.,\n",
       "         0.,  0.,  0.,  0.,  0.,  0., -0.,  0.,  0., -0., -0.]),\n",
       " array([-0.00000000e+00,  0.00000000e+00,  0.00000000e+00,  2.03789743e-03,\n",
       "         0.00000000e+00,  0.00000000e+00, -0.00000000e+00,  0.00000000e+00,\n",
       "        -0.00000000e+00,  0.00000000e+00,  0.00000000e+00,  0.00000000e+00,\n",
       "         0.00000000e+00,  0.00000000e+00, -0.00000000e+00, -0.00000000e+00,\n",
       "         0.00000000e+00,  9.43272317e-05,  0.00000000e+00,  0.00000000e+00,\n",
       "         0.00000000e+00, -0.00000000e+00,  0.00000000e+00,  0.00000000e+00]),\n",
       " array([-0.        , -0.        ,  0.        ,  0.00066702, -0.        ,\n",
       "        -0.        ,  0.        , -0.        ,  0.        , -0.        ,\n",
       "        -0.        , -0.        , -0.        , -0.        ,  0.        ,\n",
       "        -0.        ,  0.        , -0.00025428, -0.        ,  0.00075654,\n",
       "         0.        , -0.        ,  0.        ,  0.        ]),\n",
       " array([-0.18727881, -0.        ,  0.        ,  0.09619355,  0.        ,\n",
       "         0.        , -0.        ,  0.        , -0.        ,  0.        ,\n",
       "         0.        ,  0.        ,  0.        ,  0.        , -0.        ,\n",
       "         0.        ,  0.        ,  0.00272899,  0.        ,  0.        ,\n",
       "         0.        , -0.        ,  0.        ,  0.        ]),\n",
       " array([ 0.00000000e+00,  0.00000000e+00, -0.00000000e+00, -0.00000000e+00,\n",
       "        -0.00000000e+00, -0.00000000e+00,  0.00000000e+00, -0.00000000e+00,\n",
       "         0.00000000e+00, -0.00000000e+00, -0.00000000e+00, -0.00000000e+00,\n",
       "        -0.00000000e+00, -0.00000000e+00,  0.00000000e+00, -0.00000000e+00,\n",
       "        -0.00000000e+00, -4.32793833e-05, -0.00000000e+00,  0.00000000e+00,\n",
       "         0.00000000e+00, -0.00000000e+00,  0.00000000e+00,  0.00000000e+00]),\n",
       " array([-0.09478898, -0.        ,  0.        ,  0.01383864,  0.        ,\n",
       "         0.        , -0.        ,  0.        , -0.        ,  0.        ,\n",
       "         0.        ,  0.        ,  0.        ,  0.        , -0.        ,\n",
       "         0.        ,  0.        ,  0.00080569,  0.        ,  0.        ,\n",
       "         0.        , -0.        ,  0.        ,  0.        ])]"
      ]
     },
     "execution_count": 84,
     "metadata": {},
     "output_type": "execute_result"
    }
   ],
   "source": [
    "lasso_list"
   ]
  },
  {
   "cell_type": "code",
   "execution_count": 88,
   "metadata": {},
   "outputs": [
    {
     "data": {
      "text/plain": [
       "Shannon_ITS       4.771762\n",
       "OTUs_ITS        120.514286\n",
       "Evenness_ITS      0.701876\n",
       "Faith_ITS        24.011555\n",
       "Depth(cm)        57.857143\n",
       "dtype: float64"
      ]
     },
     "execution_count": 88,
     "metadata": {},
     "output_type": "execute_result"
    }
   ],
   "source": [
    "alpha_div_ITS.mean()"
   ]
  },
  {
   "cell_type": "code",
   "execution_count": 89,
   "metadata": {},
   "outputs": [
    {
     "data": {
      "text/plain": [
       "Shannon_ITS      0.934688\n",
       "OTUs_ITS        47.524836\n",
       "Evenness_ITS     0.136315\n",
       "Faith_ITS        8.020335\n",
       "Depth(cm)       49.620408\n",
       "dtype: float64"
      ]
     },
     "execution_count": 89,
     "metadata": {},
     "output_type": "execute_result"
    }
   ],
   "source": [
    "alpha_div_ITS.std()"
   ]
  },
  {
   "cell_type": "code",
   "execution_count": 91,
   "metadata": {},
   "outputs": [
    {
     "name": "stdout",
     "output_type": "stream",
     "text": [
      "F_onewayResult(statistic=3.277218973712939, pvalue=0.07909364714712591)\n",
      "F_onewayResult(statistic=5.765077659184974, pvalue=0.02196365226574083)\n",
      "F_onewayResult(statistic=0.5777648024115445, pvalue=0.4524286720094075)\n",
      "F_onewayResult(statistic=3.3451975683772375, pvalue=0.07618409466878238)\n"
     ]
    }
   ],
   "source": [
    "alpha_div_16S_pg = alpha_div_16S[alpha_div_16S['Landform'] == 'PG']\n",
    "alpha_div_16S_m = alpha_div_16S[alpha_div_16S['Landform'] == 'M']\n",
    "for metric in ['Shannon_16S','OTUs_16S','Evenness_16S','Faith_16S']:\n",
    "    print(f_oneway(alpha_div_16S_pg[metric], alpha_div_16S_m[metric]))"
   ]
  },
  {
   "cell_type": "code",
   "execution_count": 13,
   "metadata": {},
   "outputs": [
    {
     "ename": "NameError",
     "evalue": "name 'alpha_div_16S' is not defined",
     "output_type": "error",
     "traceback": [
      "\u001b[0;31m---------------------------------------------------------------------------\u001b[0m",
      "\u001b[0;31mNameError\u001b[0m                                 Traceback (most recent call last)",
      "\u001b[0;32m<ipython-input-13-f5c9518ce55e>\u001b[0m in \u001b[0;36m<module>\u001b[0;34m\u001b[0m\n\u001b[0;32m----> 1\u001b[0;31m \u001b[0mmoore_lm\u001b[0m \u001b[0;34m=\u001b[0m \u001b[0mols\u001b[0m\u001b[0;34m(\u001b[0m\u001b[0;34m'OTUs_16S ~ Landform'\u001b[0m\u001b[0;34m,\u001b[0m\u001b[0mdata\u001b[0m\u001b[0;34m=\u001b[0m\u001b[0malpha_div_16S\u001b[0m\u001b[0;34m)\u001b[0m\u001b[0;34m.\u001b[0m\u001b[0mfit\u001b[0m\u001b[0;34m(\u001b[0m\u001b[0;34m)\u001b[0m\u001b[0;34m\u001b[0m\u001b[0;34m\u001b[0m\u001b[0m\n\u001b[0m\u001b[1;32m      2\u001b[0m \u001b[0msm\u001b[0m\u001b[0;34m.\u001b[0m\u001b[0mstats\u001b[0m\u001b[0;34m.\u001b[0m\u001b[0manova_lm\u001b[0m\u001b[0;34m(\u001b[0m\u001b[0mmoore_lm\u001b[0m\u001b[0;34m,\u001b[0m \u001b[0mtyp\u001b[0m\u001b[0;34m=\u001b[0m\u001b[0;36m2\u001b[0m\u001b[0;34m)\u001b[0m\u001b[0;34m\u001b[0m\u001b[0;34m\u001b[0m\u001b[0m\n",
      "\u001b[0;31mNameError\u001b[0m: name 'alpha_div_16S' is not defined"
     ]
    }
   ],
   "source": [
    "moore_lm = ols('OTUs_16S ~ Landform',data=alpha_div_16S).fit()\n",
    "sm.stats.anova_lm(moore_lm, typ=2)"
   ]
  },
  {
   "cell_type": "code",
   "execution_count": 92,
   "metadata": {},
   "outputs": [
    {
     "name": "stdout",
     "output_type": "stream",
     "text": [
      "F_onewayResult(statistic=0.03889383960757482, pvalue=0.8448688255817636)\n",
      "F_onewayResult(statistic=0.150763713721705, pvalue=0.7003002925414714)\n",
      "F_onewayResult(statistic=0.3569466135074641, pvalue=0.5542847634708986)\n",
      "F_onewayResult(statistic=1.4895705912490322, pvalue=0.23093279742893416)\n"
     ]
    }
   ],
   "source": [
    "alpha_div_ITS_pg = alpha_div_ITS[alpha_div_ITS['Landform'] == 'PG']\n",
    "alpha_div_ITS_m = alpha_div_ITS[alpha_div_ITS['Landform'] == 'M']\n",
    "for metric in ['Shannon_ITS','OTUs_ITS','Evenness_ITS','Faith_ITS']:\n",
    "    print(f_oneway(alpha_div_ITS_pg[metric], alpha_div_ITS_m[metric]))"
   ]
  },
  {
   "cell_type": "code",
   "execution_count": 68,
   "metadata": {},
   "outputs": [
    {
     "name": "stderr",
     "output_type": "stream",
     "text": [
      "/home/bostevens/anaconda3/envs/py36/lib/python3.6/site-packages/seaborn/_decorators.py:43: FutureWarning: Pass the following variables as keyword args: x, y. From version 0.12, the only valid positional argument will be `data`, and passing other arguments without an explicit keyword will result in an error or misinterpretation.\n",
      "  FutureWarning\n"
     ]
    },
    {
     "data": {
      "text/plain": [
       "<AxesSubplot:xlabel='variable', ylabel='value'>"
      ]
     },
     "execution_count": 68,
     "metadata": {},
     "output_type": "execute_result"
    },
    {
     "data": {
      "image/png": "[encoded data removed]",
      "text/plain": [
       "<Figure size 432x288 with 1 Axes>"
      ]
     },
     "metadata": {
      "needs_background": "light"
     },
     "output_type": "display_data"
    }
   ],
   "source": [
    "sns.barplot('variable', 'value', hue ='Landform', data = alpha_div.melt(id_vars=['Landform']))"
   ]
  },
  {
   "cell_type": "code",
   "execution_count": 19,
   "metadata": {},
   "outputs": [
    {
     "name": "stderr",
     "output_type": "stream",
     "text": [
      "/home/bostevens/anaconda3/envs/py36/lib/python3.6/site-packages/seaborn/_decorators.py:43: FutureWarning: Pass the following variables as keyword args: x, y. From version 0.12, the only valid positional argument will be `data`, and passing other arguments without an explicit keyword will result in an error or misinterpretation.\n",
      "  FutureWarning\n"
     ]
    },
    {
     "data": {
      "text/plain": [
       "<AxesSubplot:xlabel='variable', ylabel='value'>"
      ]
     },
     "execution_count": 19,
     "metadata": {},
     "output_type": "execute_result"
    },
    {
     "data": {
      "image/png": "[encoded data removed]",
      "text/plain": [
       "<Figure size 432x288 with 1 Axes>"
      ]
     },
     "metadata": {
      "needs_background": "light"
     },
     "output_type": "display_data"
    }
   ],
   "source": [
    "sns.barplot('variable','value',data = alpha_div[['OTU_16S','OTU_16S_paired','Gordon_otu']].melt())"
   ]
  },
  {
   "cell_type": "code",
   "execution_count": 36,
   "metadata": {},
   "outputs": [
    {
     "data": {
      "text/html": [
       "<div>\n",
       "<style scoped>\n",
       "    .dataframe tbody tr th:only-of-type {\n",
       "        vertical-align: middle;\n",
       "    }\n",
       "\n",
       "    .dataframe tbody tr th {\n",
       "        vertical-align: top;\n",
       "    }\n",
       "\n",
       "    .dataframe thead th {\n",
       "        text-align: right;\n",
       "    }\n",
       "</style>\n",
       "<table border=\"1\" class=\"dataframe\">\n",
       "  <thead>\n",
       "    <tr style=\"text-align: right;\">\n",
       "      <th></th>\n",
       "      <th>input</th>\n",
       "      <th>filtered</th>\n",
       "      <th>percentage of input passed filter</th>\n",
       "      <th>denoised</th>\n",
       "      <th>merged</th>\n",
       "      <th>percentage of input merged</th>\n",
       "      <th>non-chimeric</th>\n",
       "      <th>percentage of input non-chimeric</th>\n",
       "    </tr>\n",
       "    <tr>\n",
       "      <th>sample-id</th>\n",
       "      <th></th>\n",
       "      <th></th>\n",
       "      <th></th>\n",
       "      <th></th>\n",
       "      <th></th>\n",
       "      <th></th>\n",
       "      <th></th>\n",
       "      <th></th>\n",
       "    </tr>\n",
       "  </thead>\n",
       "  <tbody>\n",
       "    <tr>\n",
       "      <th>M-SS2-11</th>\n",
       "      <td>34138</td>\n",
       "      <td>24512</td>\n",
       "      <td>71.80</td>\n",
       "      <td>22236</td>\n",
       "      <td>16622</td>\n",
       "      <td>48.69</td>\n",
       "      <td>11471</td>\n",
       "      <td>33.60</td>\n",
       "    </tr>\n",
       "    <tr>\n",
       "      <th>M-SS2-30</th>\n",
       "      <td>70293</td>\n",
       "      <td>48939</td>\n",
       "      <td>69.62</td>\n",
       "      <td>45997</td>\n",
       "      <td>40058</td>\n",
       "      <td>56.99</td>\n",
       "      <td>22350</td>\n",
       "      <td>31.80</td>\n",
       "    </tr>\n",
       "    <tr>\n",
       "      <th>M-SS2-80</th>\n",
       "      <td>97895</td>\n",
       "      <td>69248</td>\n",
       "      <td>70.74</td>\n",
       "      <td>66183</td>\n",
       "      <td>57710</td>\n",
       "      <td>58.95</td>\n",
       "      <td>27762</td>\n",
       "      <td>28.36</td>\n",
       "    </tr>\n",
       "    <tr>\n",
       "      <th>M-SS3-120</th>\n",
       "      <td>31400</td>\n",
       "      <td>22614</td>\n",
       "      <td>72.02</td>\n",
       "      <td>21253</td>\n",
       "      <td>18406</td>\n",
       "      <td>58.62</td>\n",
       "      <td>9568</td>\n",
       "      <td>30.47</td>\n",
       "    </tr>\n",
       "    <tr>\n",
       "      <th>M-SS3-150</th>\n",
       "      <td>33903</td>\n",
       "      <td>23431</td>\n",
       "      <td>69.11</td>\n",
       "      <td>21971</td>\n",
       "      <td>19378</td>\n",
       "      <td>57.16</td>\n",
       "      <td>11139</td>\n",
       "      <td>32.86</td>\n",
       "    </tr>\n",
       "  </tbody>\n",
       "</table>\n",
       "</div>"
      ],
      "text/plain": [
       "           input  filtered  percentage of input passed filter  denoised  \\\n",
       "sample-id                                                                 \n",
       "M-SS2-11   34138     24512                              71.80     22236   \n",
       "M-SS2-30   70293     48939                              69.62     45997   \n",
       "M-SS2-80   97895     69248                              70.74     66183   \n",
       "M-SS3-120  31400     22614                              72.02     21253   \n",
       "M-SS3-150  33903     23431                              69.11     21971   \n",
       "\n",
       "           merged  percentage of input merged  non-chimeric  \\\n",
       "sample-id                                                     \n",
       "M-SS2-11    16622                       48.69         11471   \n",
       "M-SS2-30    40058                       56.99         22350   \n",
       "M-SS2-80    57710                       58.95         27762   \n",
       "M-SS3-120   18406                       58.62          9568   \n",
       "M-SS3-150   19378                       57.16         11139   \n",
       "\n",
       "           percentage of input non-chimeric  \n",
       "sample-id                                    \n",
       "M-SS2-11                              33.60  \n",
       "M-SS2-30                              31.80  \n",
       "M-SS2-80                              28.36  \n",
       "M-SS3-120                             30.47  \n",
       "M-SS3-150                             32.86  "
      ]
     },
     "execution_count": 36,
     "metadata": {},
     "output_type": "execute_result"
    }
   ],
   "source": [
    "dada_stats_16s = pd.read_csv('../Bioinformatics/16S/metadata-paired.tsv', index_col= 0,sep = '\\t')\n",
    "dada_stats_16s.head()"
   ]
  },
  {
   "cell_type": "code",
   "execution_count": 21,
   "metadata": {},
   "outputs": [],
   "source": [
    "alpha_div = alpha_div.merge(dada_stats, left_index=True, right_index=True)"
   ]
  },
  {
   "cell_type": "code",
   "execution_count": 40,
   "metadata": {},
   "outputs": [
    {
     "name": "stderr",
     "output_type": "stream",
     "text": [
      "/home/bostevens/anaconda3/envs/py36/lib/python3.6/site-packages/seaborn/_decorators.py:43: FutureWarning: Pass the following variables as keyword args: x, y. From version 0.12, the only valid positional argument will be `data`, and passing other arguments without an explicit keyword will result in an error or misinterpretation.\n",
      "  FutureWarning\n"
     ]
    },
    {
     "data": {
      "text/plain": [
       "<seaborn.axisgrid.FacetGrid at 0x7f67b68b1ac8>"
      ]
     },
     "execution_count": 40,
     "metadata": {},
     "output_type": "execute_result"
    },
    {
     "data": {
      "image/png": "[encoded data removed]",
      "text/plain": [
       "<Figure size 360x360 with 1 Axes>"
      ]
     },
     "metadata": {
      "needs_background": "light"
     },
     "output_type": "display_data"
    }
   ],
   "source": [
    "sns.lmplot('input', 'OTU_16S_paired', data=alpha_div)"
   ]
  },
  {
   "cell_type": "code",
   "execution_count": 26,
   "metadata": {},
   "outputs": [
    {
     "data": {
      "text/plain": [
       "input                                1206993.00\n",
       "filtered                              881115.00\n",
       "percentage of input passed filter       2638.21\n",
       "denoised                              803127.00\n",
       "merged                                618272.00\n",
       "percentage of input merged              1817.10\n",
       "non-chimeric                          402471.00\n",
       "percentage of input non-chimeric        1212.28\n",
       "dtype: float64"
      ]
     },
     "execution_count": 26,
     "metadata": {},
     "output_type": "execute_result"
    }
   ],
   "source": [
    "print(dada_stats_16s.sum(0))"
   ]
  },
  {
   "cell_type": "code",
   "execution_count": 27,
   "metadata": {},
   "outputs": [
    {
     "data": {
      "text/plain": [
       "input                                33527.583333\n",
       "filtered                             24475.416667\n",
       "percentage of input passed filter       73.283611\n",
       "denoised                             22309.083333\n",
       "merged                               17174.222222\n",
       "percentage of input merged              50.475000\n",
       "non-chimeric                         11179.750000\n",
       "percentage of input non-chimeric        33.674444\n",
       "dtype: float64"
      ]
     },
     "execution_count": 27,
     "metadata": {},
     "output_type": "execute_result"
    }
   ],
   "source": [
    "dada_stats_16s.mean()"
   ]
  },
  {
   "cell_type": "code",
   "execution_count": 33,
   "metadata": {},
   "outputs": [
    {
     "name": "stdout",
     "output_type": "stream",
     "text": [
      "input                                979103.00\n",
      "filtered                             841028.00\n",
      "percentage of input passed filter      3015.93\n",
      "denoised                             838166.00\n",
      "merged                               692771.00\n",
      "percentage of input merged             2481.47\n",
      "non-chimeric                         684916.00\n",
      "percentage of input non-chimeric       2453.66\n",
      "dtype: float64\n",
      "input                                27974.371429\n",
      "filtered                             24029.371429\n",
      "percentage of input passed filter       86.169429\n",
      "denoised                             23947.600000\n",
      "merged                               19793.457143\n",
      "percentage of input merged              70.899143\n",
      "non-chimeric                         19569.028571\n",
      "percentage of input non-chimeric        70.104571\n",
      "dtype: float64\n"
     ]
    }
   ],
   "source": [
    "dada_stats_ITS = pd.read_csv('../Bioinformatics/ITS/metadata-paired.tsv', index_col= 0,sep = '\\t')\n",
    "# print(dada_stats_ITS.head())\n",
    "print(dada_stats_ITS.sum(0))\n",
    "print(dada_stats_ITS.mean())"
   ]
  },
  {
   "cell_type": "code",
   "execution_count": 25,
   "metadata": {},
   "outputs": [],
   "source": [
    "# Lasso"
   ]
  },
  {
   "cell_type": "code",
   "execution_count": 28,
   "metadata": {},
   "outputs": [
    {
     "data": {
      "text/plain": [
       "array(['LinkerPrimerSequence', 'BarcodeSequence', 'Landform', 'Pit',\n",
       "       'Landform.1', 'ID', 'Depth(cm)', 'Depth_category', 'Depth_PG_M',\n",
       "       'x', 'y', 'date', 'year', 'year_landform', 'precip_1month',\n",
       "       'precip_2month', 'pH', 'Co2-C (ug/m^2) stone-free',\n",
       "       'PMC (ug/g soil)', 'Total C (mg/g soil)', 'Total N (mg/g soil)',\n",
       "       'Missing16S', 'MissingITS', 'BD (g/cm3)', '% total C',\n",
       "       '% Minerals', '% OM', '% Org C', 'org c (g/kg)', '% C', '% N',\n",
       "       'C:N', 'Post DOC (mg/ g soil)', 'Post DON (mg/ g soil)',\n",
       "       'C (g/m^2)', 'N (g/m^2)', 'D21 NH4 + NO3 avg/sample',\n",
       "       'NO3- (ug/g soil)', '% Sand', '% Silt', '% Clay', 'BG_nmol/g/hr',\n",
       "       'CBH_nmol/g/hr', 'PHOS_nmol/g/hr', 'NAG_nmol/g/hr', 'BX_nmol/g/hr',\n",
       "       'AG_nmol/g/hr', 'LAP_nmol/g/hr', 'BG_umol/cm^2 stone-free',\n",
       "       'CBH_umol/cm^2 stone-free', 'PHOS_umol/cm^2 stone-free',\n",
       "       'NAG_umol/cm^2 stone-free', 'BX_umol/cm^2 stone-free',\n",
       "       'AG_umol/cm^2 stone-free', 'LAP_umol/cm^2 stone-free',\n",
       "       'BG_umol/cm^2 SF C', 'CBH_umol/cm^2 SF C', 'PHOS_umol/cm^2 SF C',\n",
       "       'NAG_umol/cm^2 SF C', 'BX_umol/cm^2 SF C', 'AG_umol/cm^2 SF C',\n",
       "       'LAP_umol/cm^2 SF C', 'C (kg/m^2)', 'org C (kg/m^2)', 'C_kg_m_2',\n",
       "       'N_kg_m_2'], dtype=object)"
      ]
     },
     "execution_count": 28,
     "metadata": {},
     "output_type": "execute_result"
    }
   ],
   "source": [
    "map_df.columns.values"
   ]
  },
  {
   "cell_type": "code",
   "execution_count": 10,
   "metadata": {},
   "outputs": [
    {
     "name": "stdout",
     "output_type": "stream",
     "text": [
      "0.001\n"
     ]
    },
    {
     "data": {
      "text/plain": [
       "<AxesSubplot:>"
      ]
     },
     "execution_count": 10,
     "metadata": {},
     "output_type": "execute_result"
    },
    {
     "data": {
      "image/png": "[encoded data removed]",
      "text/plain": [
       "<Figure size 432x288 with 1 Axes>"
      ]
     },
     "metadata": {
      "needs_background": "light"
     },
     "output_type": "display_data"
    }
   ],
   "source": [
    "variable = 'PCA 1'\n",
    "landform = 'PG'\n",
    "columns = ['Depth(cm)', 'pH',\n",
    "           'BD (g/cm3)', '% total C', '% Minerals', '% OM', '% Org C',\n",
    "           'org c (g/kg)', '% C', '% N', 'C:N', 'Post DOC (mg/ g soil)',\n",
    "           'Post DON (mg/ g soil)', 'C (g/m^2)', 'N (g/m^2)',\n",
    "           'D21 NH4 + NO3 avg/sample', 'NO3- (ug/g soil)', '% Sand', '% Silt',\n",
    "           '% Clay','C (kg/m^2)', 'org C (kg/m^2)']\n",
    "\n",
    "columns_target = columns.copy()\n",
    "columns_target.append(variable)\n",
    "lasso_df = map_df[map_df['Landform'] == landform]\n",
    "lasso_df = lasso_df[columns_target].dropna()\n",
    "target = lasso_df[variable]\n",
    "features = lasso_df[columns]\n",
    "\n",
    "lass_cv = LassoCV(alphas=[-100, -10, 0.1, 0.001, 0.0001, 1, 10, 100, 1000], tol = 10, max_iter = 100000)\n",
    "model_cv = lass_cv.fit(features, target)\n",
    "print(model_cv.alpha_)\n",
    "sns.barplot(x=model_cv.coef_, y = features.columns)"
   ]
  },
  {
   "cell_type": "code",
   "execution_count": 80,
   "metadata": {},
   "outputs": [
    {
     "data": {
      "text/plain": [
       "array([ 1.15826755e-02, -1.96182338e-01, -1.56923293e-01,  8.48301662e-01,\n",
       "       -2.61147890e-03,  0.00000000e+00,  0.00000000e+00,  8.83177592e-07,\n",
       "       -1.74282785e-03,  1.39164109e-02, -1.16902451e-01,  5.05072850e-02,\n",
       "       -0.00000000e+00, -4.17340400e-05, -2.62249373e-05, -4.61187735e-04,\n",
       "       -7.76548884e-04, -1.70555181e-03, -5.68290504e-04,  3.21966355e-03,\n",
       "       -1.26935226e-04,  2.11292270e-04])"
      ]
     },
     "execution_count": 80,
     "metadata": {},
     "output_type": "execute_result"
    }
   ],
   "source": [
    "model_cv.coef_"
   ]
  }
 ],
 "metadata": {
  "kernelspec": {
   "display_name": "Python 3",
   "language": "python",
   "name": "python3"
  },
  "language_info": {
   "codemirror_mode": {
    "name": "ipython",
    "version": 3
   },
   "file_extension": ".py",
   "mimetype": "text/x-python",
   "name": "python",
   "nbconvert_exporter": "python",
   "pygments_lexer": "ipython3",
   "version": "3.6.12"
  }
 },
 "nbformat": 4,
 "nbformat_minor": 4
}
