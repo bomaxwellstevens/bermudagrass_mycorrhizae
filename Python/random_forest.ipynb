{
 "cells": [
  {
   "cell_type": "code",
   "execution_count": null,
   "metadata": {},
   "outputs": [],
   "source": [
    "import pandas as pd\n",
    "import numpy as np\n",
    "import sklearn\n",
    "from sklearn import model_selection\n",
    "from sklearn.feature_extraction.text import TfidfVectorizer\n",
    "from sklearn.feature_selection import SelectPercentile, f_classif\n",
    "from sklearn.feature_extraction.text import CountVectorizer\n",
    "from sklearn.feature_extraction.text import TfidfTransformer\n",
    "from sklearn.model_selection import train_test_split\n",
    "from sklearn.model_selection import GridSearchCV\n",
    "from sklearn.ensemble import RandomForestClassifier\n",
    "from sklearn import metrics\n",
    "from collections import Counter\n",
    "from sklearn.svm import SVC\n",
    "from sklearn.neural_network import MLPClassifier\n",
    "from sklearn.metrics import accuracy_score\n",
    "import matplotlib.pyplot as plt\n",
    "from statsmodels.stats.multicomp import pairwise_tukeyhsd\n",
    "import scipy.stats as stats\n",
    "import seaborn as sns\n",
    "import statsmodels.api as sm\n",
    "from statsmodels.formula.api import ols\n",
    "import time"
   ]
  },
  {
   "cell_type": "code",
   "execution_count": null,
   "metadata": {},
   "outputs": [],
   "source": [
    "sklearn.__version__"
   ]
  },
  {
   "cell_type": "code",
   "execution_count": null,
   "metadata": {},
   "outputs": [],
   "source": [
    "map_df = pd.read_csv('../QIIME2/mapping_file/mapping_file.txt', index_col=0, sep = '\\t').sort_index()\n",
    "map_df[:5]"
   ]
  },
  {
   "cell_type": "code",
   "execution_count": null,
   "metadata": {},
   "outputs": [],
   "source": [
    "# Download L7s from taxa-bar-plots.qzv\n",
    "# Delete env columns for each L7 file\n",
    "alpha_df = pd.read_csv('../QIIME2/exported-table-taxonomy/table.from_biom_w_taxonomy.txt',  skiprows =1, index_col=0, sep ='\\t')\n",
    "rf_df = alpha_df.T\n",
    "numerics = ['int16', 'int32', 'int64', 'float16', 'float32', 'float64']\n",
    "map_df_numeric = map_df.select_dtypes(include=numerics)\n",
    "# rf_df = pd.merge(rf_df, map_df_numeric, left_index=True, right_index=True)\n",
    "rf_df.head()"
   ]
  },
  {
   "cell_type": "code",
   "execution_count": null,
   "metadata": {},
   "outputs": [],
   "source": [
    "def mean_confidence_interval(data, confidence=0.95):\n",
    "    a = 1.0 * np.array(data)\n",
    "    n = len(a)\n",
    "    m, se = np.mean(a), stats.sem(a)\n",
    "    h = se * stats.t.ppf((1 + confidence) / 2., n-1)\n",
    "    return m, m-h, m+h"
   ]
  },
  {
   "cell_type": "code",
   "execution_count": null,
   "metadata": {},
   "outputs": [],
   "source": [
    "# anova_df = pd.DataFrame()\n",
    "# mean_ci_df = pd.DataFrame()\n",
    "# statistics = []\n",
    "# p_values = []\n",
    "# means ={'PG':[],'M': []}\n",
    "# lowers = {'PG':[],'M': []}\n",
    "# uppers = {'PG':[],'M': []}\n",
    "\n",
    "# for column in rf_df.columns.values:\n",
    "    \n",
    "#     pg = rf_df[rf_df.index.isin(map_df[map_df['Landform'] == 'PG'].index)][column]\n",
    "#     m = rf_df[rf_df.index.isin(map_df[map_df['Landform'] == 'M'].index)][column]\n",
    "    \n",
    "#     statistic, p_value = stats.f_oneway(pg,m)\n",
    "#     statistics.append(statistic)\n",
    "#     p_values.append(p_value)\n",
    "#     for i in ['PG','M']:\n",
    "#         mean_confidence = mean_confidence_interval(rf_df[map_df['Landform'] == i][column])\n",
    "#         means[i].append(mean_confidence[0])\n",
    "#         lowers[i].append(mean_confidence[1])\n",
    "#         uppers[i].append(mean_confidence[2])\n",
    "\n",
    "# anova_df['Columns'] = rf_df.columns.values\n",
    "# anova_df['Statistic'] = statistics\n",
    "# anova_df['P_value'] = p_values\n",
    "# anova_df['PG_mean'] = means['PG']\n",
    "# anova_df['PG_lower'] = lowers['PG']\n",
    "# anova_df['PG_upper'] = uppers['PG']\n",
    "# anova_df['M_mean'] = means['M']\n",
    "# anova_df['M_lower'] = lowers['M']\n",
    "# anova_df['M_upper'] = uppers['M']\n",
    "# anova_df.sort_values('Statistic', ascending=False, inplace=True)"
   ]
  },
  {
   "cell_type": "code",
   "execution_count": null,
   "metadata": {},
   "outputs": [],
   "source": [
    "# anova_df.head()"
   ]
  },
  {
   "cell_type": "code",
   "execution_count": null,
   "metadata": {},
   "outputs": [],
   "source": [
    "# anova_df.loc[392][0]"
   ]
  },
  {
   "cell_type": "code",
   "execution_count": null,
   "metadata": {},
   "outputs": [],
   "source": [
    "# list(anova_df['Columns'])"
   ]
  },
  {
   "cell_type": "code",
   "execution_count": null,
   "metadata": {},
   "outputs": [],
   "source": [
    "# moore_lm = ols('D_0__Bacteria;D_1__Chloroflexi;D_2__Ktedonobacteria;D_3__Ktedonobacterales;D_4__Ktedonobacteraceae;D_5__JG30a-KF-32;__ ~ Landform',data=rf_df).fit()\n",
    "# table = sm.stats.anova_lm(moore_lm, typ=2) # Type 2 Anova DataFrame\n",
    "# print(table)"
   ]
  },
  {
   "cell_type": "code",
   "execution_count": null,
   "metadata": {},
   "outputs": [],
   "source": [
    "print(rf_df.shape)\n",
    "print(map_df.shape)"
   ]
  },
  {
   "cell_type": "code",
   "execution_count": null,
   "metadata": {},
   "outputs": [],
   "source": [
    "# start = time.time()\n",
    "# accuracy_list = []\n",
    "# random_chance_list = []\n",
    "# for i in range(50):\n",
    "#     X_train, X_test, Y_train, Y_test = train_test_split(rf_df[rf_df.index.isin(map_df.index)].values,\n",
    "#                                                         map_df[map_df.index.isin(rf_df.index)]['genotype_1'].values, test_size=0.3, random_state=i)\n",
    "#     param_grid = { \n",
    "#         'n_estimators': [200, 500],\n",
    "#         'max_features': ['auto', 'sqrt', 'log2'],\n",
    "#         'max_depth' : [2,3,4,5,6,7,8,9,10],\n",
    "#         'criterion' :['gini', 'entropy']\n",
    "#     }\n",
    "#     rfc=RandomForestClassifier(random_state=42)\n",
    "#     CV_rfc = GridSearchCV(estimator=rfc, param_grid=param_grid, cv= 5)\n",
    "#     CV_rfc.fit(X_train, Y_train)\n",
    "#     predicted = CV_rfc.predict(X_test)\n",
    "# end = time.time()\n",
    "# print(end - start)"
   ]
  },
  {
   "cell_type": "code",
   "execution_count": null,
   "metadata": {},
   "outputs": [],
   "source": [
    "print(CV_rfc.best_params_)"
   ]
  },
  {
   "cell_type": "code",
   "execution_count": 10,
   "metadata": {},
   "outputs": [
    {
     "name": "stdout",
     "output_type": "stream",
     "text": [
      "9.521011590957642\n"
     ]
    }
   ],
   "source": [
    "start = time.time()\n",
    "accuracy_list = []\n",
    "random_chance_list = []\n",
    "predicted_category = 'genotype_1'\n",
    "for i in range(50):\n",
    "    X_train, X_test, Y_train, Y_test = train_test_split(rf_df[rf_df.index.isin(map_df.index)].values,\n",
    "                                                        map_df[map_df.index.isin(rf_df.index)][predicted_category].values, test_size=0.3, random_state=i)\n",
    "    clf = RandomForestClassifier(n_estimators=200, max_features='log2', max_depth=9, random_state=42, criterion= 'gini')\n",
    "    predicted = clf.predict(X_test)\n",
    "    accuracy = accuracy_score(Y_test, predicted)\n",
    "#     if predicted_category == 'Landform':\n",
    "# #     print 'Accuracy:\\t' + str(accuracy)\n",
    "#         sum_counter = float(Counter(Y_test)['PG'] + Counter(Y_test)['M'])\n",
    "#         random_chance = round((Counter(Y_test)['PG']/sum_counter)**2+(Counter(Y_test)['M']/(sum_counter))**2,2)\n",
    "#     elif predicted_category == 'Depth_PG_M':\n",
    "#         sum_counter = float(Counter(Y_test)['PGA'] + Counter(Y_test)['MA'] + Counter(Y_test)['PGB'] + Counter(Y_test)['MB'])\n",
    "\n",
    "#         random_chance = round((Counter(Y_test)['PGA']/sum_counter)**2+(Counter(Y_test)['MA']/(sum_counter))**2 +\n",
    "#                               (Counter(Y_test)['PGB']/sum_counter)**2+(Counter(Y_test)['MB']/sum_counter)**2,2)\n",
    "# #     print 'Random:\\t\\t' + str(random_chance)\n",
    "#     random_chance_list.append(random_chance)\n",
    "    accuracy_list.append(accuracy)\n",
    "end = time.time()\n",
    "print(end - start)"
   ]
  },
  {
   "cell_type": "code",
   "execution_count": null,
   "metadata": {},
   "outputs": [],
   "source": [
    "# Results of genotype\n",
    "# n_estimators=200, max_features='log2', max_depth=9, random_state=42, criterion= 'gini'\n",
    "# 33% accuracy with genotype\n",
    "# Similar importance features as those identified by LDA\n",
    "# Variable: k__fungi;p__Glomeromycota;c__Glomeromycetes;o__Glomerales;f__Glomeraceae;g__Glomus;__ Importance: 0.05\n",
    "# Variable: k__fungi;p__Glomeromycota;c__Glomeromycetes;o__Glomerales;f__Glomeraceae;g__Glomus;s__ORVIN GLO3D Importance: 0.05\n",
    "# Variable: k__fungi;p__Glomeromycota;__;__;__;__;__ Importance: 0.05\n",
    "# Variable: k__fungi;p__Glomeromycota;c__Glomeromycetes;o__Glomerales;f__Glomeraceae;g__Glomus;s__MO-G17 Importance: 0.04\n",
    "# Variable: k__fungi;p__Glomeromycota;c__Glomeromycetes;o__Glomerales;f__Glomeraceae;g__Glomus;s__Yamato09 A2 Importance: 0.04\n",
    "# Variable: k__fungi;p__Glomeromycota;c__Glomeromycetes;o__Glomerales;f__Glomeraceae;g__Glomus;s__Glo45 Importance: 0.04\n",
    "# Variable: k__fungi;p__Glomeromycota;c__Glomeromycetes;o__Glomerales;f__Glomeraceae;g__Glomus;s__MO-G8 Importance: 0.04"
   ]
  },
  {
   "cell_type": "code",
   "execution_count": 16,
   "metadata": {},
   "outputs": [
    {
     "name": "stdout",
     "output_type": "stream",
     "text": [
      "1154.0883734226334\n",
      "5.111079500256419e-56\n"
     ]
    }
   ],
   "source": [
    "# rf = {'Random':random_chance_list, 'Accuracy':accuracy_list}\n",
    "# df_rf_anova = pd.DataFrame(data = rf)\n",
    "# statistic, p_value = stats.f_oneway(df_rf_anova['Random'],df_rf_anova['Accuracy'])\n",
    "# print(statistic)\n",
    "# print(p_value)"
   ]
  },
  {
   "cell_type": "code",
   "execution_count": 11,
   "metadata": {},
   "outputs": [
    {
     "name": "stdout",
     "output_type": "stream",
     "text": [
      "33.023255813953504\n"
     ]
    }
   ],
   "source": [
    "# Just two\n",
    "print(sum(accuracy_list)/len(accuracy_list)*100)\n",
    "# print(sum(random_chance_list)/len(random_chance_list)*100)"
   ]
  },
  {
   "cell_type": "code",
   "execution_count": 18,
   "metadata": {},
   "outputs": [],
   "source": [
    "# # All 4 categories\n",
    "# print(sum(accuracy_list)/len(accuracy_list)*100)\n",
    "# print(sum(random_chance_list)/len(random_chance_list)*100)\n",
    "# # 69.4\n",
    "# # 30.599999999999998"
   ]
  },
  {
   "cell_type": "code",
   "execution_count": 12,
   "metadata": {},
   "outputs": [
    {
     "data": {
      "text/plain": [
       "50"
      ]
     },
     "execution_count": 12,
     "metadata": {},
     "output_type": "execute_result"
    }
   ],
   "source": [
    "len(accuracy_list)"
   ]
  },
  {
   "cell_type": "code",
   "execution_count": 14,
   "metadata": {},
   "outputs": [],
   "source": [
    "# map_df[map_df.index.isin(rf_df.index)]['Depth_PG_M'].value_counts()"
   ]
  },
  {
   "cell_type": "code",
   "execution_count": 15,
   "metadata": {},
   "outputs": [
    {
     "name": "stdout",
     "output_type": "stream",
     "text": [
      "              precision    recall  f1-score   support\n",
      "\n",
      "           1       0.00      0.00      0.00         5\n",
      "           2       0.00      0.00      0.00         1\n",
      "           3       0.17      0.50      0.25         2\n",
      "           4       0.00      0.00      0.00         1\n",
      "           5       0.00      0.00      0.00         3\n",
      "           6       1.00      0.14      0.25         7\n",
      "           7       0.00      0.00      0.00         4\n",
      "           8       0.20      0.17      0.18         6\n",
      "           9       0.00      0.00      0.00         3\n",
      "          10       0.60      0.75      0.67         4\n",
      "          11       0.33      0.20      0.25         5\n",
      "          12       0.17      0.50      0.25         2\n",
      "\n",
      "    accuracy                           0.19        43\n",
      "   macro avg       0.21      0.19      0.15        43\n",
      "weighted avg       0.30      0.19      0.18        43\n",
      "\n"
     ]
    },
    {
     "name": "stderr",
     "output_type": "stream",
     "text": [
      "/home/bostevens/anaconda3/envs/py36/lib/python3.6/site-packages/sklearn/metrics/_classification.py:1221: UndefinedMetricWarning: Precision and F-score are ill-defined and being set to 0.0 in labels with no predicted samples. Use `zero_division` parameter to control this behavior.\n",
      "  _warn_prf(average, modifier, msg_start, len(result))\n"
     ]
    }
   ],
   "source": [
    "print(metrics.classification_report(Y_test, predicted))"
   ]
  },
  {
   "cell_type": "code",
   "execution_count": 16,
   "metadata": {},
   "outputs": [
    {
     "data": {
      "text/plain": [
       "99"
      ]
     },
     "execution_count": 16,
     "metadata": {},
     "output_type": "execute_result"
    }
   ],
   "source": [
    "len(Y_train)"
   ]
  },
  {
   "cell_type": "code",
   "execution_count": 17,
   "metadata": {},
   "outputs": [],
   "source": [
    "# estimator = clf.estimators_[9]\n",
    "# from sklearn.tree import export_graphviz\n",
    "# # Export as dot file\n",
    "# export_graphviz(estimator, \n",
    "#                 out_file='tree.dot', \n",
    "#                 feature_names = list(rf_df.columns),\n",
    "#                 class_names = Y_train,\n",
    "#                 rounded = True, proportion = False, \n",
    "#                 filled = True)\n",
    "# from subprocess import call\n",
    "# call(['dot', '-Tpng', 'tree.dot', '-o', 'tree.png', '-Gdpi=600'])\n",
    "# from IPython.display import Image\n",
    "# Image(filename = 'tree.png')"
   ]
  },
  {
   "cell_type": "code",
   "execution_count": 18,
   "metadata": {},
   "outputs": [
    {
     "name": "stdout",
     "output_type": "stream",
     "text": [
      "Variable: k__fungi;p__Glomeromycota;c__Glomeromycetes;o__Glomerales;f__Glomeraceae;g__Glomus;__ Importance: 0.05\n",
      "Variable: k__fungi;p__Glomeromycota;c__Glomeromycetes;o__Glomerales;f__Glomeraceae;g__Glomus;s__ORVIN GLO3D Importance: 0.05\n",
      "Variable: k__fungi;p__Glomeromycota;__;__;__;__;__ Importance: 0.05\n",
      "Variable: k__fungi;p__Glomeromycota;c__Glomeromycetes;o__Glomerales;f__Glomeraceae;g__Glomus;s__MO-G17 Importance: 0.04\n",
      "Variable: k__fungi;p__Glomeromycota;c__Glomeromycetes;o__Glomerales;f__Glomeraceae;g__Glomus;s__Yamato09 A2 Importance: 0.04\n",
      "Variable: k__fungi;p__Glomeromycota;c__Glomeromycetes;o__Glomerales;f__Glomeraceae;g__Glomus;s__Glo45 Importance: 0.04\n",
      "Variable: k__fungi;p__Glomeromycota;c__Glomeromycetes;o__Glomerales;f__Glomeraceae;g__Glomus;s__MO-G8 Importance: 0.04\n",
      "Variable: k__fungi;p__Glomeromycota;c__Paraglomeromycetes;o__Paraglomerales;f__Paraglomeraceae;g__Paraglomus;__ Importance: 0.04\n",
      "Variable: k__fungi;p__Glomeromycota;c__Glomeromycetes;o__Glomerales;f__Glomeraceae;g__Glomus;s__Glo3b Importance: 0.04\n",
      "Variable: k__fungi;p__Glomeromycota;c__Glomeromycetes;o__Glomerales;f__Glomeraceae;g__Glomus;s__MO-G23 Importance: 0.04\n",
      "Variable: k__fungi;p__Glomeromycota;c__Paraglomeromycetes;o__Paraglomerales;f__Paraglomeraceae;g__Paraglomus;s__Alguacil12a Para 1 Importance: 0.03\n",
      "Variable: k__fungi;p__Glomeromycota;c__Glomeromycetes;__;__;__;__ Importance: 0.03\n",
      "Variable: k__fungi;p__Glomeromycota;c__Glomeromycetes;o__Glomerales;f__Claroideoglomeraceae;g__Claroideoglomus;__ Importance: 0.03\n",
      "Variable: k__fungi;p__Glomeromycota;c__Paraglomeromycetes;o__Paraglomerales;f__Paraglomeraceae;g__Paraglomus;s__Para1-OTU2 Importance: 0.03\n",
      "Variable: k__fungi;p__Glomeromycota;c__Glomeromycetes;o__Glomerales;f__Glomeraceae;g__Glomus;s__MO-G18 Importance: 0.03\n",
      "Variable: k__fungi;p__Glomeromycota;c__Glomeromycetes;o__Glomerales;f__Glomeraceae;g__Glomus;s__MO-G22 Importance: 0.03\n",
      "Variable: k__fungi;p__Glomeromycota;c__Glomeromycetes;o__Diversisporales;f__Acaulosporaceae;g__Acaulospora;s__MO-A5 Importance: 0.03\n",
      "Variable: k__fungi;p__Glomeromycota;c__Archaeosporomycetes;o__Archaeosporales;f__Archaeosporaceae;g__Archaeospora;__ Importance: 0.03\n",
      "Variable: k__fungi;p__Glomeromycota;c__Glomeromycetes;o__Glomerales;f__Glomeraceae;g__Glomus;s__Whitfield type 17 Importance: 0.02\n",
      "Variable: k__fungi;p__Glomeromycota;c__Glomeromycetes;o__Glomerales;f__Glomeraceae;g__Glomus;s__GCL-6 Importance: 0.02\n",
      "Variable: k__fungi;p__Glomeromycota;c__Glomeromycetes;o__Glomerales;f__Claroideoglomeraceae;g__Claroideoglomus;s__acnaGlo7 Importance: 0.02\n",
      "Variable: k__fungi;p__Glomeromycota;c__Glomeromycetes;o__Glomerales;f__Glomeraceae;g__Glomus;s__Torrecillas12b Glo G13 Importance: 0.02\n",
      "Variable: k__fungi;p__Glomeromycota;c__Glomeromycetes;o__Glomerales;__;__;__ Importance: 0.02\n",
      "Variable: k__fungi;p__Glomeromycota;c__Glomeromycetes;o__Glomerales;f__Glomeraceae;g__Glomus;s__Wirsel OTU12 Importance: 0.02\n",
      "Variable: k__fungi;p__Glomeromycota;c__Glomeromycetes;o__Glomerales;f__Glomeraceae;g__Glomus;s__MO-G15 Importance: 0.02\n",
      "Variable: k__fungi;p__Glomeromycota;c__Glomeromycetes;o__Glomerales;f__Glomeraceae;g__Glomus;s__Porras-Alfaro03 OTU1 Importance: 0.01\n",
      "Variable: k__fungi;p__Glomeromycota;c__Glomeromycetes;o__Glomerales;f__Glomeraceae;g__Glomus;s__Glo2 Importance: 0.01\n",
      "Variable: k__fungi;p__Glomeromycota;c__Glomeromycetes;o__Glomerales;f__Glomeraceae;g__Glomus;s__Wirsel OTU16 Importance: 0.01\n",
      "Variable: k__fungi;p__Glomeromycota;c__Glomeromycetes;o__Glomerales;f__Glomeraceae;g__Glomus;s__viscosum Importance: 0.01\n",
      "Variable: k__fungi;p__Glomeromycota;c__Glomeromycetes;o__Glomerales;f__Glomeraceae;g__Glomus;s__Douhan3 Importance: 0.01\n",
      "Variable: k__fungi;p__Glomeromycota;c__Glomeromycetes;o__Diversisporales;f__Diversisporaceae;g__Diversispora;s__sp. Importance: 0.01\n",
      "Variable: k__fungi;p__Glomeromycota;c__Glomeromycetes;o__Glomerales;f__Glomeraceae;g__Glomus;s__NES25 Importance: 0.01\n",
      "Variable: k__fungi;p__Glomeromycota;c__Glomeromycetes;o__Glomerales;f__Glomeraceae;g__Glomus;s__Glo8 Importance: 0.01\n",
      "Variable: k__fungi;p__Glomeromycota;c__Glomeromycetes;o__Glomerales;f__Glomeraceae;g__Glomus;s__MO-G7 Importance: 0.01\n",
      "Variable: k__fungi;p__Glomeromycota;c__Glomeromycetes;o__Glomerales;f__Glomeraceae;g__Glomus;s__Glo14 Importance: 0.01\n",
      "Variable: k__fungi;p__Glomeromycota;c__Glomeromycetes;o__Glomerales;f__Glomeraceae;g__Glomus;s__Glo16 Importance: 0.01\n",
      "Variable: k__fungi;p__Glomeromycota;c__Glomeromycetes;o__Glomerales;f__Glomeraceae;g__Glomus;s__SS-G1 Importance: 0.01\n",
      "Variable: k__fungi;p__Glomeromycota;c__Glomeromycetes;o__Glomerales;f__Claroideoglomeraceae;g__Claroideoglomus;s__Torrecillas12b Glo G5 Importance: 0.01\n",
      "Variable: k__fungi;p__Glomeromycota;c__Glomeromycetes;o__Glomerales;f__Glomeraceae;g__Glomus;s__Wirsel OTU4 Importance: 0.01\n",
      "Variable: k__fungi;p__Glomeromycota;c__Glomeromycetes;o__Glomerales;f__Glomeraceae;g__Glomus;s__Wirsel OTU6 Importance: 0.01\n",
      "Variable: k__fungi;p__Glomeromycota;c__Glomeromycetes;o__Glomerales;f__Glomeraceae;g__Glomus;s__MO-G56 Importance: 0.01\n",
      "Variable: k__fungi;p__Glomeromycota;c__Paraglomeromycetes;o__Paraglomerales;f__Paraglomeraceae;g__Paraglomus;s__Glom 1B.13 Importance: 0.0\n",
      "Variable: k__fungi;p__Glomeromycota;c__Glomeromycetes;o__Glomerales;f__Glomeraceae;g__Glomus;s__GCL-5 Importance: 0.0\n",
      "Variable: k__fungi;p__Glomeromycota;c__Glomeromycetes;o__Glomerales;f__Claroideoglomeraceae;g__Claroideoglomus;s__sp. Importance: 0.0\n",
      "Variable: k__fungi;p__Glomeromycota;c__Glomeromycetes;o__Diversisporales;f__Gigasporaceae;g__Scutellospora;__ Importance: 0.0\n",
      "Variable: k__fungi;p__Glomeromycota;c__Glomeromycetes;o__Glomerales;f__Claroideoglomeraceae;g__Claroideoglomus;s__Glo58 Importance: 0.0\n",
      "Variable: k__fungi;p__Glomeromycota;c__Glomeromycetes;o__Glomerales;f__Claroideoglomeraceae;g__Claroideoglomus;s__ORVIN GLO4 Importance: 0.0\n",
      "Variable: k__fungi;p__Glomeromycota;c__Glomeromycetes;o__Diversisporales;f__Acaulosporaceae;g__Acaulospora;__ Importance: 0.0\n",
      "Variable: k__fungi;p__Glomeromycota;c__Glomeromycetes;o__Diversisporales;f__Diversisporaceae;g__Diversispora;s__MO-GC1 Importance: 0.0\n",
      "Variable: k__fungi;p__Glomeromycota;c__Glomeromycetes;o__Diversisporales;f__Diversisporaceae;g__Diversispora;__ Importance: 0.0\n",
      "Variable: k__fungi;p__Glomeromycota;c__Paraglomeromycetes;o__Paraglomerales;f__Paraglomeraceae;g__Paraglomus;s__IH1 Importance: 0.0\n",
      "Variable: k__fungi;p__Glomeromycota;c__Glomeromycetes;o__Glomerales;f__Glomeraceae;g__Glomus;s__Alguacil09b Glo G3 Importance: 0.0\n",
      "Variable: k__fungi;p__Glomeromycota;c__Glomeromycetes;o__Glomerales;f__Claroideoglomeraceae;g__Claroideoglomus;s__Douhan9 Importance: 0.0\n",
      "Variable: k__fungi;p__Glomeromycota;c__Glomeromycetes;o__Glomerales;f__Glomeraceae;g__Glomus;s__Yamato09 A1 Importance: 0.0\n",
      "Variable: k__fungi;p__Glomeromycota;c__Glomeromycetes;o__Glomerales;f__Glomeraceae;g__Glomus;s__Glo7 Importance: 0.0\n",
      "Variable: k__fungi;p__Glomeromycota;c__Glomeromycetes;o__Glomerales;f__Glomeraceae;g__Glomus;s__Glo3 Importance: 0.0\n",
      "Variable: k__fungi;p__Glomeromycota;c__Paraglomeromycetes;o__Paraglomerales;f__Paraglomeraceae;g__Paraglomus;s__IS-Pg1 Importance: 0.0\n",
      "Variable: k__fungi;p__Glomeromycota;c__Glomeromycetes;o__Glomerales;f__Glomeraceae;g__Glomus;s__Glo-D Importance: 0.0\n",
      "Variable: k__fungi;p__Glomeromycota;c__Glomeromycetes;o__Glomerales;f__Glomeraceae;g__Glomus;s__MO-G27 Importance: 0.0\n",
      "Variable: k__fungi;p__Glomeromycota;c__Glomeromycetes;o__Glomerales;f__Glomeraceae;g__Glomus;s__acnaGlo2 Importance: 0.0\n",
      "Variable: k__fungi;p__Glomeromycota;c__Glomeromycetes;o__Glomerales;f__Glomeraceae;g__Glomus;s__cf. microaggregatum Importance: 0.0\n",
      "Variable: k__fungi;p__Glomeromycota;c__Glomeromycetes;o__Glomerales;f__Claroideoglomeraceae;g__Claroideoglomus;s__Glo59 Importance: 0.0\n",
      "Variable: k__fungi;p__Glomeromycota;c__Glomeromycetes;o__Glomerales;f__Glomeraceae;g__Glomus;s__MO-G14 Importance: 0.0\n",
      "Variable: k__fungi;p__Glomeromycota;c__Glomeromycetes;o__Glomerales;f__Glomeraceae;g__Glomus;s__INTA-4 Importance: 0.0\n",
      "Variable: k__fungi;p__Glomeromycota;c__Glomeromycetes;o__Glomerales;f__Glomeraceae;g__Glomus;s__ORVIN GLO3B Importance: 0.0\n"
     ]
    }
   ],
   "source": [
    "# Use numpy to convert to arrays\n",
    "import numpy as np\n",
    "# Labels are the values we want to predict\n",
    "labels = map_df[map_df.index.isin(rf_df.index)][predicted_category].values\n",
    "# Remove the labels from the features\n",
    "# axis 1 refers to the columns\n",
    "features= rf_df\n",
    "# Saving feature names for later use\n",
    "feature_list = list(features.columns)\n",
    "# Convert to numpy array\n",
    "features = np.array(features)\n",
    "# Get numerical feature importances\n",
    "importances = list(clf.feature_importances_)\n",
    "# List of tuples with variable and importance\n",
    "feature_importances = [(feature, round(importance, 2)) for feature, importance in zip(feature_list, importances)]\n",
    "# Sort the feature importances by most important first\n",
    "feature_importances = sorted(feature_importances, key = lambda x: x[1], reverse = True)\n",
    "# Print out the feature and importances \n",
    "[print('Variable: {:20} Importance: {}'.format(*pair)) for pair in feature_importances];\n"
   ]
  },
  {
   "cell_type": "code",
   "execution_count": 25,
   "metadata": {},
   "outputs": [],
   "source": [
    "feature_importances_asav_count = pd.merge(pd.DataFrame(feature_importances).set_index(0), pd.DataFrame(rf_df.sum(axis = 0)), left_index=True, right_index=True)\n"
   ]
  }
 ],
 "metadata": {
  "kernelspec": {
   "display_name": "Python 3",
   "language": "python",
   "name": "python3"
  },
  "language_info": {
   "codemirror_mode": {
    "name": "ipython",
    "version": 3
   },
   "file_extension": ".py",
   "mimetype": "text/x-python",
   "name": "python",
   "nbconvert_exporter": "python",
   "pygments_lexer": "ipython3",
   "version": "3.6.12"
  }
 },
 "nbformat": 4,
 "nbformat_minor": 4
}
