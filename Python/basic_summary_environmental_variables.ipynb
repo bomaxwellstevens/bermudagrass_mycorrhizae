{
 "cells": [
  {
   "cell_type": "code",
   "execution_count": 13,
   "id": "4f09e9f7",
   "metadata": {},
   "outputs": [],
   "source": [
    "import pandas as pd\n",
    "import numpy as np\n",
    "import statsmodels.api as sm\n",
    "from statsmodels.formula.api import ols\n",
    "from scipy.stats import mstats\n",
    "import seaborn as sns\n",
    "import matplotlib.pyplot as plt"
   ]
  },
  {
   "cell_type": "code",
   "execution_count": 2,
   "id": "3a3a6395",
   "metadata": {},
   "outputs": [
    {
     "name": "stdout",
     "output_type": "stream",
     "text": [
      "(143, 42)\n"
     ]
    },
    {
     "data": {
      "text/html": [
       "<div>\n",
       "<style scoped>\n",
       "    .dataframe tbody tr th:only-of-type {\n",
       "        vertical-align: middle;\n",
       "    }\n",
       "\n",
       "    .dataframe tbody tr th {\n",
       "        vertical-align: top;\n",
       "    }\n",
       "\n",
       "    .dataframe thead th {\n",
       "        text-align: right;\n",
       "    }\n",
       "</style>\n",
       "<table border=\"1\" class=\"dataframe\">\n",
       "  <thead>\n",
       "    <tr style=\"text-align: right;\">\n",
       "      <th></th>\n",
       "      <th>genotype_1</th>\n",
       "      <th>fertility_1</th>\n",
       "      <th>amf</th>\n",
       "      <th>rep_1</th>\n",
       "      <th>group_1</th>\n",
       "      <th>shoot_mass</th>\n",
       "      <th>root_mass</th>\n",
       "      <th>total_mass</th>\n",
       "      <th>ratio_root_to_shoot</th>\n",
       "      <th>root_colonization</th>\n",
       "      <th>...</th>\n",
       "      <th>G_5</th>\n",
       "      <th>FERT_5</th>\n",
       "      <th>AMF</th>\n",
       "      <th>REP_5</th>\n",
       "      <th>group_5</th>\n",
       "      <th>Length</th>\n",
       "      <th>AvgDiam</th>\n",
       "      <th>Forks</th>\n",
       "      <th>SurfArea</th>\n",
       "      <th>Origin</th>\n",
       "    </tr>\n",
       "    <tr>\n",
       "      <th>#SampleID</th>\n",
       "      <th></th>\n",
       "      <th></th>\n",
       "      <th></th>\n",
       "      <th></th>\n",
       "      <th></th>\n",
       "      <th></th>\n",
       "      <th></th>\n",
       "      <th></th>\n",
       "      <th></th>\n",
       "      <th></th>\n",
       "      <th></th>\n",
       "      <th></th>\n",
       "      <th></th>\n",
       "      <th></th>\n",
       "      <th></th>\n",
       "      <th></th>\n",
       "      <th></th>\n",
       "      <th></th>\n",
       "      <th></th>\n",
       "      <th></th>\n",
       "      <th></th>\n",
       "    </tr>\n",
       "  </thead>\n",
       "  <tbody>\n",
       "    <tr>\n",
       "      <th>L1</th>\n",
       "      <td>1</td>\n",
       "      <td>P</td>\n",
       "      <td>Y</td>\n",
       "      <td>1</td>\n",
       "      <td>Common (C. dactylon)</td>\n",
       "      <td>29.961</td>\n",
       "      <td>4.46</td>\n",
       "      <td>34.421</td>\n",
       "      <td>0.129572</td>\n",
       "      <td>43</td>\n",
       "      <td>...</td>\n",
       "      <td>1</td>\n",
       "      <td>P</td>\n",
       "      <td>Y</td>\n",
       "      <td>1</td>\n",
       "      <td>Common (C. dactylon)</td>\n",
       "      <td>162.8464</td>\n",
       "      <td>0.2905</td>\n",
       "      <td>904.0</td>\n",
       "      <td>14.8643</td>\n",
       "      <td>African</td>\n",
       "    </tr>\n",
       "    <tr>\n",
       "      <th>L10</th>\n",
       "      <td>1</td>\n",
       "      <td>PPP</td>\n",
       "      <td>Y</td>\n",
       "      <td>2</td>\n",
       "      <td>Common (C. dactylon)</td>\n",
       "      <td>26.283</td>\n",
       "      <td>10.16</td>\n",
       "      <td>36.443</td>\n",
       "      <td>0.278792</td>\n",
       "      <td>36</td>\n",
       "      <td>...</td>\n",
       "      <td>1</td>\n",
       "      <td>PPP</td>\n",
       "      <td>Y</td>\n",
       "      <td>2</td>\n",
       "      <td>Common (C. dactylon)</td>\n",
       "      <td>329.7942</td>\n",
       "      <td>0.2978</td>\n",
       "      <td>2620.0</td>\n",
       "      <td>30.8595</td>\n",
       "      <td>African</td>\n",
       "    </tr>\n",
       "    <tr>\n",
       "      <th>L100</th>\n",
       "      <td>9</td>\n",
       "      <td>PP</td>\n",
       "      <td>Y</td>\n",
       "      <td>5</td>\n",
       "      <td>Common (C. dactylon)</td>\n",
       "      <td>18.142</td>\n",
       "      <td>6.82</td>\n",
       "      <td>24.962</td>\n",
       "      <td>0.273215</td>\n",
       "      <td>21</td>\n",
       "      <td>...</td>\n",
       "      <td>9</td>\n",
       "      <td>PP</td>\n",
       "      <td>Y</td>\n",
       "      <td>5</td>\n",
       "      <td>Common (C. dactylon)</td>\n",
       "      <td>229.4975</td>\n",
       "      <td>0.3495</td>\n",
       "      <td>1577.0</td>\n",
       "      <td>25.1969</td>\n",
       "      <td>Asian</td>\n",
       "    </tr>\n",
       "    <tr>\n",
       "      <th>L101</th>\n",
       "      <td>9</td>\n",
       "      <td>PP</td>\n",
       "      <td>Y</td>\n",
       "      <td>1</td>\n",
       "      <td>Common (C. dactylon)</td>\n",
       "      <td>25.649</td>\n",
       "      <td>10.88</td>\n",
       "      <td>36.529</td>\n",
       "      <td>0.297846</td>\n",
       "      <td>26</td>\n",
       "      <td>...</td>\n",
       "      <td>9</td>\n",
       "      <td>PP</td>\n",
       "      <td>Y</td>\n",
       "      <td>1</td>\n",
       "      <td>Common (C. dactylon)</td>\n",
       "      <td>216.1839</td>\n",
       "      <td>0.3708</td>\n",
       "      <td>1395.0</td>\n",
       "      <td>25.1835</td>\n",
       "      <td>Asian</td>\n",
       "    </tr>\n",
       "    <tr>\n",
       "      <th>L102</th>\n",
       "      <td>9</td>\n",
       "      <td>PP</td>\n",
       "      <td>Y</td>\n",
       "      <td>2</td>\n",
       "      <td>Common (C. dactylon)</td>\n",
       "      <td>25.664</td>\n",
       "      <td>12.66</td>\n",
       "      <td>38.324</td>\n",
       "      <td>0.330341</td>\n",
       "      <td>39</td>\n",
       "      <td>...</td>\n",
       "      <td>9</td>\n",
       "      <td>PP</td>\n",
       "      <td>Y</td>\n",
       "      <td>2</td>\n",
       "      <td>Common (C. dactylon)</td>\n",
       "      <td>302.0509</td>\n",
       "      <td>0.2743</td>\n",
       "      <td>1827.0</td>\n",
       "      <td>26.0297</td>\n",
       "      <td>Asian</td>\n",
       "    </tr>\n",
       "    <tr>\n",
       "      <th>...</th>\n",
       "      <td>...</td>\n",
       "      <td>...</td>\n",
       "      <td>...</td>\n",
       "      <td>...</td>\n",
       "      <td>...</td>\n",
       "      <td>...</td>\n",
       "      <td>...</td>\n",
       "      <td>...</td>\n",
       "      <td>...</td>\n",
       "      <td>...</td>\n",
       "      <td>...</td>\n",
       "      <td>...</td>\n",
       "      <td>...</td>\n",
       "      <td>...</td>\n",
       "      <td>...</td>\n",
       "      <td>...</td>\n",
       "      <td>...</td>\n",
       "      <td>...</td>\n",
       "      <td>...</td>\n",
       "      <td>...</td>\n",
       "      <td>...</td>\n",
       "    </tr>\n",
       "    <tr>\n",
       "      <th>L95</th>\n",
       "      <td>8</td>\n",
       "      <td>PPP</td>\n",
       "      <td>Y</td>\n",
       "      <td>4</td>\n",
       "      <td>Hybrid (C. transvaalensis)</td>\n",
       "      <td>22.510</td>\n",
       "      <td>8.57</td>\n",
       "      <td>31.080</td>\n",
       "      <td>0.275740</td>\n",
       "      <td>40</td>\n",
       "      <td>...</td>\n",
       "      <td>8</td>\n",
       "      <td>PPP</td>\n",
       "      <td>Y</td>\n",
       "      <td>4</td>\n",
       "      <td>Hybrid (C. transvaalensis)</td>\n",
       "      <td>106.4580</td>\n",
       "      <td>0.3194</td>\n",
       "      <td>150.0</td>\n",
       "      <td>10.6812</td>\n",
       "      <td>African</td>\n",
       "    </tr>\n",
       "    <tr>\n",
       "      <th>L96</th>\n",
       "      <td>9</td>\n",
       "      <td>P</td>\n",
       "      <td>Y</td>\n",
       "      <td>5</td>\n",
       "      <td>Common (C. dactylon)</td>\n",
       "      <td>18.365</td>\n",
       "      <td>8.69</td>\n",
       "      <td>27.055</td>\n",
       "      <td>0.321198</td>\n",
       "      <td>31</td>\n",
       "      <td>...</td>\n",
       "      <td>9</td>\n",
       "      <td>P</td>\n",
       "      <td>Y</td>\n",
       "      <td>5</td>\n",
       "      <td>Common (C. dactylon)</td>\n",
       "      <td>357.6942</td>\n",
       "      <td>0.2741</td>\n",
       "      <td>2434.0</td>\n",
       "      <td>30.8066</td>\n",
       "      <td>Asian</td>\n",
       "    </tr>\n",
       "    <tr>\n",
       "      <th>L97</th>\n",
       "      <td>9</td>\n",
       "      <td>P</td>\n",
       "      <td>Y</td>\n",
       "      <td>1</td>\n",
       "      <td>Common (C. dactylon)</td>\n",
       "      <td>20.526</td>\n",
       "      <td>5.16</td>\n",
       "      <td>25.686</td>\n",
       "      <td>0.200888</td>\n",
       "      <td>36</td>\n",
       "      <td>...</td>\n",
       "      <td>9</td>\n",
       "      <td>P</td>\n",
       "      <td>Y</td>\n",
       "      <td>1</td>\n",
       "      <td>Common (C. dactylon)</td>\n",
       "      <td>213.3945</td>\n",
       "      <td>0.3306</td>\n",
       "      <td>1244.0</td>\n",
       "      <td>22.1649</td>\n",
       "      <td>Asian</td>\n",
       "    </tr>\n",
       "    <tr>\n",
       "      <th>L98</th>\n",
       "      <td>9</td>\n",
       "      <td>P</td>\n",
       "      <td>Y</td>\n",
       "      <td>2</td>\n",
       "      <td>Common (C. dactylon)</td>\n",
       "      <td>21.606</td>\n",
       "      <td>8.77</td>\n",
       "      <td>30.376</td>\n",
       "      <td>0.288715</td>\n",
       "      <td>44</td>\n",
       "      <td>...</td>\n",
       "      <td>9</td>\n",
       "      <td>P</td>\n",
       "      <td>Y</td>\n",
       "      <td>2</td>\n",
       "      <td>Common (C. dactylon)</td>\n",
       "      <td>158.9038</td>\n",
       "      <td>0.2703</td>\n",
       "      <td>1182.0</td>\n",
       "      <td>13.4920</td>\n",
       "      <td>Asian</td>\n",
       "    </tr>\n",
       "    <tr>\n",
       "      <th>L99</th>\n",
       "      <td>9</td>\n",
       "      <td>P</td>\n",
       "      <td>Y</td>\n",
       "      <td>4</td>\n",
       "      <td>Common (C. dactylon)</td>\n",
       "      <td>20.784</td>\n",
       "      <td>10.75</td>\n",
       "      <td>31.534</td>\n",
       "      <td>0.340902</td>\n",
       "      <td>57</td>\n",
       "      <td>...</td>\n",
       "      <td>9</td>\n",
       "      <td>P</td>\n",
       "      <td>Y</td>\n",
       "      <td>4</td>\n",
       "      <td>Common (C. dactylon)</td>\n",
       "      <td>405.0234</td>\n",
       "      <td>0.2930</td>\n",
       "      <td>3263.0</td>\n",
       "      <td>37.2849</td>\n",
       "      <td>Asian</td>\n",
       "    </tr>\n",
       "  </tbody>\n",
       "</table>\n",
       "<p>143 rows × 42 columns</p>\n",
       "</div>"
      ],
      "text/plain": [
       "           genotype_1 fertility_1 amf  rep_1                     group_1  \\\n",
       "#SampleID                                                                  \n",
       "L1                  1           P   Y      1        Common (C. dactylon)   \n",
       "L10                 1         PPP   Y      2        Common (C. dactylon)   \n",
       "L100                9          PP   Y      5        Common (C. dactylon)   \n",
       "L101                9          PP   Y      1        Common (C. dactylon)   \n",
       "L102                9          PP   Y      2        Common (C. dactylon)   \n",
       "...               ...         ...  ..    ...                         ...   \n",
       "L95                 8         PPP   Y      4  Hybrid (C. transvaalensis)   \n",
       "L96                 9           P   Y      5        Common (C. dactylon)   \n",
       "L97                 9           P   Y      1        Common (C. dactylon)   \n",
       "L98                 9           P   Y      2        Common (C. dactylon)   \n",
       "L99                 9           P   Y      4        Common (C. dactylon)   \n",
       "\n",
       "           shoot_mass  root_mass  total_mass  ratio_root_to_shoot  \\\n",
       "#SampleID                                                           \n",
       "L1             29.961       4.46      34.421             0.129572   \n",
       "L10            26.283      10.16      36.443             0.278792   \n",
       "L100           18.142       6.82      24.962             0.273215   \n",
       "L101           25.649      10.88      36.529             0.297846   \n",
       "L102           25.664      12.66      38.324             0.330341   \n",
       "...               ...        ...         ...                  ...   \n",
       "L95            22.510       8.57      31.080             0.275740   \n",
       "L96            18.365       8.69      27.055             0.321198   \n",
       "L97            20.526       5.16      25.686             0.200888   \n",
       "L98            21.606       8.77      30.376             0.288715   \n",
       "L99            20.784      10.75      31.534             0.340902   \n",
       "\n",
       "           root_colonization  ...  G_5 FERT_5  AMF  REP_5  \\\n",
       "#SampleID                     ...                           \n",
       "L1                        43  ...    1      P    Y      1   \n",
       "L10                       36  ...    1    PPP    Y      2   \n",
       "L100                      21  ...    9     PP    Y      5   \n",
       "L101                      26  ...    9     PP    Y      1   \n",
       "L102                      39  ...    9     PP    Y      2   \n",
       "...                      ...  ...  ...    ...  ...    ...   \n",
       "L95                       40  ...    8    PPP    Y      4   \n",
       "L96                       31  ...    9      P    Y      5   \n",
       "L97                       36  ...    9      P    Y      1   \n",
       "L98                       44  ...    9      P    Y      2   \n",
       "L99                       57  ...    9      P    Y      4   \n",
       "\n",
       "                              group_5    Length  AvgDiam   Forks SurfArea  \\\n",
       "#SampleID                                                                   \n",
       "L1               Common (C. dactylon)  162.8464   0.2905   904.0  14.8643   \n",
       "L10              Common (C. dactylon)  329.7942   0.2978  2620.0  30.8595   \n",
       "L100             Common (C. dactylon)  229.4975   0.3495  1577.0  25.1969   \n",
       "L101             Common (C. dactylon)  216.1839   0.3708  1395.0  25.1835   \n",
       "L102             Common (C. dactylon)  302.0509   0.2743  1827.0  26.0297   \n",
       "...                               ...       ...      ...     ...      ...   \n",
       "L95        Hybrid (C. transvaalensis)  106.4580   0.3194   150.0  10.6812   \n",
       "L96              Common (C. dactylon)  357.6942   0.2741  2434.0  30.8066   \n",
       "L97              Common (C. dactylon)  213.3945   0.3306  1244.0  22.1649   \n",
       "L98              Common (C. dactylon)  158.9038   0.2703  1182.0  13.4920   \n",
       "L99              Common (C. dactylon)  405.0234   0.2930  3263.0  37.2849   \n",
       "\n",
       "            Origin  \n",
       "#SampleID           \n",
       "L1         African  \n",
       "L10        African  \n",
       "L100         Asian  \n",
       "L101         Asian  \n",
       "L102         Asian  \n",
       "...            ...  \n",
       "L95        African  \n",
       "L96          Asian  \n",
       "L97          Asian  \n",
       "L98          Asian  \n",
       "L99          Asian  \n",
       "\n",
       "[143 rows x 42 columns]"
      ]
     },
     "execution_count": 2,
     "metadata": {},
     "output_type": "execute_result"
    }
   ],
   "source": [
    "mapping_file = pd.read_csv('../QIIME2.2/mapping_file/mapping_file.csv', index_col=0)\n",
    "print(mapping_file.shape)\n",
    "mapping_file"
   ]
  },
  {
   "cell_type": "code",
   "execution_count": 3,
   "id": "5f5404ae",
   "metadata": {},
   "outputs": [],
   "source": [
    "# mapping_file.describe().to_csv('../Data/summary_info_describe_mapping_file.csv')"
   ]
  },
  {
   "cell_type": "code",
   "execution_count": 4,
   "id": "88b6e04c",
   "metadata": {},
   "outputs": [
    {
     "data": {
      "text/plain": [
       "array(['genotype_1', 'fertility_1', 'amf', 'rep_1', 'group_1',\n",
       "       'shoot_mass', 'root_mass', 'total_mass', 'ratio_root_to_shoot',\n",
       "       'root_colonization', 'genotype_2`', 'fertility_2', 'rep_2',\n",
       "       'total_biomass_esponse', 'root_biomass_response',\n",
       "       'shoot_biomass_response', 'genotype_4', 'fertility_4', 'inoculum',\n",
       "       'rep_4', 'TN', 'P', 'Ca', 'K', 'Mg', 'Na', 'S', 'B', 'Fe', 'Zn',\n",
       "       'Cu', 'Mn', 'G_5', 'FERT_5', 'AMF', 'REP_5', 'group_5', 'Length',\n",
       "       'AvgDiam', 'Forks', 'SurfArea', 'Origin'], dtype=object)"
      ]
     },
     "execution_count": 4,
     "metadata": {},
     "output_type": "execute_result"
    }
   ],
   "source": [
    "mapping_file.columns.values"
   ]
  },
  {
   "cell_type": "code",
   "execution_count": 5,
   "id": "650de56f",
   "metadata": {},
   "outputs": [
    {
     "data": {
      "text/html": [
       "<div>\n",
       "<style scoped>\n",
       "    .dataframe tbody tr th:only-of-type {\n",
       "        vertical-align: middle;\n",
       "    }\n",
       "\n",
       "    .dataframe tbody tr th {\n",
       "        vertical-align: top;\n",
       "    }\n",
       "\n",
       "    .dataframe thead th {\n",
       "        text-align: right;\n",
       "    }\n",
       "</style>\n",
       "<table border=\"1\" class=\"dataframe\">\n",
       "  <thead>\n",
       "    <tr style=\"text-align: right;\">\n",
       "      <th></th>\n",
       "      <th>sum_sq</th>\n",
       "      <th>df</th>\n",
       "      <th>F</th>\n",
       "      <th>PR(&gt;F)</th>\n",
       "    </tr>\n",
       "  </thead>\n",
       "  <tbody>\n",
       "    <tr>\n",
       "      <th>C(genotype_1)</th>\n",
       "      <td>1154.743927</td>\n",
       "      <td>11.0</td>\n",
       "      <td>1.702175</td>\n",
       "      <td>0.082428</td>\n",
       "    </tr>\n",
       "    <tr>\n",
       "      <th>C(fertility_1)</th>\n",
       "      <td>14.092614</td>\n",
       "      <td>2.0</td>\n",
       "      <td>0.114254</td>\n",
       "      <td>0.892140</td>\n",
       "    </tr>\n",
       "    <tr>\n",
       "      <th>C(genotype_1):C(fertility_1)</th>\n",
       "      <td>1040.793750</td>\n",
       "      <td>22.0</td>\n",
       "      <td>0.767102</td>\n",
       "      <td>0.758253</td>\n",
       "    </tr>\n",
       "    <tr>\n",
       "      <th>Residual</th>\n",
       "      <td>6598.916667</td>\n",
       "      <td>107.0</td>\n",
       "      <td>NaN</td>\n",
       "      <td>NaN</td>\n",
       "    </tr>\n",
       "  </tbody>\n",
       "</table>\n",
       "</div>"
      ],
      "text/plain": [
       "                                   sum_sq     df         F    PR(>F)\n",
       "C(genotype_1)                 1154.743927   11.0  1.702175  0.082428\n",
       "C(fertility_1)                  14.092614    2.0  0.114254  0.892140\n",
       "C(genotype_1):C(fertility_1)  1040.793750   22.0  0.767102  0.758253\n",
       "Residual                      6598.916667  107.0       NaN       NaN"
      ]
     },
     "execution_count": 5,
     "metadata": {},
     "output_type": "execute_result"
    }
   ],
   "source": [
    "model = ols('root_colonization' + ' ~ C(genotype_1) + C(fertility_1) + C(genotype_1):C(fertility_1)', data=mapping_file).fit()\n",
    "anova_table = sm.stats.anova_lm(model, typ=2)\n",
    "anova_table"
   ]
  },
  {
   "cell_type": "code",
   "execution_count": 6,
   "id": "fcbf9ee8",
   "metadata": {},
   "outputs": [
    {
     "data": {
      "text/plain": [
       "Index(['sum_sq', 'df', 'F', 'PR(>F)'], dtype='object')"
      ]
     },
     "execution_count": 6,
     "metadata": {},
     "output_type": "execute_result"
    }
   ],
   "source": [
    "anova_table.columns"
   ]
  },
  {
   "cell_type": "code",
   "execution_count": 7,
   "id": "536c431f",
   "metadata": {},
   "outputs": [
    {
     "data": {
      "text/plain": [
       "C(genotype_1)                   1.702175\n",
       "C(fertility_1)                  0.114254\n",
       "C(genotype_1):C(fertility_1)    0.767102\n",
       "Residual                             NaN\n",
       "Name: F, dtype: float64"
      ]
     },
     "execution_count": 7,
     "metadata": {},
     "output_type": "execute_result"
    }
   ],
   "source": [
    "anova_table['F']"
   ]
  },
  {
   "cell_type": "code",
   "execution_count": 12,
   "id": "ada01cda",
   "metadata": {},
   "outputs": [
    {
     "data": {
      "text/plain": [
       "Origin \n",
       "African    84\n",
       "Asian      59\n",
       "dtype: int64"
      ]
     },
     "execution_count": 12,
     "metadata": {},
     "output_type": "execute_result"
    }
   ],
   "source": [
    "mapping_file[['Origin']].value_counts()"
   ]
  },
  {
   "cell_type": "code",
   "execution_count": 16,
   "id": "d2a26383",
   "metadata": {},
   "outputs": [],
   "source": [
    "H, pval = mstats.kruskalwallis(mapping_file[mapping_file['Origin'] == 'Asian']['shoot_mass'].values, mapping_file[mapping_file['Origin'] == 'African']['shoot_mass'].values)"
   ]
  },
  {
   "cell_type": "code",
   "execution_count": 20,
   "id": "5439a4a5",
   "metadata": {},
   "outputs": [
    {
     "data": {
      "text/html": [
       "<div>\n",
       "<style scoped>\n",
       "    .dataframe tbody tr th:only-of-type {\n",
       "        vertical-align: middle;\n",
       "    }\n",
       "\n",
       "    .dataframe tbody tr th {\n",
       "        vertical-align: top;\n",
       "    }\n",
       "\n",
       "    .dataframe thead th {\n",
       "        text-align: right;\n",
       "    }\n",
       "</style>\n",
       "<table border=\"1\" class=\"dataframe\">\n",
       "  <thead>\n",
       "    <tr style=\"text-align: right;\">\n",
       "      <th></th>\n",
       "      <th>Measurement</th>\n",
       "      <th>F stat (G)</th>\n",
       "      <th>P value (G)</th>\n",
       "      <th>F stat (F)</th>\n",
       "      <th>P value (F)</th>\n",
       "      <th>F stat (GxF)</th>\n",
       "      <th>P value (GxF)</th>\n",
       "      <th>H stat (Origin)</th>\n",
       "      <th>P value (Origin)</th>\n",
       "    </tr>\n",
       "  </thead>\n",
       "  <tbody>\n",
       "    <tr>\n",
       "      <th>0</th>\n",
       "      <td>Shoot mass</td>\n",
       "      <td>10.9</td>\n",
       "      <td>&lt; 0.001</td>\n",
       "      <td>15.2</td>\n",
       "      <td>&lt; 0.001</td>\n",
       "      <td>1.9</td>\n",
       "      <td>0.015</td>\n",
       "      <td>14.7</td>\n",
       "      <td>&lt; 0.001</td>\n",
       "    </tr>\n",
       "    <tr>\n",
       "      <th>1</th>\n",
       "      <td>Root mass</td>\n",
       "      <td>6.8</td>\n",
       "      <td>&lt; 0.001</td>\n",
       "      <td>0.1</td>\n",
       "      <td>0.932</td>\n",
       "      <td>1.3</td>\n",
       "      <td>0.213</td>\n",
       "      <td>8.6</td>\n",
       "      <td>0.003</td>\n",
       "    </tr>\n",
       "    <tr>\n",
       "      <th>2</th>\n",
       "      <td>Total mass</td>\n",
       "      <td>11.1</td>\n",
       "      <td>&lt; 0.001</td>\n",
       "      <td>3.6</td>\n",
       "      <td>0.031</td>\n",
       "      <td>1.4</td>\n",
       "      <td>0.126</td>\n",
       "      <td>17.2</td>\n",
       "      <td>&lt; 0.001</td>\n",
       "    </tr>\n",
       "    <tr>\n",
       "      <th>3</th>\n",
       "      <td>Root/shoot ratio</td>\n",
       "      <td>4.0</td>\n",
       "      <td>&lt; 0.001</td>\n",
       "      <td>3.5</td>\n",
       "      <td>0.034</td>\n",
       "      <td>1.4</td>\n",
       "      <td>0.131</td>\n",
       "      <td>0.9</td>\n",
       "      <td>0.339</td>\n",
       "    </tr>\n",
       "    <tr>\n",
       "      <th>4</th>\n",
       "      <td>Root colonization</td>\n",
       "      <td>1.7</td>\n",
       "      <td>0.082</td>\n",
       "      <td>0.1</td>\n",
       "      <td>0.892</td>\n",
       "      <td>0.8</td>\n",
       "      <td>0.758</td>\n",
       "      <td>2.1</td>\n",
       "      <td>0.149</td>\n",
       "    </tr>\n",
       "  </tbody>\n",
       "</table>\n",
       "</div>"
      ],
      "text/plain": [
       "         Measurement  F stat (G) P value (G)  F stat (F) P value (F)  \\\n",
       "0         Shoot mass        10.9     < 0.001        15.2     < 0.001   \n",
       "1          Root mass         6.8     < 0.001         0.1       0.932   \n",
       "2         Total mass        11.1     < 0.001         3.6       0.031   \n",
       "3   Root/shoot ratio         4.0     < 0.001         3.5       0.034   \n",
       "4  Root colonization         1.7       0.082         0.1       0.892   \n",
       "\n",
       "   F stat (GxF) P value (GxF)  H stat (Origin) P value (Origin)  \n",
       "0           1.9         0.015             14.7          < 0.001  \n",
       "1           1.3         0.213              8.6            0.003  \n",
       "2           1.4         0.126             17.2          < 0.001  \n",
       "3           1.4         0.131              0.9            0.339  \n",
       "4           0.8         0.758              2.1            0.149  "
      ]
     },
     "execution_count": 20,
     "metadata": {},
     "output_type": "execute_result"
    }
   ],
   "source": [
    "p_values_1 = []\n",
    "p_values_2 = []\n",
    "p_values_3 = []\n",
    "p_values_4 = []\n",
    "f_stats_1 = []\n",
    "f_stats_2 = []\n",
    "f_stats_3 = []\n",
    "f_stats_4 = []\n",
    "columns = ['shoot_mass', 'root_mass', 'total_mass', 'ratio_root_to_shoot',\n",
    "       'root_colonization', 'total_biomass_esponse', 'root_biomass_response','shoot_biomass_response', 'TN',\n",
    "       'P', 'Ca', 'K', 'Mg', 'Na', 'S', 'Fe', 'Zn', 'Cu', 'Mn', 'Length',\n",
    "       'AvgDiam', 'Forks', 'SurfArea']\n",
    "for col in columns:\n",
    "#     print(col)\n",
    "    model = ols(col + ' ~ C(genotype_1) + C(fertility_1) + C(genotype_1):C(fertility_1)', data=mapping_file).fit()\n",
    "    anova_table = sm.stats.anova_lm(model, typ=2)\n",
    "    f_stats_1.append(anova_table['F'][0])\n",
    "    f_stats_2.append(anova_table['F'][1])\n",
    "    f_stats_3.append(anova_table['F'][2])\n",
    "    p_values_1.append(anova_table['PR(>F)'][0])\n",
    "    p_values_2.append(anova_table['PR(>F)'][1])\n",
    "    p_values_3.append(anova_table['PR(>F)'][2])\n",
    "    \n",
    "    H, pval = mstats.kruskalwallis(mapping_file[mapping_file['Origin'] == 'Asian'][col].values, \n",
    "                                   mapping_file[mapping_file['Origin'] == 'African'][col].values)\n",
    "    f_stats_4.append(H)\n",
    "    p_values_4.append(pval)\n",
    "anova_df = pd.DataFrame({'Measurement': columns,'F stat (G)':f_stats_1,'P value (G)':p_values_1,\n",
    "                         'F stat (F)':f_stats_2,'P value (F)':p_values_2,\n",
    "                         'F stat (GxF)':f_stats_3,'P value (GxF)':p_values_3,\n",
    "                        'H stat (Origin)':f_stats_4,'P value (Origin)':p_values_4})\n",
    "anova_df = anova_df.replace({'shoot_mass': 'Shoot mass','root_mass':'Root mass', 'total_mass':'Total mass',\n",
    "                 'ratio_root_to_shoot':'Root/shoot ratio','root_colonization':'Root colonization',\n",
    "                  'inoculum':'Inoculum', 'AvgDiam':'Diameter (avg)', 'SurfArea':'Surface area',\n",
    "                    'total_biomass_esponse':'Total biomass response', 'root_biomass_response':'Root biomass response',\n",
    "                             'shoot_biomass_response':'Shoot biomass response'})\n",
    "for col in ['F stat (G)','F stat (F)','F stat (GxF)','H stat (Origin)']:\n",
    "    anova_df[col] = [round(x, 1) for x in anova_df[col]]\n",
    "for col in ['P value (G)', 'P value (F)','P value (GxF)','P value (Origin)']:\n",
    "    anova_df[col] = anova_df[col].astype('float')\n",
    "    anova_df[col] = [str(round(x, 3)) if x > 0.001 else '< 0.001' for x in anova_df[col]]\n",
    "anova_df.head()"
   ]
  },
  {
   "cell_type": "code",
   "execution_count": 10,
   "id": "993a21b2",
   "metadata": {},
   "outputs": [
    {
     "data": {
      "text/html": [
       "<div>\n",
       "<style scoped>\n",
       "    .dataframe tbody tr th:only-of-type {\n",
       "        vertical-align: middle;\n",
       "    }\n",
       "\n",
       "    .dataframe tbody tr th {\n",
       "        vertical-align: top;\n",
       "    }\n",
       "\n",
       "    .dataframe thead th {\n",
       "        text-align: right;\n",
       "    }\n",
       "</style>\n",
       "<table border=\"1\" class=\"dataframe\">\n",
       "  <thead>\n",
       "    <tr style=\"text-align: right;\">\n",
       "      <th></th>\n",
       "      <th>Measurement</th>\n",
       "      <th>F stat (G)</th>\n",
       "      <th>P value (G)</th>\n",
       "      <th>F stat (F)</th>\n",
       "      <th>P value (F)</th>\n",
       "      <th>F stat (GxF)</th>\n",
       "      <th>P value (GxF)</th>\n",
       "      <th>F stat (Origin)</th>\n",
       "      <th>P value (Origin)</th>\n",
       "    </tr>\n",
       "  </thead>\n",
       "  <tbody>\n",
       "    <tr>\n",
       "      <th>0</th>\n",
       "      <td>Shoot mass</td>\n",
       "      <td>10.9</td>\n",
       "      <td>&lt; 0.001</td>\n",
       "      <td>15.2</td>\n",
       "      <td>&lt; 0.001</td>\n",
       "      <td>1.9</td>\n",
       "      <td>0.015</td>\n",
       "      <td>14.8</td>\n",
       "      <td>&lt; 0.001</td>\n",
       "    </tr>\n",
       "    <tr>\n",
       "      <th>1</th>\n",
       "      <td>Root mass</td>\n",
       "      <td>6.8</td>\n",
       "      <td>&lt; 0.001</td>\n",
       "      <td>0.1</td>\n",
       "      <td>0.932</td>\n",
       "      <td>1.3</td>\n",
       "      <td>0.213</td>\n",
       "      <td>10.3</td>\n",
       "      <td>0.002</td>\n",
       "    </tr>\n",
       "    <tr>\n",
       "      <th>2</th>\n",
       "      <td>Total mass</td>\n",
       "      <td>11.1</td>\n",
       "      <td>&lt; 0.001</td>\n",
       "      <td>3.6</td>\n",
       "      <td>0.031</td>\n",
       "      <td>1.4</td>\n",
       "      <td>0.126</td>\n",
       "      <td>18.3</td>\n",
       "      <td>&lt; 0.001</td>\n",
       "    </tr>\n",
       "    <tr>\n",
       "      <th>3</th>\n",
       "      <td>Root/shoot ratio</td>\n",
       "      <td>4.0</td>\n",
       "      <td>&lt; 0.001</td>\n",
       "      <td>3.5</td>\n",
       "      <td>0.034</td>\n",
       "      <td>1.4</td>\n",
       "      <td>0.131</td>\n",
       "      <td>1.1</td>\n",
       "      <td>0.3</td>\n",
       "    </tr>\n",
       "    <tr>\n",
       "      <th>4</th>\n",
       "      <td>Root colonization</td>\n",
       "      <td>1.7</td>\n",
       "      <td>0.082</td>\n",
       "      <td>0.1</td>\n",
       "      <td>0.892</td>\n",
       "      <td>0.8</td>\n",
       "      <td>0.758</td>\n",
       "      <td>2.6</td>\n",
       "      <td>0.109</td>\n",
       "    </tr>\n",
       "  </tbody>\n",
       "</table>\n",
       "</div>"
      ],
      "text/plain": [
       "         Measurement  F stat (G) P value (G)  F stat (F) P value (F)  \\\n",
       "0         Shoot mass        10.9     < 0.001        15.2     < 0.001   \n",
       "1          Root mass         6.8     < 0.001         0.1       0.932   \n",
       "2         Total mass        11.1     < 0.001         3.6       0.031   \n",
       "3   Root/shoot ratio         4.0     < 0.001         3.5       0.034   \n",
       "4  Root colonization         1.7       0.082         0.1       0.892   \n",
       "\n",
       "   F stat (GxF) P value (GxF)  F stat (Origin) P value (Origin)  \n",
       "0           1.9         0.015             14.8          < 0.001  \n",
       "1           1.3         0.213             10.3            0.002  \n",
       "2           1.4         0.126             18.3          < 0.001  \n",
       "3           1.4         0.131              1.1              0.3  \n",
       "4           0.8         0.758              2.6            0.109  "
      ]
     },
     "execution_count": 10,
     "metadata": {},
     "output_type": "execute_result"
    }
   ],
   "source": [
    "# ANOVA\n",
    "\n",
    "p_values_1 = []\n",
    "p_values_2 = []\n",
    "p_values_3 = []\n",
    "p_values_4 = []\n",
    "f_stats_1 = []\n",
    "f_stats_2 = []\n",
    "f_stats_3 = []\n",
    "f_stats_4 = []\n",
    "columns = ['shoot_mass', 'root_mass', 'total_mass', 'ratio_root_to_shoot',\n",
    "       'root_colonization', 'total_biomass_esponse', 'root_biomass_response','shoot_biomass_response', 'TN',\n",
    "       'P', 'Ca', 'K', 'Mg', 'Na', 'S', 'Fe', 'Zn', 'Cu', 'Mn', 'Length',\n",
    "       'AvgDiam', 'Forks', 'SurfArea']\n",
    "for col in columns:\n",
    "#     print(col)\n",
    "    model = ols(col + ' ~ C(genotype_1) + C(fertility_1) + C(genotype_1):C(fertility_1)', data=mapping_file).fit()\n",
    "    anova_table = sm.stats.anova_lm(model, typ=2)\n",
    "    f_stats_1.append(anova_table['F'][0])\n",
    "    f_stats_2.append(anova_table['F'][1])\n",
    "    f_stats_3.append(anova_table['F'][2])\n",
    "    p_values_1.append(anova_table['PR(>F)'][0])\n",
    "    p_values_2.append(anova_table['PR(>F)'][1])\n",
    "    p_values_3.append(anova_table['PR(>F)'][2])\n",
    "    \n",
    "    model = ols(col + ' ~ C(Origin)', data=mapping_file).fit()\n",
    "    anova_table = sm.stats.anova_lm(model, typ=2)\n",
    "    f_stats_4.append(anova_table['F'][0])\n",
    "    p_values_4.append(anova_table['PR(>F)'][0])\n",
    "anova_df = pd.DataFrame({'Measurement': columns,'F stat (G)':f_stats_1,'P value (G)':p_values_1,\n",
    "                         'F stat (F)':f_stats_2,'P value (F)':p_values_2,\n",
    "                         'F stat (GxF)':f_stats_3,'P value (GxF)':p_values_3,\n",
    "                        'F stat (Origin)':f_stats_4,'P value (Origin)':p_values_4})\n",
    "anova_df = anova_df.replace({'shoot_mass': 'Shoot mass','root_mass':'Root mass', 'total_mass':'Total mass',\n",
    "                 'ratio_root_to_shoot':'Root/shoot ratio','root_colonization':'Root colonization',\n",
    "                  'inoculum':'Inoculum', 'AvgDiam':'Diameter (avg)', 'SurfArea':'Surface area',\n",
    "                    'total_biomass_esponse':'Total biomass response', 'root_biomass_response':'Root biomass response',\n",
    "                             'shoot_biomass_response':'Shoot biomass response'})\n",
    "for col in ['F stat (G)','F stat (F)','F stat (GxF)','F stat (Origin)']:\n",
    "    anova_df[col] = [round(x, 1) for x in anova_df[col]]\n",
    "for col in ['P value (G)', 'P value (F)','P value (GxF)','P value (Origin)']:\n",
    "    anova_df[col] = anova_df[col].astype('float')\n",
    "    anova_df[col] = [str(round(x, 3)) if x > 0.001 else '< 0.001' for x in anova_df[col]]\n",
    "anova_df.head()"
   ]
  },
  {
   "cell_type": "code",
   "execution_count": 21,
   "id": "4f7993b3",
   "metadata": {},
   "outputs": [],
   "source": [
    "anova_df.to_csv('../Data/genotypexfertility_anova_table_origin_KW.csv', index=False)"
   ]
  },
  {
   "cell_type": "code",
   "execution_count": 12,
   "id": "57801978",
   "metadata": {},
   "outputs": [
    {
     "data": {
      "text/plain": [
       "<AxesSubplot:xlabel='Origin', ylabel='shoot_biomass_response'>"
      ]
     },
     "execution_count": 12,
     "metadata": {},
     "output_type": "execute_result"
    },
    {
     "data": {
      "image/png": "[encoded data removed]",
      "text/plain": [
       "<Figure size 432x288 with 1 Axes>"
      ]
     },
     "metadata": {
      "needs_background": "light"
     },
     "output_type": "display_data"
    }
   ],
   "source": [
    "sns.boxplot(y = 'shoot_biomass_response', x = 'Origin', data = mapping_file)"
   ]
  },
  {
   "cell_type": "code",
   "execution_count": 15,
   "id": "84385b36",
   "metadata": {},
   "outputs": [
    {
     "data": {
      "text/plain": [
       "(0.0, 60.0)"
      ]
     },
     "execution_count": 15,
     "metadata": {},
     "output_type": "execute_result"
    },
    {
     "data": {
      "image/png": "[encoded data removed]",
      "text/plain": [
       "<Figure size 432x288 with 1 Axes>"
      ]
     },
     "metadata": {
      "needs_background": "light"
     },
     "output_type": "display_data"
    }
   ],
   "source": [
    "sns.boxplot(y = 'total_mass', x = 'Origin', data = mapping_file)\n",
    "plt.ylim(0,60)"
   ]
  },
  {
   "cell_type": "code",
   "execution_count": 10,
   "id": "4e21a6b6",
   "metadata": {},
   "outputs": [
    {
     "data": {
      "text/plain": [
       "<AxesSubplot:xlabel='genotype_1', ylabel='shoot_biomass_response'>"
      ]
     },
     "execution_count": 10,
     "metadata": {},
     "output_type": "execute_result"
    },
    {
     "data": {
      "image/png": "[encoded data removed]",
      "text/plain": [
       "<Figure size 432x288 with 1 Axes>"
      ]
     },
     "metadata": {
      "needs_background": "light"
     },
     "output_type": "display_data"
    }
   ],
   "source": [
    "sns.boxplot(y = 'shoot_biomass_response', x = 'genotype_1', data = mapping_file)\n",
    "# plt.ylim([0,2])"
   ]
  },
  {
   "cell_type": "code",
   "execution_count": 20,
   "id": "518eec45",
   "metadata": {},
   "outputs": [
    {
     "data": {
      "text/plain": [
       "<AxesSubplot:xlabel='fertility_1', ylabel='total_biomass_esponse'>"
      ]
     },
     "execution_count": 20,
     "metadata": {},
     "output_type": "execute_result"
    },
    {
     "data": {
      "image/png": "[encoded data removed]",
      "text/plain": [
       "<Figure size 432x288 with 1 Axes>"
      ]
     },
     "metadata": {
      "needs_background": "light"
     },
     "output_type": "display_data"
    }
   ],
   "source": [
    "sns.boxplot(y = 'total_biomass_esponse', x = 'fertility_1', data = mapping_file[mapping_file['genotype_1'] == 4],\n",
    "           order = ['P','PP','PPP'])\n",
    "# plt.ylim([0,35])"
   ]
  },
  {
   "cell_type": "code",
   "execution_count": 27,
   "id": "d2f26181",
   "metadata": {},
   "outputs": [
    {
     "data": {
      "text/plain": [
       "<AxesSubplot:xlabel='genotype_1', ylabel='Na'>"
      ]
     },
     "execution_count": 27,
     "metadata": {},
     "output_type": "execute_result"
    },
    {
     "data": {
      "image/png": "[encoded data removed]",
      "text/plain": [
       "<Figure size 432x288 with 1 Axes>"
      ]
     },
     "metadata": {
      "needs_background": "light"
     },
     "output_type": "display_data"
    }
   ],
   "source": [
    "sns.boxplot(y = 'Na', x = 'genotype_1', data = mapping_file[mapping_file['fertility_1'] == 'P'])\n",
    "# plt.ylim([0,35])"
   ]
  },
  {
   "cell_type": "code",
   "execution_count": 15,
   "id": "003decc0",
   "metadata": {},
   "outputs": [
    {
     "data": {
      "text/plain": [
       "<AxesSubplot:xlabel='genotype_1', ylabel='shoot_biomass_response'>"
      ]
     },
     "execution_count": 15,
     "metadata": {},
     "output_type": "execute_result"
    },
    {
     "data": {
      "image/png": "[encoded data removed]",
      "text/plain": [
       "<Figure size 432x288 with 1 Axes>"
      ]
     },
     "metadata": {
      "needs_background": "light"
     },
     "output_type": "display_data"
    }
   ],
   "source": [
    "sns.boxplot(y = 'shoot_biomass_response', x = 'genotype_1', data = mapping_file)\n",
    "# plt.ylim([0,35])"
   ]
  },
  {
   "cell_type": "code",
   "execution_count": null,
   "id": "cb2e48a9",
   "metadata": {},
   "outputs": [],
   "source": []
  }
 ],
 "metadata": {
  "kernelspec": {
   "display_name": "Python 3",
   "language": "python",
   "name": "python3"
  },
  "language_info": {
   "codemirror_mode": {
    "name": "ipython",
    "version": 3
   },
   "file_extension": ".py",
   "mimetype": "text/x-python",
   "name": "python",
   "nbconvert_exporter": "python",
   "pygments_lexer": "ipython3",
   "version": "3.6.12"
  }
 },
 "nbformat": 4,
 "nbformat_minor": 5
}
